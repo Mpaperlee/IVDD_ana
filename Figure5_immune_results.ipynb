{
 "cells": [
  {
   "cell_type": "code",
   "execution_count": 1,
   "id": "bf66ca55",
   "metadata": {},
   "outputs": [],
   "source": [
    "suppressMessages({\n",
    "    library(Seurat)\n",
    "    library(SeuratWrappers)\n",
    "    library(tidyverse)\n",
    "    library(harmony)\n",
    "    library(ggrepel)\n",
    "    library(ggrastr)\n",
    "    library(magrittr)\n",
    "    # GO enrich use packages\n",
    "    library(DOSE)\n",
    "    library(clusterProfiler)\n",
    "    library(org.Hs.eg.db)\n",
    "    library(ggplot2)\n",
    "    library(dplyr)\n",
    "    library(topGO)\n",
    "    library(GSEABase)\n",
    "    library(stringr)\n",
    "    library(RColorBrewer)\n",
    "    ## RNA velocity\n",
    "    library(velocyto.R)\n",
    "})"
   ]
  },
  {
   "cell_type": "code",
   "execution_count": 2,
   "id": "b4f95490",
   "metadata": {},
   "outputs": [],
   "source": [
    "suppressMessages(\n",
    "    source(\"~/project/2020-6-18-IVDD_scRNA/scripts/R_scripts/preferable_scripts/common_use_functions.R\")\n",
    ")  "
   ]
  },
  {
   "cell_type": "code",
   "execution_count": 92,
   "id": "cf1843ef",
   "metadata": {},
   "outputs": [],
   "source": [
    "save.image(\"/mnt/data/home/lzz/project/2020-6-18-IVDD_scRNA/plots/paper_plots/tmp_new_Fig4_immune.RData\")"
   ]
  },
  {
   "cell_type": "code",
   "execution_count": 3,
   "id": "24218231",
   "metadata": {},
   "outputs": [],
   "source": [
    "load(\"/mnt/data/home/lzz/project/2020-6-18-IVDD_scRNA/plots/paper_plots/tmp_new_Fig4_immune.RData\")"
   ]
  },
  {
   "cell_type": "code",
   "execution_count": 4,
   "id": "6191eed6",
   "metadata": {},
   "outputs": [],
   "source": [
    "options(repr.plot.width=14, repr.plot.height=10)"
   ]
  },
  {
   "cell_type": "markdown",
   "id": "43d86cd4",
   "metadata": {},
   "source": [
    "# remove neural progenitor and re-plot"
   ]
  },
  {
   "cell_type": "code",
   "execution_count": 6,
   "id": "2fc4e207",
   "metadata": {},
   "outputs": [],
   "source": [
    "immune.seu <- readRDS(\"/mnt/data/home/lzz/project/2020-6-18-IVDD_scRNA/results/combin_results/new_results/immune/new_noC03_immune2_SeuratObj.Rds\")"
   ]
  },
  {
   "cell_type": "code",
   "execution_count": 7,
   "id": "d71516d9",
   "metadata": {},
   "outputs": [
    {
     "data": {
      "text/html": [
       "<style>\n",
       ".list-inline {list-style: none; margin:0; padding: 0}\n",
       ".list-inline>li {display: inline-block}\n",
       ".list-inline>li:not(:last-child)::after {content: \"\\00b7\"; padding: 0 .5ex}\n",
       "</style>\n",
       "<ol class=list-inline><li>Transitional B</li><li>CSTA+ Monocyte</li><li>CAMP+ Neutrophic</li><li>Plasmacytoid dendritic cell</li><li>EREG+ Monocyte</li><li>MZ B</li><li>CMTM2+ Neutrophic</li><li>Effector CD8+ T</li><li>Plasma B</li><li>GMP</li><li>Memory CD8+ T</li><li>Naive CD8+ T</li><li>C1QA+ Macrophage</li><li>HAPLN1+ Progenitor</li><li>Neural Progenitor</li><li>Memory B</li><li>HLA+ Monocyte</li><li>CCL3+ Macrophage</li><li>NR4A2+ Macrophage</li><li>MD DC</li><li>IL1B+ Monocyte</li><li>Mast</li><li>SPP1+ Macrophage</li></ol>\n",
       "\n",
       "<details>\n",
       "\t<summary style=display:list-item;cursor:pointer>\n",
       "\t\t<strong>Levels</strong>:\n",
       "\t</summary>\n",
       "\t<style>\n",
       "\t.list-inline {list-style: none; margin:0; padding: 0}\n",
       "\t.list-inline>li {display: inline-block}\n",
       "\t.list-inline>li:not(:last-child)::after {content: \"\\00b7\"; padding: 0 .5ex}\n",
       "\t</style>\n",
       "\t<ol class=list-inline><li>'Transitional B'</li><li>'CSTA+ Monocyte'</li><li>'CAMP+ Neutrophic'</li><li>'Plasmacytoid dendritic cell'</li><li>'EREG+ Monocyte'</li><li>'MZ B'</li><li>'CMTM2+ Neutrophic'</li><li>'Effector CD8+ T'</li><li>'Plasma B'</li><li>'GMP'</li><li>'Memory CD8+ T'</li><li>'Naive CD8+ T'</li><li>'C1QA+ Macrophage'</li><li>'HAPLN1+ Progenitor'</li><li>'Neural Progenitor'</li><li>'Memory B'</li><li>'HLA+ Monocyte'</li><li>'CCL3+ Macrophage'</li><li>'NR4A2+ Macrophage'</li><li>'MD DC'</li><li>'IL1B+ Monocyte'</li><li>'Mast'</li><li>'SPP1+ Macrophage'</li></ol>\n",
       "</details>"
      ],
      "text/latex": [
       "\\begin{enumerate*}\n",
       "\\item Transitional B\n",
       "\\item CSTA+ Monocyte\n",
       "\\item CAMP+ Neutrophic\n",
       "\\item Plasmacytoid dendritic cell\n",
       "\\item EREG+ Monocyte\n",
       "\\item MZ B\n",
       "\\item CMTM2+ Neutrophic\n",
       "\\item Effector CD8+ T\n",
       "\\item Plasma B\n",
       "\\item GMP\n",
       "\\item Memory CD8+ T\n",
       "\\item Naive CD8+ T\n",
       "\\item C1QA+ Macrophage\n",
       "\\item HAPLN1+ Progenitor\n",
       "\\item Neural Progenitor\n",
       "\\item Memory B\n",
       "\\item HLA+ Monocyte\n",
       "\\item CCL3+ Macrophage\n",
       "\\item NR4A2+ Macrophage\n",
       "\\item MD DC\n",
       "\\item IL1B+ Monocyte\n",
       "\\item Mast\n",
       "\\item SPP1+ Macrophage\n",
       "\\end{enumerate*}\n",
       "\n",
       "\\emph{Levels}: \\begin{enumerate*}\n",
       "\\item 'Transitional B'\n",
       "\\item 'CSTA+ Monocyte'\n",
       "\\item 'CAMP+ Neutrophic'\n",
       "\\item 'Plasmacytoid dendritic cell'\n",
       "\\item 'EREG+ Monocyte'\n",
       "\\item 'MZ B'\n",
       "\\item 'CMTM2+ Neutrophic'\n",
       "\\item 'Effector CD8+ T'\n",
       "\\item 'Plasma B'\n",
       "\\item 'GMP'\n",
       "\\item 'Memory CD8+ T'\n",
       "\\item 'Naive CD8+ T'\n",
       "\\item 'C1QA+ Macrophage'\n",
       "\\item 'HAPLN1+ Progenitor'\n",
       "\\item 'Neural Progenitor'\n",
       "\\item 'Memory B'\n",
       "\\item 'HLA+ Monocyte'\n",
       "\\item 'CCL3+ Macrophage'\n",
       "\\item 'NR4A2+ Macrophage'\n",
       "\\item 'MD DC'\n",
       "\\item 'IL1B+ Monocyte'\n",
       "\\item 'Mast'\n",
       "\\item 'SPP1+ Macrophage'\n",
       "\\end{enumerate*}\n"
      ],
      "text/markdown": [
       "1. Transitional B\n",
       "2. CSTA+ Monocyte\n",
       "3. CAMP+ Neutrophic\n",
       "4. Plasmacytoid dendritic cell\n",
       "5. EREG+ Monocyte\n",
       "6. MZ B\n",
       "7. CMTM2+ Neutrophic\n",
       "8. Effector CD8+ T\n",
       "9. Plasma B\n",
       "10. GMP\n",
       "11. Memory CD8+ T\n",
       "12. Naive CD8+ T\n",
       "13. C1QA+ Macrophage\n",
       "14. HAPLN1+ Progenitor\n",
       "15. Neural Progenitor\n",
       "16. Memory B\n",
       "17. HLA+ Monocyte\n",
       "18. CCL3+ Macrophage\n",
       "19. NR4A2+ Macrophage\n",
       "20. MD DC\n",
       "21. IL1B+ Monocyte\n",
       "22. Mast\n",
       "23. SPP1+ Macrophage\n",
       "\n",
       "\n",
       "\n",
       "**Levels**: 1. 'Transitional B'\n",
       "2. 'CSTA+ Monocyte'\n",
       "3. 'CAMP+ Neutrophic'\n",
       "4. 'Plasmacytoid dendritic cell'\n",
       "5. 'EREG+ Monocyte'\n",
       "6. 'MZ B'\n",
       "7. 'CMTM2+ Neutrophic'\n",
       "8. 'Effector CD8+ T'\n",
       "9. 'Plasma B'\n",
       "10. 'GMP'\n",
       "11. 'Memory CD8+ T'\n",
       "12. 'Naive CD8+ T'\n",
       "13. 'C1QA+ Macrophage'\n",
       "14. 'HAPLN1+ Progenitor'\n",
       "15. 'Neural Progenitor'\n",
       "16. 'Memory B'\n",
       "17. 'HLA+ Monocyte'\n",
       "18. 'CCL3+ Macrophage'\n",
       "19. 'NR4A2+ Macrophage'\n",
       "20. 'MD DC'\n",
       "21. 'IL1B+ Monocyte'\n",
       "22. 'Mast'\n",
       "23. 'SPP1+ Macrophage'\n",
       "\n",
       "\n"
      ],
      "text/plain": [
       " [1] Transitional B              CSTA+ Monocyte             \n",
       " [3] CAMP+ Neutrophic            Plasmacytoid dendritic cell\n",
       " [5] EREG+ Monocyte              MZ B                       \n",
       " [7] CMTM2+ Neutrophic           Effector CD8+ T            \n",
       " [9] Plasma B                    GMP                        \n",
       "[11] Memory CD8+ T               Naive CD8+ T               \n",
       "[13] C1QA+ Macrophage            HAPLN1+ Progenitor         \n",
       "[15] Neural Progenitor           Memory B                   \n",
       "[17] HLA+ Monocyte               CCL3+ Macrophage           \n",
       "[19] NR4A2+ Macrophage           MD DC                      \n",
       "[21] IL1B+ Monocyte              Mast                       \n",
       "[23] SPP1+ Macrophage           \n",
       "23 Levels: Transitional B CSTA+ Monocyte ... SPP1+ Macrophage"
      ]
     },
     "metadata": {},
     "output_type": "display_data"
    }
   ],
   "source": [
    "Idents(immune.seu) %>% unique()"
   ]
  },
  {
   "cell_type": "code",
   "execution_count": 9,
   "id": "d02bbc19",
   "metadata": {},
   "outputs": [
    {
     "data": {
      "text/html": [
       "<style>\n",
       ".list-inline {list-style: none; margin:0; padding: 0}\n",
       ".list-inline>li {display: inline-block}\n",
       ".list-inline>li:not(:last-child)::after {content: \"\\00b7\"; padding: 0 .5ex}\n",
       "</style>\n",
       "<ol class=list-inline><li>'Transitional B'</li><li>'CSTA+ Monocyte'</li><li>'CAMP+ Neutrophic'</li><li>'Plasmacytoid dendritic cell'</li><li>'EREG+ Monocyte'</li><li>'MZ B'</li><li>'CMTM2+ Neutrophic'</li><li>'Effector CD8+ T'</li><li>'Plasma B'</li><li>'GMP'</li><li>'Memory CD8+ T'</li><li>'Naive CD8+ T'</li><li>'C1QA+ Macrophage'</li><li>'HAPLN1+ Progenitor'</li><li>'Neural Progenitor'</li><li>'Memory B'</li><li>'HLA+ Monocyte'</li><li>'CCL3+ Macrophage'</li><li>'NR4A2+ Macrophage'</li><li>'MD DC'</li><li>'IL1B+ Monocyte'</li><li>'Mast'</li><li>'SPP1+ Macrophage'</li></ol>\n"
      ],
      "text/latex": [
       "\\begin{enumerate*}\n",
       "\\item 'Transitional B'\n",
       "\\item 'CSTA+ Monocyte'\n",
       "\\item 'CAMP+ Neutrophic'\n",
       "\\item 'Plasmacytoid dendritic cell'\n",
       "\\item 'EREG+ Monocyte'\n",
       "\\item 'MZ B'\n",
       "\\item 'CMTM2+ Neutrophic'\n",
       "\\item 'Effector CD8+ T'\n",
       "\\item 'Plasma B'\n",
       "\\item 'GMP'\n",
       "\\item 'Memory CD8+ T'\n",
       "\\item 'Naive CD8+ T'\n",
       "\\item 'C1QA+ Macrophage'\n",
       "\\item 'HAPLN1+ Progenitor'\n",
       "\\item 'Neural Progenitor'\n",
       "\\item 'Memory B'\n",
       "\\item 'HLA+ Monocyte'\n",
       "\\item 'CCL3+ Macrophage'\n",
       "\\item 'NR4A2+ Macrophage'\n",
       "\\item 'MD DC'\n",
       "\\item 'IL1B+ Monocyte'\n",
       "\\item 'Mast'\n",
       "\\item 'SPP1+ Macrophage'\n",
       "\\end{enumerate*}\n"
      ],
      "text/markdown": [
       "1. 'Transitional B'\n",
       "2. 'CSTA+ Monocyte'\n",
       "3. 'CAMP+ Neutrophic'\n",
       "4. 'Plasmacytoid dendritic cell'\n",
       "5. 'EREG+ Monocyte'\n",
       "6. 'MZ B'\n",
       "7. 'CMTM2+ Neutrophic'\n",
       "8. 'Effector CD8+ T'\n",
       "9. 'Plasma B'\n",
       "10. 'GMP'\n",
       "11. 'Memory CD8+ T'\n",
       "12. 'Naive CD8+ T'\n",
       "13. 'C1QA+ Macrophage'\n",
       "14. 'HAPLN1+ Progenitor'\n",
       "15. 'Neural Progenitor'\n",
       "16. 'Memory B'\n",
       "17. 'HLA+ Monocyte'\n",
       "18. 'CCL3+ Macrophage'\n",
       "19. 'NR4A2+ Macrophage'\n",
       "20. 'MD DC'\n",
       "21. 'IL1B+ Monocyte'\n",
       "22. 'Mast'\n",
       "23. 'SPP1+ Macrophage'\n",
       "\n",
       "\n"
      ],
      "text/plain": [
       " [1] \"Transitional B\"              \"CSTA+ Monocyte\"             \n",
       " [3] \"CAMP+ Neutrophic\"            \"Plasmacytoid dendritic cell\"\n",
       " [5] \"EREG+ Monocyte\"              \"MZ B\"                       \n",
       " [7] \"CMTM2+ Neutrophic\"           \"Effector CD8+ T\"            \n",
       " [9] \"Plasma B\"                    \"GMP\"                        \n",
       "[11] \"Memory CD8+ T\"               \"Naive CD8+ T\"               \n",
       "[13] \"C1QA+ Macrophage\"            \"HAPLN1+ Progenitor\"         \n",
       "[15] \"Neural Progenitor\"           \"Memory B\"                   \n",
       "[17] \"HLA+ Monocyte\"               \"CCL3+ Macrophage\"           \n",
       "[19] \"NR4A2+ Macrophage\"           \"MD DC\"                      \n",
       "[21] \"IL1B+ Monocyte\"              \"Mast\"                       \n",
       "[23] \"SPP1+ Macrophage\"           "
      ]
     },
     "metadata": {},
     "output_type": "display_data"
    }
   ],
   "source": [
    "immune.seu$new.immune.ct %>% unique()"
   ]
  },
  {
   "cell_type": "code",
   "execution_count": 10,
   "id": "a63d66b0",
   "metadata": {},
   "outputs": [],
   "source": [
    "immune.seu <- subset(immune.seu, idents = unique(immune.seu$new.immune.ct)[!(unique(immune.seu$new.immune.ct) %in% c(\"Neural Progenitor\"))] )"
   ]
  },
  {
   "cell_type": "code",
   "execution_count": 5,
   "id": "375f731b",
   "metadata": {},
   "outputs": [
    {
     "data": {
      "text/html": [
       "<style>\n",
       ".list-inline {list-style: none; margin:0; padding: 0}\n",
       ".list-inline>li {display: inline-block}\n",
       ".list-inline>li:not(:last-child)::after {content: \"\\00b7\"; padding: 0 .5ex}\n",
       "</style>\n",
       "<ol class=list-inline><li>Transitional B</li><li>CSTA+ Monocyte</li><li>CAMP+ Neutrophic</li><li>Plasmacytoid dendritic cell</li><li>EREG+ Monocyte</li><li>MZ B</li><li>CMTM2+ Neutrophic</li><li>Effector CD8+ T</li><li>Plasma B</li><li>GMP</li><li>Memory CD8+ T</li><li>Naive CD8+ T</li><li>C1QA+ Macrophage</li><li>HAPLN1+ Progenitor</li><li>Memory B</li><li>HLA+ Monocyte</li><li>CCL3+ Macrophage</li><li>NR4A2+ Macrophage</li><li>MD DC</li><li>IL1B+ Monocyte</li><li>Mast</li><li>SPP1+ Macrophage</li></ol>\n",
       "\n",
       "<details>\n",
       "\t<summary style=display:list-item;cursor:pointer>\n",
       "\t\t<strong>Levels</strong>:\n",
       "\t</summary>\n",
       "\t<style>\n",
       "\t.list-inline {list-style: none; margin:0; padding: 0}\n",
       "\t.list-inline>li {display: inline-block}\n",
       "\t.list-inline>li:not(:last-child)::after {content: \"\\00b7\"; padding: 0 .5ex}\n",
       "\t</style>\n",
       "\t<ol class=list-inline><li>'Transitional B'</li><li>'CSTA+ Monocyte'</li><li>'CAMP+ Neutrophic'</li><li>'Plasmacytoid dendritic cell'</li><li>'EREG+ Monocyte'</li><li>'MZ B'</li><li>'CMTM2+ Neutrophic'</li><li>'Effector CD8+ T'</li><li>'Plasma B'</li><li>'GMP'</li><li>'Memory CD8+ T'</li><li>'Naive CD8+ T'</li><li>'C1QA+ Macrophage'</li><li>'HAPLN1+ Progenitor'</li><li>'Memory B'</li><li>'HLA+ Monocyte'</li><li>'CCL3+ Macrophage'</li><li>'NR4A2+ Macrophage'</li><li>'MD DC'</li><li>'IL1B+ Monocyte'</li><li>'Mast'</li><li>'SPP1+ Macrophage'</li></ol>\n",
       "</details>"
      ],
      "text/latex": [
       "\\begin{enumerate*}\n",
       "\\item Transitional B\n",
       "\\item CSTA+ Monocyte\n",
       "\\item CAMP+ Neutrophic\n",
       "\\item Plasmacytoid dendritic cell\n",
       "\\item EREG+ Monocyte\n",
       "\\item MZ B\n",
       "\\item CMTM2+ Neutrophic\n",
       "\\item Effector CD8+ T\n",
       "\\item Plasma B\n",
       "\\item GMP\n",
       "\\item Memory CD8+ T\n",
       "\\item Naive CD8+ T\n",
       "\\item C1QA+ Macrophage\n",
       "\\item HAPLN1+ Progenitor\n",
       "\\item Memory B\n",
       "\\item HLA+ Monocyte\n",
       "\\item CCL3+ Macrophage\n",
       "\\item NR4A2+ Macrophage\n",
       "\\item MD DC\n",
       "\\item IL1B+ Monocyte\n",
       "\\item Mast\n",
       "\\item SPP1+ Macrophage\n",
       "\\end{enumerate*}\n",
       "\n",
       "\\emph{Levels}: \\begin{enumerate*}\n",
       "\\item 'Transitional B'\n",
       "\\item 'CSTA+ Monocyte'\n",
       "\\item 'CAMP+ Neutrophic'\n",
       "\\item 'Plasmacytoid dendritic cell'\n",
       "\\item 'EREG+ Monocyte'\n",
       "\\item 'MZ B'\n",
       "\\item 'CMTM2+ Neutrophic'\n",
       "\\item 'Effector CD8+ T'\n",
       "\\item 'Plasma B'\n",
       "\\item 'GMP'\n",
       "\\item 'Memory CD8+ T'\n",
       "\\item 'Naive CD8+ T'\n",
       "\\item 'C1QA+ Macrophage'\n",
       "\\item 'HAPLN1+ Progenitor'\n",
       "\\item 'Memory B'\n",
       "\\item 'HLA+ Monocyte'\n",
       "\\item 'CCL3+ Macrophage'\n",
       "\\item 'NR4A2+ Macrophage'\n",
       "\\item 'MD DC'\n",
       "\\item 'IL1B+ Monocyte'\n",
       "\\item 'Mast'\n",
       "\\item 'SPP1+ Macrophage'\n",
       "\\end{enumerate*}\n"
      ],
      "text/markdown": [
       "1. Transitional B\n",
       "2. CSTA+ Monocyte\n",
       "3. CAMP+ Neutrophic\n",
       "4. Plasmacytoid dendritic cell\n",
       "5. EREG+ Monocyte\n",
       "6. MZ B\n",
       "7. CMTM2+ Neutrophic\n",
       "8. Effector CD8+ T\n",
       "9. Plasma B\n",
       "10. GMP\n",
       "11. Memory CD8+ T\n",
       "12. Naive CD8+ T\n",
       "13. C1QA+ Macrophage\n",
       "14. HAPLN1+ Progenitor\n",
       "15. Memory B\n",
       "16. HLA+ Monocyte\n",
       "17. CCL3+ Macrophage\n",
       "18. NR4A2+ Macrophage\n",
       "19. MD DC\n",
       "20. IL1B+ Monocyte\n",
       "21. Mast\n",
       "22. SPP1+ Macrophage\n",
       "\n",
       "\n",
       "\n",
       "**Levels**: 1. 'Transitional B'\n",
       "2. 'CSTA+ Monocyte'\n",
       "3. 'CAMP+ Neutrophic'\n",
       "4. 'Plasmacytoid dendritic cell'\n",
       "5. 'EREG+ Monocyte'\n",
       "6. 'MZ B'\n",
       "7. 'CMTM2+ Neutrophic'\n",
       "8. 'Effector CD8+ T'\n",
       "9. 'Plasma B'\n",
       "10. 'GMP'\n",
       "11. 'Memory CD8+ T'\n",
       "12. 'Naive CD8+ T'\n",
       "13. 'C1QA+ Macrophage'\n",
       "14. 'HAPLN1+ Progenitor'\n",
       "15. 'Memory B'\n",
       "16. 'HLA+ Monocyte'\n",
       "17. 'CCL3+ Macrophage'\n",
       "18. 'NR4A2+ Macrophage'\n",
       "19. 'MD DC'\n",
       "20. 'IL1B+ Monocyte'\n",
       "21. 'Mast'\n",
       "22. 'SPP1+ Macrophage'\n",
       "\n",
       "\n"
      ],
      "text/plain": [
       " [1] Transitional B              CSTA+ Monocyte             \n",
       " [3] CAMP+ Neutrophic            Plasmacytoid dendritic cell\n",
       " [5] EREG+ Monocyte              MZ B                       \n",
       " [7] CMTM2+ Neutrophic           Effector CD8+ T            \n",
       " [9] Plasma B                    GMP                        \n",
       "[11] Memory CD8+ T               Naive CD8+ T               \n",
       "[13] C1QA+ Macrophage            HAPLN1+ Progenitor         \n",
       "[15] Memory B                    HLA+ Monocyte              \n",
       "[17] CCL3+ Macrophage            NR4A2+ Macrophage          \n",
       "[19] MD DC                       IL1B+ Monocyte             \n",
       "[21] Mast                        SPP1+ Macrophage           \n",
       "22 Levels: Transitional B CSTA+ Monocyte ... SPP1+ Macrophage"
      ]
     },
     "metadata": {},
     "output_type": "display_data"
    }
   ],
   "source": [
    "Idents(immune.seu) %>% unique()"
   ]
  },
  {
   "cell_type": "code",
   "execution_count": 6,
   "id": "deccfc87",
   "metadata": {},
   "outputs": [
    {
     "data": {
      "text/html": [
       "<style>\n",
       ".list-inline {list-style: none; margin:0; padding: 0}\n",
       ".list-inline>li {display: inline-block}\n",
       ".list-inline>li:not(:last-child)::after {content: \"\\00b7\"; padding: 0 .5ex}\n",
       "</style>\n",
       "<ol class=list-inline><li>'B cell'</li><li>'Monocyte/Macrophage'</li><li>'Neutrophic'</li><li>'Plasmacytoid dendritic cell'</li><li>'CD8 T'</li><li>'Mast'</li></ol>\n"
      ],
      "text/latex": [
       "\\begin{enumerate*}\n",
       "\\item 'B cell'\n",
       "\\item 'Monocyte/Macrophage'\n",
       "\\item 'Neutrophic'\n",
       "\\item 'Plasmacytoid dendritic cell'\n",
       "\\item 'CD8 T'\n",
       "\\item 'Mast'\n",
       "\\end{enumerate*}\n"
      ],
      "text/markdown": [
       "1. 'B cell'\n",
       "2. 'Monocyte/Macrophage'\n",
       "3. 'Neutrophic'\n",
       "4. 'Plasmacytoid dendritic cell'\n",
       "5. 'CD8 T'\n",
       "6. 'Mast'\n",
       "\n",
       "\n"
      ],
      "text/plain": [
       "[1] \"B cell\"                      \"Monocyte/Macrophage\"        \n",
       "[3] \"Neutrophic\"                  \"Plasmacytoid dendritic cell\"\n",
       "[5] \"CD8 T\"                       \"Mast\"                       "
      ]
     },
     "metadata": {},
     "output_type": "display_data"
    }
   ],
   "source": [
    "unique(immune.seu$new.immune.ct.gen)"
   ]
  },
  {
   "cell_type": "code",
   "execution_count": 7,
   "id": "195d1f62",
   "metadata": {},
   "outputs": [],
   "source": [
    "Idents(immune.seu) <- immune.seu$new.immune.ct.gen"
   ]
  },
  {
   "cell_type": "code",
   "execution_count": 138,
   "id": "003d1faf",
   "metadata": {
    "collapsed": true
   },
   "outputs": [
    {
     "name": "stderr",
     "output_type": "stream",
     "text": [
      "Calculating cluster B cell\n",
      "\n",
      "\n",
      "Done!\n",
      "\n",
      "Combining coefficients and standard errors\n",
      "\n",
      "Calculating log-fold changes\n",
      "\n",
      "Calculating likelihood ratio tests\n",
      "\n",
      "Refitting on reduced model...\n",
      "\n",
      "\n",
      "Done!\n",
      "\n",
      "Calculating cluster Monocyte/Macrophage\n",
      "\n",
      "\n",
      "Done!\n",
      "\n",
      "Combining coefficients and standard errors\n",
      "\n",
      "Calculating log-fold changes\n",
      "\n",
      "Calculating likelihood ratio tests\n",
      "\n",
      "Refitting on reduced model...\n",
      "\n",
      "\n",
      "Done!\n",
      "\n",
      "Calculating cluster Neutrophic\n",
      "\n",
      "\n",
      "Done!\n",
      "\n",
      "Combining coefficients and standard errors\n",
      "\n",
      "Calculating log-fold changes\n",
      "\n",
      "Calculating likelihood ratio tests\n",
      "\n",
      "Refitting on reduced model...\n",
      "\n",
      "\n",
      "Done!\n",
      "\n",
      "Calculating cluster Plasmacytoid dendritic cell\n",
      "\n",
      "\n",
      "Done!\n",
      "\n",
      "Combining coefficients and standard errors\n",
      "\n",
      "Calculating log-fold changes\n",
      "\n",
      "Calculating likelihood ratio tests\n",
      "\n",
      "Refitting on reduced model...\n",
      "\n",
      "\n",
      "Done!\n",
      "\n",
      "Calculating cluster CD8 T\n",
      "\n",
      "\n",
      "Done!\n",
      "\n",
      "Combining coefficients and standard errors\n",
      "\n",
      "Calculating log-fold changes\n",
      "\n",
      "Calculating likelihood ratio tests\n",
      "\n",
      "Refitting on reduced model...\n",
      "\n",
      "\n",
      "Done!\n",
      "\n",
      "Calculating cluster Mast\n",
      "\n",
      "\n",
      "Done!\n",
      "\n",
      "Combining coefficients and standard errors\n",
      "\n",
      "Calculating log-fold changes\n",
      "\n",
      "Calculating likelihood ratio tests\n",
      "\n",
      "Refitting on reduced model...\n",
      "\n",
      "\n",
      "Done!\n",
      "\n"
     ]
    }
   ],
   "source": [
    "immune.seu.MAST.markers <- FindAllMarkers(immune.seu, min.pct = 0.2, only.pos = TRUE, test.use=\"MAST\")"
   ]
  },
  {
   "cell_type": "code",
   "execution_count": 140,
   "id": "e4645f81",
   "metadata": {},
   "outputs": [],
   "source": [
    "write.csv(immune.seu.MAST.markers, file = \"/mnt/data/home/lzz/project/2020-6-18-IVDD_scRNA/results/combin_results/new_results/immune/immune_gen_markers.csv\",\n",
    "         quote = F, row.names=F)"
   ]
  },
  {
   "cell_type": "code",
   "execution_count": 15,
   "id": "4ceaecea",
   "metadata": {},
   "outputs": [],
   "source": [
    "immune.seu.MAST.markers <- read.csv(\"/mnt/data/home/lzz/project/2020-6-18-IVDD_scRNA/results/combin_results/new_results/immune/immune_gen_markers.csv\")"
   ]
  },
  {
   "cell_type": "code",
   "execution_count": 19,
   "id": "1cacb28a",
   "metadata": {},
   "outputs": [],
   "source": [
    "new_M1 <- c(\"KYNU\", \"IDO1\", \"CD40\", \"CCR7\", \"GBP1\", \"CXCL11\", \"CXCL10\", \"CXCL9\", \"CCL5\",\n",
    "            \"IL23R\", \"IL12B\", \"IL12A\", \"IL1B\", \"IL6\", \"TNF\", \"PTX3\", \"MMP9\", \"CXCL8\", \"IL1B\",\n",
    "            \"IL6\") %>% unique()\n",
    "\n",
    "new_M2 <- c(\"ADOR3\", \"TGFBR2\", \"F13A1\", \"STAB1\", \"CD163\", \"MARCO\", \"IL17RB\", \"ALOX5AP\", \"ALOX5AP\",\n",
    "            \"IL4R\", \"IL10\", \"CD200R1\", \"ALOX15\", \"TGM2\", \"MRC1\", \"CCL17\", \"CCL13\", \"CCL4\", \"TG\",\n",
    "            \"MMP12\", \"MMP1\", \"TGFB1\", \"FN1\", \"F13A1\", \"CCL18\") %>% unique()"
   ]
  },
  {
   "cell_type": "code",
   "execution_count": 18,
   "id": "159e58b9",
   "metadata": {},
   "outputs": [],
   "source": [
    "mo.df <- filter(immune.seu.MAST.markers, cluster == \"Monocyte/Macrophage\")"
   ]
  },
  {
   "cell_type": "code",
   "execution_count": 22,
   "id": "0958502e",
   "metadata": {},
   "outputs": [],
   "source": [
    "mo.df$gene[mo.df$gene %in% new_M2] -> test"
   ]
  },
  {
   "cell_type": "code",
   "execution_count": 24,
   "id": "b5359941",
   "metadata": {},
   "outputs": [],
   "source": [
    "Idents(immune.seu) <- immune.seu$new.immune.ct.gen"
   ]
  },
  {
   "cell_type": "code",
   "execution_count": null,
   "id": "9df6e3c0",
   "metadata": {},
   "outputs": [],
   "source": []
  },
  {
   "cell_type": "code",
   "execution_count": null,
   "id": "b9f8ad7a",
   "metadata": {},
   "outputs": [],
   "source": [
    "immune.seu <- Seurat.wf(immune.seu)\n",
    "\n",
    "immune.seu <-\n",
    "  RunHarmony(\n",
    "    immune.seu,\n",
    "    group.by.vars = \"sample_name\"\n",
    "  )\n",
    "\n",
    "npcs = 70\n",
    "resolution = 3\n",
    "immune.seu <- \n",
    "  immune.seu %>% \n",
    "    RunUMAP(reduction = \"harmony\", dims = 1:npcs) %>% \n",
    "    FindNeighbors(reduction = \"harmony\", dims = 1:npcs) %>% \n",
    "    FindClusters(resolution = resolution) %>% \n",
    "    identity()"
   ]
  },
  {
   "cell_type": "code",
   "execution_count": 28,
   "id": "034f300a",
   "metadata": {},
   "outputs": [
    {
     "data": {
      "text/html": [
       "<style>\n",
       ".list-inline {list-style: none; margin:0; padding: 0}\n",
       ".list-inline>li {display: inline-block}\n",
       ".list-inline>li:not(:last-child)::after {content: \"\\00b7\"; padding: 0 .5ex}\n",
       "</style>\n",
       "<ol class=list-inline><li>'Transitional B'</li><li>'CSTA+ Monocyte'</li><li>'CAMP+ Neutrophic'</li><li>'Plasmacytoid dendritic cell'</li><li>'EREG+ Monocyte'</li><li>'MZ B'</li><li>'CMTM2+ Neutrophic'</li><li>'Effector CD8+ T'</li><li>'Plasma B'</li><li>'GMP'</li><li>'Memory CD8+ T'</li><li>'Naive CD8+ T'</li><li>'C1QA+ Macrophage'</li><li>'HAPLN1+ Progenitor'</li><li>'Memory B'</li><li>'HLA+ Monocyte'</li><li>'CCL3+ Macrophage'</li><li>'NR4A2+ Macrophage'</li><li>'MD DC'</li><li>'IL1B+ Monocyte'</li><li>'Mast'</li><li>'SPP1+ Macrophage'</li></ol>\n"
      ],
      "text/latex": [
       "\\begin{enumerate*}\n",
       "\\item 'Transitional B'\n",
       "\\item 'CSTA+ Monocyte'\n",
       "\\item 'CAMP+ Neutrophic'\n",
       "\\item 'Plasmacytoid dendritic cell'\n",
       "\\item 'EREG+ Monocyte'\n",
       "\\item 'MZ B'\n",
       "\\item 'CMTM2+ Neutrophic'\n",
       "\\item 'Effector CD8+ T'\n",
       "\\item 'Plasma B'\n",
       "\\item 'GMP'\n",
       "\\item 'Memory CD8+ T'\n",
       "\\item 'Naive CD8+ T'\n",
       "\\item 'C1QA+ Macrophage'\n",
       "\\item 'HAPLN1+ Progenitor'\n",
       "\\item 'Memory B'\n",
       "\\item 'HLA+ Monocyte'\n",
       "\\item 'CCL3+ Macrophage'\n",
       "\\item 'NR4A2+ Macrophage'\n",
       "\\item 'MD DC'\n",
       "\\item 'IL1B+ Monocyte'\n",
       "\\item 'Mast'\n",
       "\\item 'SPP1+ Macrophage'\n",
       "\\end{enumerate*}\n"
      ],
      "text/markdown": [
       "1. 'Transitional B'\n",
       "2. 'CSTA+ Monocyte'\n",
       "3. 'CAMP+ Neutrophic'\n",
       "4. 'Plasmacytoid dendritic cell'\n",
       "5. 'EREG+ Monocyte'\n",
       "6. 'MZ B'\n",
       "7. 'CMTM2+ Neutrophic'\n",
       "8. 'Effector CD8+ T'\n",
       "9. 'Plasma B'\n",
       "10. 'GMP'\n",
       "11. 'Memory CD8+ T'\n",
       "12. 'Naive CD8+ T'\n",
       "13. 'C1QA+ Macrophage'\n",
       "14. 'HAPLN1+ Progenitor'\n",
       "15. 'Memory B'\n",
       "16. 'HLA+ Monocyte'\n",
       "17. 'CCL3+ Macrophage'\n",
       "18. 'NR4A2+ Macrophage'\n",
       "19. 'MD DC'\n",
       "20. 'IL1B+ Monocyte'\n",
       "21. 'Mast'\n",
       "22. 'SPP1+ Macrophage'\n",
       "\n",
       "\n"
      ],
      "text/plain": [
       " [1] \"Transitional B\"              \"CSTA+ Monocyte\"             \n",
       " [3] \"CAMP+ Neutrophic\"            \"Plasmacytoid dendritic cell\"\n",
       " [5] \"EREG+ Monocyte\"              \"MZ B\"                       \n",
       " [7] \"CMTM2+ Neutrophic\"           \"Effector CD8+ T\"            \n",
       " [9] \"Plasma B\"                    \"GMP\"                        \n",
       "[11] \"Memory CD8+ T\"               \"Naive CD8+ T\"               \n",
       "[13] \"C1QA+ Macrophage\"            \"HAPLN1+ Progenitor\"         \n",
       "[15] \"Memory B\"                    \"HLA+ Monocyte\"              \n",
       "[17] \"CCL3+ Macrophage\"            \"NR4A2+ Macrophage\"          \n",
       "[19] \"MD DC\"                       \"IL1B+ Monocyte\"             \n",
       "[21] \"Mast\"                        \"SPP1+ Macrophage\"           "
      ]
     },
     "metadata": {},
     "output_type": "display_data"
    }
   ],
   "source": [
    "immune.seu$new.immune.ct %>% unique()"
   ]
  },
  {
   "cell_type": "code",
   "execution_count": 41,
   "id": "f254736e",
   "metadata": {},
   "outputs": [],
   "source": [
    "immune.seu$new.immune.ct1 <- \n",
    "    plyr::mapvalues(immune.seu$new.immune.ct, \n",
    "                    from = unique(monocyte.seu$new.immune.ct), \n",
    "                    to = c(\"Mono-CSTA\", \"Mphi-ERGE\", \"Mphi-C1QA\", \"Mono-HLA\", \"Mphi-CCL3\", \"Mphi-NR4A2\", \"Mono-CTSK\", \"Mphi-IL1B\", \"Mphi-SPP1\"))"
   ]
  },
  {
   "cell_type": "code",
   "execution_count": 42,
   "id": "6cd86bdc",
   "metadata": {},
   "outputs": [],
   "source": [
    "immune.seu$new.immune.ct2 <- \n",
    "    plyr::mapvalues(immune.seu$new.immune.ct, \n",
    "                    from = unique(monocyte.seu$new.immune.ct), \n",
    "                    to = c(\"Mono-CSTA\", \"Mphi-M1-ERGE\", \"Mphi-M2-C1QA\", \"Mono-HLA\", \"Mphi-M1-CCL3\", \"Mphi-M2-NR4A2\", \"Mono-CTSK\", \"Mphi-M1-IL1B\", \"Mphi-M2-SPP1\"))"
   ]
  },
  {
   "cell_type": "code",
   "execution_count": 73,
   "id": "cbe718ea",
   "metadata": {},
   "outputs": [
    {
     "data": {
      "text/html": [
       "<style>\n",
       ".list-inline {list-style: none; margin:0; padding: 0}\n",
       ".list-inline>li {display: inline-block}\n",
       ".list-inline>li:not(:last-child)::after {content: \"\\00b7\"; padding: 0 .5ex}\n",
       "</style>\n",
       "<ol class=list-inline><li>'C1QA+ Macrophage'</li><li>'CAMP+ Neutrophic'</li><li>'CCL3+ Macrophage'</li><li>'CMTM2+ Neutrophic'</li><li>'CSTA+ Monocyte'</li><li>'Effector CD8+ T'</li><li>'EREG+ Monocyte'</li><li>'GMP'</li><li>'HAPLN1+ Progenitor'</li><li>'HLA+ Monocyte'</li><li>'IL1B+ Monocyte'</li><li>'Mast'</li><li>'MD DC'</li><li>'Memory B'</li><li>'Memory CD8+ T'</li><li>'MZ B'</li><li>'Naive CD8+ T'</li><li>'NR4A2+ Macrophage'</li><li>'Plasma B'</li><li>'Plasmacytoid dendritic cell'</li><li>'SPP1+ Macrophage'</li><li>'Transitional B'</li></ol>\n"
      ],
      "text/latex": [
       "\\begin{enumerate*}\n",
       "\\item 'C1QA+ Macrophage'\n",
       "\\item 'CAMP+ Neutrophic'\n",
       "\\item 'CCL3+ Macrophage'\n",
       "\\item 'CMTM2+ Neutrophic'\n",
       "\\item 'CSTA+ Monocyte'\n",
       "\\item 'Effector CD8+ T'\n",
       "\\item 'EREG+ Monocyte'\n",
       "\\item 'GMP'\n",
       "\\item 'HAPLN1+ Progenitor'\n",
       "\\item 'HLA+ Monocyte'\n",
       "\\item 'IL1B+ Monocyte'\n",
       "\\item 'Mast'\n",
       "\\item 'MD DC'\n",
       "\\item 'Memory B'\n",
       "\\item 'Memory CD8+ T'\n",
       "\\item 'MZ B'\n",
       "\\item 'Naive CD8+ T'\n",
       "\\item 'NR4A2+ Macrophage'\n",
       "\\item 'Plasma B'\n",
       "\\item 'Plasmacytoid dendritic cell'\n",
       "\\item 'SPP1+ Macrophage'\n",
       "\\item 'Transitional B'\n",
       "\\end{enumerate*}\n"
      ],
      "text/markdown": [
       "1. 'C1QA+ Macrophage'\n",
       "2. 'CAMP+ Neutrophic'\n",
       "3. 'CCL3+ Macrophage'\n",
       "4. 'CMTM2+ Neutrophic'\n",
       "5. 'CSTA+ Monocyte'\n",
       "6. 'Effector CD8+ T'\n",
       "7. 'EREG+ Monocyte'\n",
       "8. 'GMP'\n",
       "9. 'HAPLN1+ Progenitor'\n",
       "10. 'HLA+ Monocyte'\n",
       "11. 'IL1B+ Monocyte'\n",
       "12. 'Mast'\n",
       "13. 'MD DC'\n",
       "14. 'Memory B'\n",
       "15. 'Memory CD8+ T'\n",
       "16. 'MZ B'\n",
       "17. 'Naive CD8+ T'\n",
       "18. 'NR4A2+ Macrophage'\n",
       "19. 'Plasma B'\n",
       "20. 'Plasmacytoid dendritic cell'\n",
       "21. 'SPP1+ Macrophage'\n",
       "22. 'Transitional B'\n",
       "\n",
       "\n"
      ],
      "text/plain": [
       " [1] \"C1QA+ Macrophage\"            \"CAMP+ Neutrophic\"           \n",
       " [3] \"CCL3+ Macrophage\"            \"CMTM2+ Neutrophic\"          \n",
       " [5] \"CSTA+ Monocyte\"              \"Effector CD8+ T\"            \n",
       " [7] \"EREG+ Monocyte\"              \"GMP\"                        \n",
       " [9] \"HAPLN1+ Progenitor\"          \"HLA+ Monocyte\"              \n",
       "[11] \"IL1B+ Monocyte\"              \"Mast\"                       \n",
       "[13] \"MD DC\"                       \"Memory B\"                   \n",
       "[15] \"Memory CD8+ T\"               \"MZ B\"                       \n",
       "[17] \"Naive CD8+ T\"                \"NR4A2+ Macrophage\"          \n",
       "[19] \"Plasma B\"                    \"Plasmacytoid dendritic cell\"\n",
       "[21] \"SPP1+ Macrophage\"            \"Transitional B\"             "
      ]
     },
     "metadata": {},
     "output_type": "display_data"
    }
   ],
   "source": []
  },
  {
   "cell_type": "code",
   "execution_count": 11,
   "id": "c00b0d4c",
   "metadata": {},
   "outputs": [],
   "source": [
    "Idents(immune.seu) <- immune.seu$new.immune.ct2"
   ]
  },
  {
   "cell_type": "code",
   "execution_count": 12,
   "id": "b2225ce0",
   "metadata": {},
   "outputs": [
    {
     "data": {
      "text/html": [
       "<style>\n",
       ".list-inline {list-style: none; margin:0; padding: 0}\n",
       ".list-inline>li {display: inline-block}\n",
       ".list-inline>li:not(:last-child)::after {content: \"\\00b7\"; padding: 0 .5ex}\n",
       "</style>\n",
       "<ol class=list-inline><li>'Transitional B'</li><li>'Mono-CSTA'</li><li>'CAMP+ Neutrophic'</li><li>'Plasmacytoid dendritic cell'</li><li>'Mphi-M1-ERGE'</li><li>'MZ B'</li><li>'CMTM2+ Neutrophic'</li><li>'Effector CD8+ T'</li><li>'Plasma B'</li><li>'GMP'</li><li>'Memory CD8+ T'</li><li>'Naive CD8+ T'</li><li>'Mphi-M2-C1QA'</li><li>'HAPLN1+ Progenitor'</li><li>'Memory B'</li><li>'Mono-HLA'</li><li>'Mphi-M1-CCL3'</li><li>'Mphi-M2-NR4A2'</li><li>'Mono-CTSK'</li><li>'Mphi-M1-IL1B'</li><li>'Mast'</li><li>'Mphi-M2-SPP1'</li></ol>\n"
      ],
      "text/latex": [
       "\\begin{enumerate*}\n",
       "\\item 'Transitional B'\n",
       "\\item 'Mono-CSTA'\n",
       "\\item 'CAMP+ Neutrophic'\n",
       "\\item 'Plasmacytoid dendritic cell'\n",
       "\\item 'Mphi-M1-ERGE'\n",
       "\\item 'MZ B'\n",
       "\\item 'CMTM2+ Neutrophic'\n",
       "\\item 'Effector CD8+ T'\n",
       "\\item 'Plasma B'\n",
       "\\item 'GMP'\n",
       "\\item 'Memory CD8+ T'\n",
       "\\item 'Naive CD8+ T'\n",
       "\\item 'Mphi-M2-C1QA'\n",
       "\\item 'HAPLN1+ Progenitor'\n",
       "\\item 'Memory B'\n",
       "\\item 'Mono-HLA'\n",
       "\\item 'Mphi-M1-CCL3'\n",
       "\\item 'Mphi-M2-NR4A2'\n",
       "\\item 'Mono-CTSK'\n",
       "\\item 'Mphi-M1-IL1B'\n",
       "\\item 'Mast'\n",
       "\\item 'Mphi-M2-SPP1'\n",
       "\\end{enumerate*}\n"
      ],
      "text/markdown": [
       "1. 'Transitional B'\n",
       "2. 'Mono-CSTA'\n",
       "3. 'CAMP+ Neutrophic'\n",
       "4. 'Plasmacytoid dendritic cell'\n",
       "5. 'Mphi-M1-ERGE'\n",
       "6. 'MZ B'\n",
       "7. 'CMTM2+ Neutrophic'\n",
       "8. 'Effector CD8+ T'\n",
       "9. 'Plasma B'\n",
       "10. 'GMP'\n",
       "11. 'Memory CD8+ T'\n",
       "12. 'Naive CD8+ T'\n",
       "13. 'Mphi-M2-C1QA'\n",
       "14. 'HAPLN1+ Progenitor'\n",
       "15. 'Memory B'\n",
       "16. 'Mono-HLA'\n",
       "17. 'Mphi-M1-CCL3'\n",
       "18. 'Mphi-M2-NR4A2'\n",
       "19. 'Mono-CTSK'\n",
       "20. 'Mphi-M1-IL1B'\n",
       "21. 'Mast'\n",
       "22. 'Mphi-M2-SPP1'\n",
       "\n",
       "\n"
      ],
      "text/plain": [
       " [1] \"Transitional B\"              \"Mono-CSTA\"                  \n",
       " [3] \"CAMP+ Neutrophic\"            \"Plasmacytoid dendritic cell\"\n",
       " [5] \"Mphi-M1-ERGE\"                \"MZ B\"                       \n",
       " [7] \"CMTM2+ Neutrophic\"           \"Effector CD8+ T\"            \n",
       " [9] \"Plasma B\"                    \"GMP\"                        \n",
       "[11] \"Memory CD8+ T\"               \"Naive CD8+ T\"               \n",
       "[13] \"Mphi-M2-C1QA\"                \"HAPLN1+ Progenitor\"         \n",
       "[15] \"Memory B\"                    \"Mono-HLA\"                   \n",
       "[17] \"Mphi-M1-CCL3\"                \"Mphi-M2-NR4A2\"              \n",
       "[19] \"Mono-CTSK\"                   \"Mphi-M1-IL1B\"               \n",
       "[21] \"Mast\"                        \"Mphi-M2-SPP1\"               "
      ]
     },
     "metadata": {},
     "output_type": "display_data"
    }
   ],
   "source": [
    "levels(Idents(immune.seu))"
   ]
  },
  {
   "cell_type": "code",
   "execution_count": 7,
   "id": "8a40f38b",
   "metadata": {},
   "outputs": [],
   "source": [
    "Idents(immune.seu) <- immune.seu$new.immune.ct.gen"
   ]
  },
  {
   "cell_type": "code",
   "execution_count": null,
   "id": "84b6d865",
   "metadata": {},
   "outputs": [],
   "source": []
  },
  {
   "cell_type": "markdown",
   "id": "09a667bb",
   "metadata": {},
   "source": [
    "## UMAP plots"
   ]
  },
  {
   "cell_type": "code",
   "execution_count": 56,
   "id": "cd47e8c2",
   "metadata": {},
   "outputs": [],
   "source": [
    "mycolors <- colorRampPalette(brewer.pal(12, \"Paired\"))(length(unique(Idents(immune.seu))))\n",
    "new.immune.colors <- data.frame(color=mycolors,\n",
    "                                celltype=as.character(levels(Idents(immune.seu))),\n",
    "                                stringsAsFactors = F)\n",
    "new.immune.colors.vector <- structure(unlist(new.immune.colors$color), names=unlist(new.immune.colors$celltype))"
   ]
  },
  {
   "cell_type": "code",
   "execution_count": 132,
   "id": "0019bc8a",
   "metadata": {},
   "outputs": [],
   "source": [
    "saveRDS(new.immune.colors, file=\"/mnt/data/home/lzz/project/2020-6-18-IVDD_scRNA/results/combin_results/new_results/immune/color_set/new_immune_color_df.Rds\")"
   ]
  },
  {
   "cell_type": "code",
   "execution_count": 134,
   "id": "d44e5b01",
   "metadata": {},
   "outputs": [],
   "source": [
    "write.table(new.immune.colors, \n",
    "            file = \"/mnt/data/home/lzz/project/2020-6-18-IVDD_scRNA/results/combin_results/new_results/immune/color_set/new_immune_color_df.txt\",\n",
    "            quote = F, row.names=F, sep='\\t')"
   ]
  },
  {
   "cell_type": "code",
   "execution_count": 57,
   "id": "1f6690e2",
   "metadata": {},
   "outputs": [
    {
     "data": {
      "text/html": [
       "<strong>png:</strong> 2"
      ],
      "text/latex": [
       "\\textbf{png:} 2"
      ],
      "text/markdown": [
       "**png:** 2"
      ],
      "text/plain": [
       "png \n",
       "  2 "
      ]
     },
     "metadata": {},
     "output_type": "display_data"
    }
   ],
   "source": [
    "# ==== umap plot ====\n",
    "A.plot <- \n",
    "  plot.seu.raster(immune.seu)+ NoLegend() +\n",
    "    scale_color_manual(values = new.immune.colors.vector) + \n",
    "    theme(panel.border = element_rect(colour = \"black\", fill=NA, size=1))\n",
    "\n",
    "A.plot <- LabelClusters(A.plot, id = \"ident\", size = 5, repel = T, color=\"black\")\n",
    "\n",
    "#color = unique(ggplot_build(A.plot)$data[[1]]$colour) set label color\n",
    "pdf(\"/mnt/data/home/lzz/project/2020-6-18-IVDD_scRNA/plots/paper_plots/new_Fig4_Immune_subcelltype_UMAP.pdf\")\n",
    "A.plot\n",
    "dev.off()"
   ]
  },
  {
   "cell_type": "markdown",
   "id": "a91cce0c",
   "metadata": {},
   "source": [
    "## plot immune.gen ratio"
   ]
  },
  {
   "cell_type": "code",
   "execution_count": 30,
   "id": "93e54567",
   "metadata": {},
   "outputs": [
    {
     "data": {
      "text/html": [
       "<style>\n",
       ".list-inline {list-style: none; margin:0; padding: 0}\n",
       ".list-inline>li {display: inline-block}\n",
       ".list-inline>li:not(:last-child)::after {content: \"\\00b7\"; padding: 0 .5ex}\n",
       "</style>\n",
       "<ol class=list-inline><li>'B cell'</li><li>'Monocyte/Macrophage'</li><li>'Neutrophic'</li><li>'Plasmacytoid dendritic cell'</li><li>'CD8 T'</li><li>'Mast'</li></ol>\n"
      ],
      "text/latex": [
       "\\begin{enumerate*}\n",
       "\\item 'B cell'\n",
       "\\item 'Monocyte/Macrophage'\n",
       "\\item 'Neutrophic'\n",
       "\\item 'Plasmacytoid dendritic cell'\n",
       "\\item 'CD8 T'\n",
       "\\item 'Mast'\n",
       "\\end{enumerate*}\n"
      ],
      "text/markdown": [
       "1. 'B cell'\n",
       "2. 'Monocyte/Macrophage'\n",
       "3. 'Neutrophic'\n",
       "4. 'Plasmacytoid dendritic cell'\n",
       "5. 'CD8 T'\n",
       "6. 'Mast'\n",
       "\n",
       "\n"
      ],
      "text/plain": [
       "[1] \"B cell\"                      \"Monocyte/Macrophage\"        \n",
       "[3] \"Neutrophic\"                  \"Plasmacytoid dendritic cell\"\n",
       "[5] \"CD8 T\"                       \"Mast\"                       "
      ]
     },
     "metadata": {},
     "output_type": "display_data"
    }
   ],
   "source": [
    "unique(immune.seu$new.immune.ct.gen)"
   ]
  },
  {
   "cell_type": "code",
   "execution_count": 65,
   "id": "9e4277f4",
   "metadata": {},
   "outputs": [],
   "source": [
    "immune.gen.cell.count <- table(immune.seu@meta.data$new.immune.ct.gen, immune.seu@meta.data$orig.ident) %>% as.data.frame()\n",
    "colnames(immune.gen.cell.count) <- c(\"celltype\", \"grade\", \"cell.num\")\n",
    "immune.gen.cell.count <- immune.gen.cell.count %>% group_by(grade) %>% do({\n",
    "  df <- .\n",
    "  df$ratio <- df$cell.num / sum(df$cell.num) * 100\n",
    "  df\n",
    "})\n"
   ]
  },
  {
   "cell_type": "code",
   "execution_count": 67,
   "id": "1ff4e36b",
   "metadata": {},
   "outputs": [],
   "source": [
    "library(wesanderson)\n",
    "immune.gen.cell.count$celltype <- as.character(immune.gen.cell.count$celltype)\n",
    "immune.gen.colors <- structure(c(wes_palette(\"FantasticFox1\"), wes_palette(\"Moonrise3\"))[1:length(unique(immune.gen.cell.count$celltype))],\n",
    "                               names = unique(immune.gen.cell.count$celltype) %>% unlist() %>% as.character())\n",
    "\n",
    "\n",
    "\n"
   ]
  },
  {
   "cell_type": "code",
   "execution_count": 69,
   "id": "1b3be15f",
   "metadata": {},
   "outputs": [],
   "source": [
    "general.ct.ratio <- \n",
    "  immune.gen.cell.count %>% \n",
    "    ggplot() + geom_bar(aes(x=grade, y=ratio, fill=celltype), stat = \"identity\") +\n",
    "    scale_y_continuous(limits = c(0,100), expand = c(0.01,0.01), \n",
    "                       breaks = seq(0,100, 25), labels = paste0(seq(0,100,25), \"%\"))+\n",
    "    scale_fill_manual(values=immune.gen.colors) + \n",
    "    theme(panel.grid.major = element_blank(),\n",
    "          panel.grid.minor = element_blank(),\n",
    "          panel.background = element_blank(),\n",
    "          axis.line = element_line(colour = \"black\"),\n",
    "          axis.text.x = element_text(size = 14),\n",
    "          axis.text.y = element_text(size = 14),\n",
    "          legend.text = element_text(size = 14),\n",
    "          legend.title = element_text(size = 14),\n",
    "          axis.title = element_text(size = 20),\n",
    "          legend.background = element_blank(),\n",
    "          legend.key=element_blank(),\n",
    "          panel.border = element_rect(colour = \"black\", fill=NA, size=1)) +\n",
    "    labs(x=\"\", y=\"% of all immune cells\")\n"
   ]
  },
  {
   "cell_type": "code",
   "execution_count": null,
   "id": "2030e4ce",
   "metadata": {},
   "outputs": [],
   "source": []
  },
  {
   "cell_type": "code",
   "execution_count": null,
   "id": "94bbc4aa",
   "metadata": {},
   "outputs": [],
   "source": []
  },
  {
   "cell_type": "code",
   "execution_count": 71,
   "id": "1a020dda",
   "metadata": {},
   "outputs": [
    {
     "data": {
      "text/html": [
       "<strong>png:</strong> 2"
      ],
      "text/latex": [
       "\\textbf{png:} 2"
      ],
      "text/markdown": [
       "**png:** 2"
      ],
      "text/plain": [
       "png \n",
       "  2 "
      ]
     },
     "metadata": {},
     "output_type": "display_data"
    }
   ],
   "source": [
    "### ===================== plot general celltype ratio barplots =====================\n",
    "pdf(\"~/project/2020-6-18-IVDD_scRNA/plots/paper_plots/new_Figure4_zimmune_general_ratio_bar.pdf\")\n",
    "general.ct.ratio\n",
    "dev.off()"
   ]
  },
  {
   "cell_type": "code",
   "execution_count": null,
   "id": "318ce9e5",
   "metadata": {},
   "outputs": [],
   "source": []
  },
  {
   "cell_type": "markdown",
   "id": "698d4a9e",
   "metadata": {},
   "source": [
    "## statistic analysis"
   ]
  },
  {
   "cell_type": "code",
   "execution_count": 31,
   "id": "b184820e",
   "metadata": {},
   "outputs": [],
   "source": [
    "immune.gen.cell.count.sample <- table(immune.seu$new.immune.ct2, immune.seu@meta.data$sample_name) %>% as.data.frame()\n",
    "colnames(immune.gen.cell.count.sample) <- c(\"celltype\", \"sample_name\", \"cell.num\")\n",
    "immune.gen.cell.count.sample <- immune.gen.cell.count.sample %>% group_by(sample_name) %>% do({\n",
    "  df <- .\n",
    "  df$ratio <- df$cell.num / sum(df$cell.num) * 100\n",
    "  df\n",
    "})\n"
   ]
  },
  {
   "cell_type": "code",
   "execution_count": 37,
   "id": "e80a7c27",
   "metadata": {},
   "outputs": [],
   "source": [
    "immune.gen.cell.count.sample$celltype <- as.character(immune.gen.cell.count.sample$celltype)"
   ]
  },
  {
   "cell_type": "code",
   "execution_count": 41,
   "id": "ab32ad90",
   "metadata": {},
   "outputs": [],
   "source": [
    "mphi.sample.ratio <- \n",
    "immune.gen.cell.count.sample %>% filter(., grepl(\"^Mphi|Mono\", celltype)) %>%\n",
    "    group_by(sample_name) %>% summarise(mpcount = sum(ratio))"
   ]
  },
  {
   "cell_type": "code",
   "execution_count": 54,
   "id": "89d044e6",
   "metadata": {},
   "outputs": [],
   "source": [
    "mphi.sample.ratio$grade <- as.character(mphi.sample.ratio$sample_name) %>% \n",
    "    substr(., start=1, stop=2)"
   ]
  },
  {
   "cell_type": "code",
   "execution_count": 59,
   "id": "4f9e9fce",
   "metadata": {},
   "outputs": [
    {
     "data": {
      "text/html": [
       "<table class=\"dataframe\">\n",
       "<caption>A tibble: 14 × 3</caption>\n",
       "<thead>\n",
       "\t<tr><th scope=col>sample_name</th><th scope=col>mpcount</th><th scope=col>grade</th></tr>\n",
       "\t<tr><th scope=col>&lt;fct&gt;</th><th scope=col>&lt;dbl&gt;</th><th scope=col>&lt;chr&gt;</th></tr>\n",
       "</thead>\n",
       "<tbody>\n",
       "\t<tr><td>D1_1</td><td>12.018490</td><td>D1</td></tr>\n",
       "\t<tr><td>D1_2</td><td> 9.130435</td><td>D1</td></tr>\n",
       "\t<tr><td>D2_1</td><td>17.682927</td><td>D2</td></tr>\n",
       "\t<tr><td>D2_2</td><td>37.142857</td><td>D2</td></tr>\n",
       "\t<tr><td>D2_3</td><td>73.118280</td><td>D2</td></tr>\n",
       "\t<tr><td>D3_1</td><td>33.898305</td><td>D3</td></tr>\n",
       "\t<tr><td>D3_2</td><td>13.636364</td><td>D3</td></tr>\n",
       "\t<tr><td>D3_3</td><td>73.737374</td><td>D3</td></tr>\n",
       "\t<tr><td>D4_1</td><td>78.003384</td><td>D4</td></tr>\n",
       "\t<tr><td>D4_2</td><td>16.410256</td><td>D4</td></tr>\n",
       "\t<tr><td>D4_3</td><td> 2.173913</td><td>D4</td></tr>\n",
       "\t<tr><td>D5_1</td><td>14.084507</td><td>D5</td></tr>\n",
       "\t<tr><td>D5_2</td><td>31.074766</td><td>D5</td></tr>\n",
       "\t<tr><td>D5_3</td><td>51.526032</td><td>D5</td></tr>\n",
       "</tbody>\n",
       "</table>\n"
      ],
      "text/latex": [
       "A tibble: 14 × 3\n",
       "\\begin{tabular}{lll}\n",
       " sample\\_name & mpcount & grade\\\\\n",
       " <fct> & <dbl> & <chr>\\\\\n",
       "\\hline\n",
       "\t D1\\_1 & 12.018490 & D1\\\\\n",
       "\t D1\\_2 &  9.130435 & D1\\\\\n",
       "\t D2\\_1 & 17.682927 & D2\\\\\n",
       "\t D2\\_2 & 37.142857 & D2\\\\\n",
       "\t D2\\_3 & 73.118280 & D2\\\\\n",
       "\t D3\\_1 & 33.898305 & D3\\\\\n",
       "\t D3\\_2 & 13.636364 & D3\\\\\n",
       "\t D3\\_3 & 73.737374 & D3\\\\\n",
       "\t D4\\_1 & 78.003384 & D4\\\\\n",
       "\t D4\\_2 & 16.410256 & D4\\\\\n",
       "\t D4\\_3 &  2.173913 & D4\\\\\n",
       "\t D5\\_1 & 14.084507 & D5\\\\\n",
       "\t D5\\_2 & 31.074766 & D5\\\\\n",
       "\t D5\\_3 & 51.526032 & D5\\\\\n",
       "\\end{tabular}\n"
      ],
      "text/markdown": [
       "\n",
       "A tibble: 14 × 3\n",
       "\n",
       "| sample_name &lt;fct&gt; | mpcount &lt;dbl&gt; | grade &lt;chr&gt; |\n",
       "|---|---|---|\n",
       "| D1_1 | 12.018490 | D1 |\n",
       "| D1_2 |  9.130435 | D1 |\n",
       "| D2_1 | 17.682927 | D2 |\n",
       "| D2_2 | 37.142857 | D2 |\n",
       "| D2_3 | 73.118280 | D2 |\n",
       "| D3_1 | 33.898305 | D3 |\n",
       "| D3_2 | 13.636364 | D3 |\n",
       "| D3_3 | 73.737374 | D3 |\n",
       "| D4_1 | 78.003384 | D4 |\n",
       "| D4_2 | 16.410256 | D4 |\n",
       "| D4_3 |  2.173913 | D4 |\n",
       "| D5_1 | 14.084507 | D5 |\n",
       "| D5_2 | 31.074766 | D5 |\n",
       "| D5_3 | 51.526032 | D5 |\n",
       "\n"
      ],
      "text/plain": [
       "   sample_name mpcount   grade\n",
       "1  D1_1        12.018490 D1   \n",
       "2  D1_2         9.130435 D1   \n",
       "3  D2_1        17.682927 D2   \n",
       "4  D2_2        37.142857 D2   \n",
       "5  D2_3        73.118280 D2   \n",
       "6  D3_1        33.898305 D3   \n",
       "7  D3_2        13.636364 D3   \n",
       "8  D3_3        73.737374 D3   \n",
       "9  D4_1        78.003384 D4   \n",
       "10 D4_2        16.410256 D4   \n",
       "11 D4_3         2.173913 D4   \n",
       "12 D5_1        14.084507 D5   \n",
       "13 D5_2        31.074766 D5   \n",
       "14 D5_3        51.526032 D5   "
      ]
     },
     "metadata": {},
     "output_type": "display_data"
    }
   ],
   "source": [
    "mphi.sample.ratio"
   ]
  },
  {
   "cell_type": "code",
   "execution_count": 60,
   "id": "9008d0ea",
   "metadata": {},
   "outputs": [],
   "source": [
    "normal.ratio <- filter(mphi.sample.ratio, grade == \"D1\") %>% `[`(\"mpcount\") %>% unlist()\n",
    "degenerated.ratio <- filter(mphi.sample.ratio, grade != \"D1\") %>% `[`(\"mpcount\") %>% unlist()"
   ]
  },
  {
   "cell_type": "code",
   "execution_count": 62,
   "id": "c1e182ba",
   "metadata": {},
   "outputs": [
    {
     "data": {
      "text/html": [
       "<style>\n",
       ".dl-inline {width: auto; margin:0; padding: 0}\n",
       ".dl-inline>dt, .dl-inline>dd {float: none; width: auto; display: inline-block}\n",
       ".dl-inline>dt::after {content: \":\\0020\"; padding-right: .5ex}\n",
       ".dl-inline>dt:not(:first-of-type) {padding-left: .5ex}\n",
       "</style><dl class=dl-inline><dt>mpcount1</dt><dd>17.6829268292683</dd><dt>mpcount2</dt><dd>37.1428571428571</dd><dt>mpcount3</dt><dd>73.1182795698925</dd><dt>mpcount4</dt><dd>33.8983050847458</dd><dt>mpcount5</dt><dd>13.6363636363636</dd><dt>mpcount6</dt><dd>73.7373737373737</dd><dt>mpcount7</dt><dd>78.0033840947547</dd><dt>mpcount8</dt><dd>16.4102564102564</dd><dt>mpcount9</dt><dd>2.17391304347826</dd><dt>mpcount10</dt><dd>14.0845070422535</dd><dt>mpcount11</dt><dd>31.0747663551402</dd><dt>mpcount12</dt><dd>51.5260323159785</dd></dl>\n"
      ],
      "text/latex": [
       "\\begin{description*}\n",
       "\\item[mpcount1] 17.6829268292683\n",
       "\\item[mpcount2] 37.1428571428571\n",
       "\\item[mpcount3] 73.1182795698925\n",
       "\\item[mpcount4] 33.8983050847458\n",
       "\\item[mpcount5] 13.6363636363636\n",
       "\\item[mpcount6] 73.7373737373737\n",
       "\\item[mpcount7] 78.0033840947547\n",
       "\\item[mpcount8] 16.4102564102564\n",
       "\\item[mpcount9] 2.17391304347826\n",
       "\\item[mpcount10] 14.0845070422535\n",
       "\\item[mpcount11] 31.0747663551402\n",
       "\\item[mpcount12] 51.5260323159785\n",
       "\\end{description*}\n"
      ],
      "text/markdown": [
       "mpcount1\n",
       ":   17.6829268292683mpcount2\n",
       ":   37.1428571428571mpcount3\n",
       ":   73.1182795698925mpcount4\n",
       ":   33.8983050847458mpcount5\n",
       ":   13.6363636363636mpcount6\n",
       ":   73.7373737373737mpcount7\n",
       ":   78.0033840947547mpcount8\n",
       ":   16.4102564102564mpcount9\n",
       ":   2.17391304347826mpcount10\n",
       ":   14.0845070422535mpcount11\n",
       ":   31.0747663551402mpcount12\n",
       ":   51.5260323159785\n",
       "\n"
      ],
      "text/plain": [
       " mpcount1  mpcount2  mpcount3  mpcount4  mpcount5  mpcount6  mpcount7  mpcount8 \n",
       "17.682927 37.142857 73.118280 33.898305 13.636364 73.737374 78.003384 16.410256 \n",
       " mpcount9 mpcount10 mpcount11 mpcount12 \n",
       " 2.173913 14.084507 31.074766 51.526032 "
      ]
     },
     "metadata": {},
     "output_type": "display_data"
    }
   ],
   "source": [
    "degenerated.ratio"
   ]
  },
  {
   "cell_type": "code",
   "execution_count": 65,
   "id": "a03d6a9f",
   "metadata": {},
   "outputs": [
    {
     "data": {
      "text/plain": [
       "\n",
       "\tWilcoxon rank sum exact test\n",
       "\n",
       "data:  degenerated.ratio and normal.ratio\n",
       "W = 22, p-value = 0.04396\n",
       "alternative hypothesis: true location shift is greater than 0\n"
      ]
     },
     "metadata": {},
     "output_type": "display_data"
    }
   ],
   "source": [
    "wilcox.test(degenerated.ratio,normal.ratio, alternative = \"greater\")"
   ]
  },
  {
   "cell_type": "code",
   "execution_count": 50,
   "id": "b09bac34",
   "metadata": {
    "scrolled": true
   },
   "outputs": [
    {
     "data": {
      "text/plain": [
       "\n",
       "\tWelch Two Sample t-test\n",
       "\n",
       "data:  c(12.01849, 9.130435) and c(33.898305, 13.636364, 73.737374)\n",
       "t = -1.6852, df = 2.0267, p-value = 0.1162\n",
       "alternative hypothesis: true difference in means is less than 0\n",
       "95 percent confidence interval:\n",
       "     -Inf 21.41029\n",
       "sample estimates:\n",
       "mean of x mean of y \n",
       " 10.57446  40.42401 \n"
      ]
     },
     "metadata": {},
     "output_type": "display_data"
    }
   ],
   "source": [
    "wilcox.test(c(12.018490, 9.130435), c(33.898305, 13.636364, 73.737374), alternative = \"less\")"
   ]
  },
  {
   "cell_type": "code",
   "execution_count": null,
   "id": "15ad5920",
   "metadata": {},
   "outputs": [],
   "source": []
  },
  {
   "cell_type": "code",
   "execution_count": null,
   "id": "d4ef984f",
   "metadata": {},
   "outputs": [],
   "source": []
  },
  {
   "cell_type": "code",
   "execution_count": 57,
   "id": "d21001f3",
   "metadata": {},
   "outputs": [],
   "source": [
    "tukey <- TukeyHSD(aov1)"
   ]
  },
  {
   "cell_type": "code",
   "execution_count": 55,
   "id": "ebff8cb0",
   "metadata": {},
   "outputs": [],
   "source": [
    "aov1 <- aov(mpcount~grade, mphi.sample.ratio)   "
   ]
  },
  {
   "cell_type": "code",
   "execution_count": 56,
   "id": "b0ef59e5",
   "metadata": {},
   "outputs": [
    {
     "data": {
      "text/plain": [
       "            Df Sum Sq Mean Sq F value Pr(>F)\n",
       "grade        4   1454   363.5   0.442  0.776\n",
       "Residuals    9   7408   823.1               "
      ]
     },
     "metadata": {},
     "output_type": "display_data"
    }
   ],
   "source": [
    "summary(aov1)"
   ]
  },
  {
   "cell_type": "code",
   "execution_count": 58,
   "id": "6afc224b",
   "metadata": {},
   "outputs": [
    {
     "data": {
      "text/plain": [
       "  Tukey multiple comparisons of means\n",
       "    95% family-wise confidence level\n",
       "\n",
       "Fit: aov(formula = mpcount ~ grade, data = mphi.sample.ratio)\n",
       "\n",
       "$grade\n",
       "              diff       lwr       upr     p adj\n",
       "D2-D1  32.07355880 -55.99226 120.13938 0.7388003\n",
       "D3-D1  29.84955177 -58.21627 117.91537 0.7829454\n",
       "D4-D1  21.62138880 -66.44443 109.68721 0.9160872\n",
       "D5-D1  21.65397285 -66.41185 109.71979 0.9156814\n",
       "D3-D2  -2.22400703 -80.99247  76.54446 0.9999776\n",
       "D4-D2 -10.45217000 -89.22063  68.31629 0.9903743\n",
       "D5-D2 -10.41958594 -89.18805  68.34888 0.9904862\n",
       "D4-D3  -8.22816297 -86.99663  70.54030 0.9961167\n",
       "D5-D3  -8.19557892 -86.96404  70.57289 0.9961754\n",
       "D5-D4   0.03258405 -78.73588  78.80105 1.0000000\n"
      ]
     },
     "metadata": {},
     "output_type": "display_data"
    }
   ],
   "source": [
    "tukey"
   ]
  },
  {
   "cell_type": "code",
   "execution_count": null,
   "id": "4d1753f2",
   "metadata": {},
   "outputs": [],
   "source": []
  },
  {
   "cell_type": "code",
   "execution_count": null,
   "id": "a01f0d57",
   "metadata": {},
   "outputs": [],
   "source": []
  },
  {
   "cell_type": "code",
   "execution_count": null,
   "id": "48540e10",
   "metadata": {},
   "outputs": [],
   "source": []
  },
  {
   "cell_type": "code",
   "execution_count": null,
   "id": "df02d18e",
   "metadata": {},
   "outputs": [],
   "source": []
  },
  {
   "cell_type": "code",
   "execution_count": null,
   "id": "a4d2a504",
   "metadata": {},
   "outputs": [],
   "source": []
  },
  {
   "cell_type": "code",
   "execution_count": 11,
   "id": "bf2e14e7",
   "metadata": {},
   "outputs": [],
   "source": [
    "immune.gen.cell.count.sample$grade <- substr(immune.gen.cell.count.sample$sample_name,\n",
    "                                             start=1, stop=2)"
   ]
  },
  {
   "cell_type": "code",
   "execution_count": 24,
   "id": "a37b1c0f",
   "metadata": {},
   "outputs": [],
   "source": [
    "Mphi.count.sample <- immune.gen.cell.count %>% filter(., celltype == \"Monocyte/Macrophage\")"
   ]
  },
  {
   "cell_type": "code",
   "execution_count": 25,
   "id": "9a5c28a5",
   "metadata": {},
   "outputs": [
    {
     "ename": "ERROR",
     "evalue": "Error in cor.test.default(Mphi.count.sample$grade, Mphi.count.sample$ratio): 'x' must be a numeric vector\n",
     "output_type": "error",
     "traceback": [
      "Error in cor.test.default(Mphi.count.sample$grade, Mphi.count.sample$ratio): 'x' must be a numeric vector\nTraceback:\n",
      "1. cor.test(Mphi.count.sample$grade, Mphi.count.sample$ratio)",
      "2. cor.test.default(Mphi.count.sample$grade, Mphi.count.sample$ratio)",
      "3. stop(\"'x' must be a numeric vector\")"
     ]
    }
   ],
   "source": [
    "cor.test(Mphi.count.sample$grade, Mphi.count.sample$ratio)"
   ]
  },
  {
   "cell_type": "code",
   "execution_count": 16,
   "id": "4eab0fd2",
   "metadata": {},
   "outputs": [
    {
     "data": {
      "text/html": [
       "<style>\n",
       ".list-inline {list-style: none; margin:0; padding: 0}\n",
       ".list-inline>li {display: inline-block}\n",
       ".list-inline>li:not(:last-child)::after {content: \"\\00b7\"; padding: 0 .5ex}\n",
       "</style>\n",
       "<ol class=list-inline><li>12.0184899845917</li><li>9.1304347826087</li><li>17.6829268292683</li><li>37.1428571428571</li><li>73.1182795698925</li><li>33.8983050847458</li><li>13.6363636363636</li><li>73.7373737373737</li><li>78.0033840947547</li><li>16.4102564102564</li><li>2.17391304347826</li><li>14.0845070422535</li><li>31.0747663551402</li><li>51.5260323159785</li></ol>\n"
      ],
      "text/latex": [
       "\\begin{enumerate*}\n",
       "\\item 12.0184899845917\n",
       "\\item 9.1304347826087\n",
       "\\item 17.6829268292683\n",
       "\\item 37.1428571428571\n",
       "\\item 73.1182795698925\n",
       "\\item 33.8983050847458\n",
       "\\item 13.6363636363636\n",
       "\\item 73.7373737373737\n",
       "\\item 78.0033840947547\n",
       "\\item 16.4102564102564\n",
       "\\item 2.17391304347826\n",
       "\\item 14.0845070422535\n",
       "\\item 31.0747663551402\n",
       "\\item 51.5260323159785\n",
       "\\end{enumerate*}\n"
      ],
      "text/markdown": [
       "1. 12.0184899845917\n",
       "2. 9.1304347826087\n",
       "3. 17.6829268292683\n",
       "4. 37.1428571428571\n",
       "5. 73.1182795698925\n",
       "6. 33.8983050847458\n",
       "7. 13.6363636363636\n",
       "8. 73.7373737373737\n",
       "9. 78.0033840947547\n",
       "10. 16.4102564102564\n",
       "11. 2.17391304347826\n",
       "12. 14.0845070422535\n",
       "13. 31.0747663551402\n",
       "14. 51.5260323159785\n",
       "\n",
       "\n"
      ],
      "text/plain": [
       " [1] 12.018490  9.130435 17.682927 37.142857 73.118280 33.898305 13.636364\n",
       " [8] 73.737374 78.003384 16.410256  2.173913 14.084507 31.074766 51.526032"
      ]
     },
     "metadata": {},
     "output_type": "display_data"
    }
   ],
   "source": [
    "Mphi.count.sample$ratio"
   ]
  },
  {
   "cell_type": "code",
   "execution_count": 26,
   "id": "402beb89",
   "metadata": {},
   "outputs": [],
   "source": [
    "Mphi.count.sample$grade.num <- substr(Mphi.count.sample$grade, start = 2, stop = 2) %>% as.numeric()"
   ]
  },
  {
   "cell_type": "code",
   "execution_count": 27,
   "id": "9d9a43dd",
   "metadata": {},
   "outputs": [
    {
     "data": {
      "text/plain": [
       "\n",
       "\tPearson's product-moment correlation\n",
       "\n",
       "data:  Mphi.count.sample$grade.num and Mphi.count.sample$ratio\n",
       "t = 1.1738, df = 3, p-value = 0.3252\n",
       "alternative hypothesis: true correlation is not equal to 0\n",
       "95 percent confidence interval:\n",
       " -0.6361152  0.9654263\n",
       "sample estimates:\n",
       "     cor \n",
       "0.560994 \n"
      ]
     },
     "metadata": {},
     "output_type": "display_data"
    }
   ],
   "source": [
    "cor.test(Mphi.count.sample$grade.num, Mphi.count.sample$ratio)"
   ]
  },
  {
   "cell_type": "code",
   "execution_count": 28,
   "id": "230bb3b3",
   "metadata": {},
   "outputs": [
    {
     "data": {
      "text/html": [
       "<table class=\"dataframe\">\n",
       "<caption>A grouped_df: 5 × 5</caption>\n",
       "<thead>\n",
       "\t<tr><th scope=col>celltype</th><th scope=col>grade</th><th scope=col>cell.num</th><th scope=col>ratio</th><th scope=col>grade.num</th></tr>\n",
       "\t<tr><th scope=col>&lt;chr&gt;</th><th scope=col>&lt;fct&gt;</th><th scope=col>&lt;int&gt;</th><th scope=col>&lt;dbl&gt;</th><th scope=col>&lt;dbl&gt;</th></tr>\n",
       "</thead>\n",
       "<tbody>\n",
       "\t<tr><td>Monocyte/Macrophage</td><td>D1</td><td> 99</td><td>11.26280</td><td>1</td></tr>\n",
       "\t<tr><td>Monocyte/Macrophage</td><td>D2</td><td>191</td><td>45.47619</td><td>2</td></tr>\n",
       "\t<tr><td>Monocyte/Macrophage</td><td>D3</td><td> 96</td><td>53.33333</td><td>3</td></tr>\n",
       "\t<tr><td>Monocyte/Macrophage</td><td>D4</td><td>494</td><td>59.37500</td><td>4</td></tr>\n",
       "\t<tr><td>Monocyte/Macrophage</td><td>D5</td><td>450</td><td>37.56260</td><td>5</td></tr>\n",
       "</tbody>\n",
       "</table>\n"
      ],
      "text/latex": [
       "A grouped\\_df: 5 × 5\n",
       "\\begin{tabular}{lllll}\n",
       " celltype & grade & cell.num & ratio & grade.num\\\\\n",
       " <chr> & <fct> & <int> & <dbl> & <dbl>\\\\\n",
       "\\hline\n",
       "\t Monocyte/Macrophage & D1 &  99 & 11.26280 & 1\\\\\n",
       "\t Monocyte/Macrophage & D2 & 191 & 45.47619 & 2\\\\\n",
       "\t Monocyte/Macrophage & D3 &  96 & 53.33333 & 3\\\\\n",
       "\t Monocyte/Macrophage & D4 & 494 & 59.37500 & 4\\\\\n",
       "\t Monocyte/Macrophage & D5 & 450 & 37.56260 & 5\\\\\n",
       "\\end{tabular}\n"
      ],
      "text/markdown": [
       "\n",
       "A grouped_df: 5 × 5\n",
       "\n",
       "| celltype &lt;chr&gt; | grade &lt;fct&gt; | cell.num &lt;int&gt; | ratio &lt;dbl&gt; | grade.num &lt;dbl&gt; |\n",
       "|---|---|---|---|---|\n",
       "| Monocyte/Macrophage | D1 |  99 | 11.26280 | 1 |\n",
       "| Monocyte/Macrophage | D2 | 191 | 45.47619 | 2 |\n",
       "| Monocyte/Macrophage | D3 |  96 | 53.33333 | 3 |\n",
       "| Monocyte/Macrophage | D4 | 494 | 59.37500 | 4 |\n",
       "| Monocyte/Macrophage | D5 | 450 | 37.56260 | 5 |\n",
       "\n"
      ],
      "text/plain": [
       "  celltype            grade cell.num ratio    grade.num\n",
       "1 Monocyte/Macrophage D1     99      11.26280 1        \n",
       "2 Monocyte/Macrophage D2    191      45.47619 2        \n",
       "3 Monocyte/Macrophage D3     96      53.33333 3        \n",
       "4 Monocyte/Macrophage D4    494      59.37500 4        \n",
       "5 Monocyte/Macrophage D5    450      37.56260 5        "
      ]
     },
     "metadata": {},
     "output_type": "display_data"
    }
   ],
   "source": [
    "Mphi.count.sample"
   ]
  },
  {
   "cell_type": "code",
   "execution_count": null,
   "id": "39cbf6e1",
   "metadata": {},
   "outputs": [],
   "source": []
  },
  {
   "cell_type": "code",
   "execution_count": null,
   "id": "2b8d218d",
   "metadata": {},
   "outputs": [],
   "source": []
  },
  {
   "cell_type": "code",
   "execution_count": null,
   "id": "5d55d1f0",
   "metadata": {},
   "outputs": [],
   "source": []
  },
  {
   "cell_type": "markdown",
   "id": "b0ca75e0",
   "metadata": {},
   "source": [
    "# re-fine monocyte/macrophage results"
   ]
  },
  {
   "cell_type": "code",
   "execution_count": 9,
   "id": "472a03b5",
   "metadata": {},
   "outputs": [],
   "source": [
    "monocyte.seu <- readRDS(\"/mnt/data/home/lzz/project/2020-6-18-IVDD_scRNA/results/combin_results/new_results/immune/new_noC03_immune_monocytes_SeuratObj.Rds\")"
   ]
  },
  {
   "cell_type": "code",
   "execution_count": 17,
   "id": "0ea874c7",
   "metadata": {},
   "outputs": [],
   "source": [
    "proliferation <- c(\"AURKA\", \"BUB1\", \"CCNB1\", \"CCND1\", \"CCNE1\", \"DEK\", \"E2F1\", \"FEN1\", \"FOXM1\", \"H2AFZ\", \"HMGB2\", \"MCM2\", \"MCM3\",\n",
    "                   \"MCM4\", \"MCM5\", \"MCM6\", \"MKI67\", \"MYBL2\", \"PCNA\", \"PLK1\", \"TOP2A\", \"TYMS\", \"ZWINT\")"
   ]
  },
  {
   "cell_type": "code",
   "execution_count": 20,
   "id": "58cbad1f",
   "metadata": {},
   "outputs": [],
   "source": [
    "monocyte.seu <- AddModuleScore(monocyte.seu, features = list(proliferation), name = \"phagocytosis1\")"
   ]
  },
  {
   "cell_type": "code",
   "execution_count": 27,
   "id": "2e571d0a",
   "metadata": {},
   "outputs": [
    {
     "data": {
      "text/html": [
       "<style>\n",
       ".list-inline {list-style: none; margin:0; padding: 0}\n",
       ".list-inline>li {display: inline-block}\n",
       ".list-inline>li:not(:last-child)::after {content: \"\\00b7\"; padding: 0 .5ex}\n",
       "</style>\n",
       "<ol class=list-inline><li>'CSTA+ Monocyte'</li><li>'EREG+ Monocyte'</li><li>'C1QA+ Macrophage'</li><li>'HLA+ Monocyte'</li><li>'CCL3+ Macrophage'</li><li>'NR4A2+ Macrophage'</li><li>'MD DC'</li><li>'IL1B+ Monocyte'</li><li>'SPP1+ Macrophage'</li></ol>\n"
      ],
      "text/latex": [
       "\\begin{enumerate*}\n",
       "\\item 'CSTA+ Monocyte'\n",
       "\\item 'EREG+ Monocyte'\n",
       "\\item 'C1QA+ Macrophage'\n",
       "\\item 'HLA+ Monocyte'\n",
       "\\item 'CCL3+ Macrophage'\n",
       "\\item 'NR4A2+ Macrophage'\n",
       "\\item 'MD DC'\n",
       "\\item 'IL1B+ Monocyte'\n",
       "\\item 'SPP1+ Macrophage'\n",
       "\\end{enumerate*}\n"
      ],
      "text/markdown": [
       "1. 'CSTA+ Monocyte'\n",
       "2. 'EREG+ Monocyte'\n",
       "3. 'C1QA+ Macrophage'\n",
       "4. 'HLA+ Monocyte'\n",
       "5. 'CCL3+ Macrophage'\n",
       "6. 'NR4A2+ Macrophage'\n",
       "7. 'MD DC'\n",
       "8. 'IL1B+ Monocyte'\n",
       "9. 'SPP1+ Macrophage'\n",
       "\n",
       "\n"
      ],
      "text/plain": [
       "[1] \"CSTA+ Monocyte\"    \"EREG+ Monocyte\"    \"C1QA+ Macrophage\" \n",
       "[4] \"HLA+ Monocyte\"     \"CCL3+ Macrophage\"  \"NR4A2+ Macrophage\"\n",
       "[7] \"MD DC\"             \"IL1B+ Monocyte\"    \"SPP1+ Macrophage\" "
      ]
     },
     "metadata": {},
     "output_type": "display_data"
    }
   ],
   "source": [
    "monocyte.seu$new.immune.ct %>% unique()"
   ]
  },
  {
   "cell_type": "code",
   "execution_count": 31,
   "id": "48b06cd6",
   "metadata": {},
   "outputs": [],
   "source": [
    "monocyte.makers <- FindAllMarkers(monocyte.seu, min.pct = 0.2, test.use = \"MAST\")\n",
    "monocyte.makers <- monocyte.makers %>% filter(., p_val_adj < 0.05)"
   ]
  },
  {
   "cell_type": "code",
   "execution_count": 142,
   "id": "8ac07efe",
   "metadata": {},
   "outputs": [
    {
     "data": {
      "text/html": [
       "<style>\n",
       ".list-inline {list-style: none; margin:0; padding: 0}\n",
       ".list-inline>li {display: inline-block}\n",
       ".list-inline>li:not(:last-child)::after {content: \"\\00b7\"; padding: 0 .5ex}\n",
       "</style>\n",
       "<ol class=list-inline><li>Mono-CSTA</li><li>Mphi-M1-ERGE</li><li>Mphi-M2-C1QA</li><li>Mono-HLA</li><li>Mphi-M1-CCL3</li><li>Mphi-M2-NR4A2</li><li>Mono-CTSK</li><li>Mphi-M1-IL1B</li><li>Mphi-M2-SPP1</li></ol>\n",
       "\n",
       "<details>\n",
       "\t<summary style=display:list-item;cursor:pointer>\n",
       "\t\t<strong>Levels</strong>:\n",
       "\t</summary>\n",
       "\t<style>\n",
       "\t.list-inline {list-style: none; margin:0; padding: 0}\n",
       "\t.list-inline>li {display: inline-block}\n",
       "\t.list-inline>li:not(:last-child)::after {content: \"\\00b7\"; padding: 0 .5ex}\n",
       "\t</style>\n",
       "\t<ol class=list-inline><li>'Mono-CSTA'</li><li>'Mphi-M1-ERGE'</li><li>'Mphi-M2-C1QA'</li><li>'Mono-HLA'</li><li>'Mphi-M1-CCL3'</li><li>'Mphi-M2-NR4A2'</li><li>'Mono-CTSK'</li><li>'Mphi-M1-IL1B'</li><li>'Mphi-M2-SPP1'</li></ol>\n",
       "</details>"
      ],
      "text/latex": [
       "\\begin{enumerate*}\n",
       "\\item Mono-CSTA\n",
       "\\item Mphi-M1-ERGE\n",
       "\\item Mphi-M2-C1QA\n",
       "\\item Mono-HLA\n",
       "\\item Mphi-M1-CCL3\n",
       "\\item Mphi-M2-NR4A2\n",
       "\\item Mono-CTSK\n",
       "\\item Mphi-M1-IL1B\n",
       "\\item Mphi-M2-SPP1\n",
       "\\end{enumerate*}\n",
       "\n",
       "\\emph{Levels}: \\begin{enumerate*}\n",
       "\\item 'Mono-CSTA'\n",
       "\\item 'Mphi-M1-ERGE'\n",
       "\\item 'Mphi-M2-C1QA'\n",
       "\\item 'Mono-HLA'\n",
       "\\item 'Mphi-M1-CCL3'\n",
       "\\item 'Mphi-M2-NR4A2'\n",
       "\\item 'Mono-CTSK'\n",
       "\\item 'Mphi-M1-IL1B'\n",
       "\\item 'Mphi-M2-SPP1'\n",
       "\\end{enumerate*}\n"
      ],
      "text/markdown": [
       "1. Mono-CSTA\n",
       "2. Mphi-M1-ERGE\n",
       "3. Mphi-M2-C1QA\n",
       "4. Mono-HLA\n",
       "5. Mphi-M1-CCL3\n",
       "6. Mphi-M2-NR4A2\n",
       "7. Mono-CTSK\n",
       "8. Mphi-M1-IL1B\n",
       "9. Mphi-M2-SPP1\n",
       "\n",
       "\n",
       "\n",
       "**Levels**: 1. 'Mono-CSTA'\n",
       "2. 'Mphi-M1-ERGE'\n",
       "3. 'Mphi-M2-C1QA'\n",
       "4. 'Mono-HLA'\n",
       "5. 'Mphi-M1-CCL3'\n",
       "6. 'Mphi-M2-NR4A2'\n",
       "7. 'Mono-CTSK'\n",
       "8. 'Mphi-M1-IL1B'\n",
       "9. 'Mphi-M2-SPP1'\n",
       "\n",
       "\n"
      ],
      "text/plain": [
       "[1] Mono-CSTA     Mphi-M1-ERGE  Mphi-M2-C1QA  Mono-HLA      Mphi-M1-CCL3 \n",
       "[6] Mphi-M2-NR4A2 Mono-CTSK     Mphi-M1-IL1B  Mphi-M2-SPP1 \n",
       "9 Levels: Mono-CSTA Mphi-M1-ERGE Mphi-M2-C1QA Mono-HLA ... Mphi-M2-SPP1"
      ]
     },
     "metadata": {},
     "output_type": "display_data"
    }
   ],
   "source": [
    "monocyte.makers$cluster %>% unique()"
   ]
  },
  {
   "cell_type": "code",
   "execution_count": 143,
   "id": "669b928d",
   "metadata": {},
   "outputs": [],
   "source": [
    "write.csv(monocyte.makers, file=\"/mnt/data/home/lzz/project/2020-6-18-IVDD_scRNA/results/combin_results/new_results/immune/monocyte_macrophage_markers.csv\", \n",
    "          quote=F, row.names=F)"
   ]
  },
  {
   "cell_type": "code",
   "execution_count": 34,
   "id": "44cf6176",
   "metadata": {},
   "outputs": [],
   "source": [
    "test <- filter(monocyte.makers, cluster == \"MD DC\")"
   ]
  },
  {
   "cell_type": "code",
   "execution_count": 35,
   "id": "c17ee016",
   "metadata": {},
   "outputs": [],
   "source": [
    "test <- test[order(test$avg_log2FC, decreasing = T),]"
   ]
  },
  {
   "cell_type": "code",
   "execution_count": 37,
   "id": "8663dc65",
   "metadata": {},
   "outputs": [],
   "source": [
    "monocyte.seu$new.immune.ct1 <- \n",
    "    plyr::mapvalues(monocyte.seu$new.immune.ct, \n",
    "                    from = unique(monocyte.seu$new.immune.ct), \n",
    "                    to = c(\"Mono-CSTA\", \"Mphi-ERGE\", \"Mphi-C1QA\", \"Mono-HLA\", \"Mphi-CCL3\", \"Mphi-NR4A2\", \"Mono-CTSK\", \"Mphi-IL1B\", \"Mphi-SPP1\"))"
   ]
  },
  {
   "cell_type": "code",
   "execution_count": 38,
   "id": "cd20c28c",
   "metadata": {},
   "outputs": [],
   "source": [
    "monocyte.seu$new.immune.ct2 <- \n",
    "    plyr::mapvalues(monocyte.seu$new.immune.ct, \n",
    "                    from = unique(monocyte.seu$new.immune.ct), \n",
    "                    to = c(\"Mono-CSTA\", \"Mphi-M1-ERGE\", \"Mphi-M2-C1QA\", \"Mono-HLA\", \"Mphi-M1-CCL3\", \"Mphi-M2-NR4A2\", \"Mono-CTSK\", \"Mphi-M1-IL1B\", \"Mphi-M2-SPP1\"))"
   ]
  },
  {
   "cell_type": "code",
   "execution_count": 58,
   "id": "6b469583",
   "metadata": {},
   "outputs": [],
   "source": [
    "Idents(monocyte.seu) <- monocyte.seu$new.immune.ct2"
   ]
  },
  {
   "cell_type": "code",
   "execution_count": 61,
   "id": "1ab03a78",
   "metadata": {},
   "outputs": [],
   "source": [
    "monocyte.color <- filter(new.immune.colors, celltype %in% unique(Idents(monocyte.seu)))\n",
    "monocyte.color <- structure(unlist(monocyte.color$color), names = unlist(monocyte.color$celltype))\n"
   ]
  },
  {
   "cell_type": "code",
   "execution_count": 18,
   "id": "38d7cac8",
   "metadata": {},
   "outputs": [
    {
     "data": {
      "text/html": [
       "<style>\n",
       ".dl-inline {width: auto; margin:0; padding: 0}\n",
       ".dl-inline>dt, .dl-inline>dd {float: none; width: auto; display: inline-block}\n",
       ".dl-inline>dt::after {content: \":\\0020\"; padding-right: .5ex}\n",
       ".dl-inline>dt:not(:first-of-type) {padding-left: .5ex}\n",
       "</style><dl class=dl-inline><dt>Mono-CSTA</dt><dd>'#5FA0CA'</dd><dt>Mphi-M1-ERGE</dt><dd>'#A5D981'</dd><dt>Mphi-M2-C1QA</dt><dd>'#FDAC4F'</dd><dt>Mono-HLA</dt><dd>'#D1AAB7'</dd><dt>Mphi-M1-CCL3</dt><dd>'#A585BF'</dd><dt>Mphi-M2-NR4A2</dt><dd>'#73489F'</dd><dt>Mono-CTSK</dt><dd>'#A99099'</dd><dt>Mphi-M1-IL1B</dt><dd>'#F7F599'</dd><dt>Mphi-M2-SPP1</dt><dd>'#B15928'</dd></dl>\n"
      ],
      "text/latex": [
       "\\begin{description*}\n",
       "\\item[Mono-CSTA] '\\#5FA0CA'\n",
       "\\item[Mphi-M1-ERGE] '\\#A5D981'\n",
       "\\item[Mphi-M2-C1QA] '\\#FDAC4F'\n",
       "\\item[Mono-HLA] '\\#D1AAB7'\n",
       "\\item[Mphi-M1-CCL3] '\\#A585BF'\n",
       "\\item[Mphi-M2-NR4A2] '\\#73489F'\n",
       "\\item[Mono-CTSK] '\\#A99099'\n",
       "\\item[Mphi-M1-IL1B] '\\#F7F599'\n",
       "\\item[Mphi-M2-SPP1] '\\#B15928'\n",
       "\\end{description*}\n"
      ],
      "text/markdown": [
       "Mono-CSTA\n",
       ":   '#5FA0CA'Mphi-M1-ERGE\n",
       ":   '#A5D981'Mphi-M2-C1QA\n",
       ":   '#FDAC4F'Mono-HLA\n",
       ":   '#D1AAB7'Mphi-M1-CCL3\n",
       ":   '#A585BF'Mphi-M2-NR4A2\n",
       ":   '#73489F'Mono-CTSK\n",
       ":   '#A99099'Mphi-M1-IL1B\n",
       ":   '#F7F599'Mphi-M2-SPP1\n",
       ":   '#B15928'\n",
       "\n"
      ],
      "text/plain": [
       "    Mono-CSTA  Mphi-M1-ERGE  Mphi-M2-C1QA      Mono-HLA  Mphi-M1-CCL3 \n",
       "    \"#5FA0CA\"     \"#A5D981\"     \"#FDAC4F\"     \"#D1AAB7\"     \"#A585BF\" \n",
       "Mphi-M2-NR4A2     Mono-CTSK  Mphi-M1-IL1B  Mphi-M2-SPP1 \n",
       "    \"#73489F\"     \"#A99099\"     \"#F7F599\"     \"#B15928\" "
      ]
     },
     "metadata": {},
     "output_type": "display_data"
    }
   ],
   "source": [
    "monocyte.color"
   ]
  },
  {
   "cell_type": "code",
   "execution_count": 19,
   "id": "2e32e274",
   "metadata": {},
   "outputs": [],
   "source": [
    "saveRDS(monocyte.color,\n",
    "        file = \"/mnt/data/home/lzz/project/2020-6-18-IVDD_scRNA/results/combin_results/new_results/immune/mphi_monocyte_color.Rds\")"
   ]
  },
  {
   "cell_type": "code",
   "execution_count": null,
   "id": "ff582868",
   "metadata": {},
   "outputs": [],
   "source": []
  },
  {
   "cell_type": "markdown",
   "id": "51f0af5b",
   "metadata": {},
   "source": [
    "## plot UMAP"
   ]
  },
  {
   "cell_type": "code",
   "execution_count": 63,
   "id": "866054f1",
   "metadata": {},
   "outputs": [
    {
     "data": {
      "text/html": [
       "<strong>png:</strong> 2"
      ],
      "text/latex": [
       "\\textbf{png:} 2"
      ],
      "text/markdown": [
       "**png:** 2"
      ],
      "text/plain": [
       "png \n",
       "  2 "
      ]
     },
     "metadata": {},
     "output_type": "display_data"
    }
   ],
   "source": [
    "# ==== umap plot ====\n",
    "mono.plot <- \n",
    "  plot.seu.raster(monocyte.seu)+ NoLegend() +\n",
    "    scale_color_manual(values = monocyte.color) + \n",
    "    theme(panel.border = element_rect(colour = \"black\", fill=NA, size=1))\n",
    "\n",
    "mono.plot <- LabelClusters(mono.plot, id = \"ident\", size = 5, repel = T, color=\"black\")\n",
    "\n",
    "#color = unique(ggplot_build(A.plot)$data[[1]]$colour) set label color\n",
    "pdf(\"/mnt/data/home/lzz/project/2020-6-18-IVDD_scRNA/plots/paper_plots/new_Fig4_monocyte_mphi_subcelltype_UMAP.pdf\")\n",
    "mono.plot\n",
    "dev.off()"
   ]
  },
  {
   "cell_type": "markdown",
   "id": "49fd0c7c",
   "metadata": {},
   "source": [
    "## plot RNA velocity results"
   ]
  },
  {
   "cell_type": "code",
   "execution_count": 77,
   "id": "5909931f",
   "metadata": {},
   "outputs": [],
   "source": [
    "monocyte_line.velocity <- readRDS(\"~/project/2020-6-18-IVDD_scRNA/results/combin_results/new_results/immune/monocyte_velocityR.Rds\")"
   ]
  },
  {
   "cell_type": "code",
   "execution_count": 79,
   "id": "bec97483",
   "metadata": {},
   "outputs": [
    {
     "data": {
      "text/html": [
       "<strong>png:</strong> 2"
      ],
      "text/latex": [
       "\\textbf{png:} 2"
      ],
      "text/markdown": [
       "**png:** 2"
      ],
      "text/plain": [
       "png \n",
       "  2 "
      ]
     },
     "metadata": {},
     "output_type": "display_data"
    }
   ],
   "source": [
    "pdf(\"~/project/2020-6-18-IVDD_scRNA/plots/paper_plots/new_Figure4_monocle_line_RNAvelocity.pdf\", width = 10, height = 7)\n",
    "velo.ggplot(velo.plot.re = monocyte_line.velocity$plot.re,\n",
    "            SeuratObj = monocyte.seu,\n",
    "            color.vector = monocyte.color,\n",
    "            ct.col = \"new.immune.ct2\")\n",
    "dev.off()\n"
   ]
  },
  {
   "cell_type": "code",
   "execution_count": 27,
   "id": "c6018cc5",
   "metadata": {},
   "outputs": [
    {
     "data": {
      "text/html": [
       "<style>\n",
       ".dl-inline {width: auto; margin:0; padding: 0}\n",
       ".dl-inline>dt, .dl-inline>dd {float: none; width: auto; display: inline-block}\n",
       ".dl-inline>dt::after {content: \":\\0020\"; padding-right: .5ex}\n",
       ".dl-inline>dt:not(:first-of-type) {padding-left: .5ex}\n",
       "</style><dl class=dl-inline><dt>Mono-CSTA</dt><dd>'#5FA0CA'</dd><dt>Mphi-M1-ERGE</dt><dd>'#A5D981'</dd><dt>Mphi-M2-C1QA</dt><dd>'#FDAC4F'</dd><dt>Mono-HLA</dt><dd>'#D1AAB7'</dd><dt>Mphi-M1-CCL3</dt><dd>'#A585BF'</dd><dt>Mphi-M2-NR4A2</dt><dd>'#73489F'</dd><dt>Mono-CTSK</dt><dd>'#A99099'</dd><dt>Mphi-M1-IL1B</dt><dd>'#F7F599'</dd><dt>Mphi-M2-SPP1</dt><dd>'#B15928'</dd></dl>\n"
      ],
      "text/latex": [
       "\\begin{description*}\n",
       "\\item[Mono-CSTA] '\\#5FA0CA'\n",
       "\\item[Mphi-M1-ERGE] '\\#A5D981'\n",
       "\\item[Mphi-M2-C1QA] '\\#FDAC4F'\n",
       "\\item[Mono-HLA] '\\#D1AAB7'\n",
       "\\item[Mphi-M1-CCL3] '\\#A585BF'\n",
       "\\item[Mphi-M2-NR4A2] '\\#73489F'\n",
       "\\item[Mono-CTSK] '\\#A99099'\n",
       "\\item[Mphi-M1-IL1B] '\\#F7F599'\n",
       "\\item[Mphi-M2-SPP1] '\\#B15928'\n",
       "\\end{description*}\n"
      ],
      "text/markdown": [
       "Mono-CSTA\n",
       ":   '#5FA0CA'Mphi-M1-ERGE\n",
       ":   '#A5D981'Mphi-M2-C1QA\n",
       ":   '#FDAC4F'Mono-HLA\n",
       ":   '#D1AAB7'Mphi-M1-CCL3\n",
       ":   '#A585BF'Mphi-M2-NR4A2\n",
       ":   '#73489F'Mono-CTSK\n",
       ":   '#A99099'Mphi-M1-IL1B\n",
       ":   '#F7F599'Mphi-M2-SPP1\n",
       ":   '#B15928'\n",
       "\n"
      ],
      "text/plain": [
       "    Mono-CSTA  Mphi-M1-ERGE  Mphi-M2-C1QA      Mono-HLA  Mphi-M1-CCL3 \n",
       "    \"#5FA0CA\"     \"#A5D981\"     \"#FDAC4F\"     \"#D1AAB7\"     \"#A585BF\" \n",
       "Mphi-M2-NR4A2     Mono-CTSK  Mphi-M1-IL1B  Mphi-M2-SPP1 \n",
       "    \"#73489F\"     \"#A99099\"     \"#F7F599\"     \"#B15928\" "
      ]
     },
     "metadata": {},
     "output_type": "display_data"
    }
   ],
   "source": [
    "monocyte.color"
   ]
  },
  {
   "cell_type": "code",
   "execution_count": 32,
   "id": "cf0055cd",
   "metadata": {},
   "outputs": [
    {
     "ename": "ERROR",
     "evalue": "Error in file(con, \"rb\"): cannot open the connection\n",
     "output_type": "error",
     "traceback": [
      "Error in file(con, \"rb\"): cannot open the connection\nTraceback:\n"
     ]
    },
    {
     "data": {
      "text/plain": [
       "plot without title"
      ]
     },
     "metadata": {
      "image/png": {
       "height": 600,
       "width": 840
      }
     },
     "output_type": "display_data"
    }
   ],
   "source": [
    "velo.ggplot.normal(velo.plot.re = monocyte_line.velocity$plot.re,\n",
    "                    SeuratObj = monocyte.seu,\n",
    "                    color.vector = monocyte.color[as.character(unique(Idents(monocyte.seu)))],\n",
    "                    ct.col = \"new.immune.ct2\",\n",
    "                  xlab=\"UMAP_1\", ylab=\"UMAP_2\")"
   ]
  },
  {
   "cell_type": "code",
   "execution_count": 30,
   "id": "2248763f",
   "metadata": {},
   "outputs": [
    {
     "data": {
      "text/html": [
       "9"
      ],
      "text/latex": [
       "9"
      ],
      "text/markdown": [
       "9"
      ],
      "text/plain": [
       "[1] 9"
      ]
     },
     "metadata": {},
     "output_type": "display_data"
    }
   ],
   "source": [
    "unique(Idents(monocyte.seu)) %>% length()"
   ]
  },
  {
   "cell_type": "code",
   "execution_count": 31,
   "id": "21b9b555",
   "metadata": {},
   "outputs": [
    {
     "data": {
      "text/html": [
       "9"
      ],
      "text/latex": [
       "9"
      ],
      "text/markdown": [
       "9"
      ],
      "text/plain": [
       "[1] 9"
      ]
     },
     "metadata": {},
     "output_type": "display_data"
    }
   ],
   "source": [
    "length(monocyte.color)"
   ]
  },
  {
   "cell_type": "code",
   "execution_count": null,
   "id": "981858c2",
   "metadata": {},
   "outputs": [],
   "source": []
  },
  {
   "cell_type": "code",
   "execution_count": null,
   "id": "0542141e",
   "metadata": {},
   "outputs": [],
   "source": []
  },
  {
   "cell_type": "code",
   "execution_count": null,
   "id": "82396cc4",
   "metadata": {},
   "outputs": [],
   "source": []
  },
  {
   "cell_type": "markdown",
   "id": "e2c761e8",
   "metadata": {},
   "source": [
    "## plot Mphi-M2-SPP1 GO"
   ]
  },
  {
   "cell_type": "code",
   "execution_count": 83,
   "id": "a19d1cef",
   "metadata": {},
   "outputs": [
    {
     "name": "stderr",
     "output_type": "stream",
     "text": [
      "'select()' returned 1:many mapping between keys and columns\n",
      "\n"
     ]
    }
   ],
   "source": [
    "spp1.go <- \n",
    "    sub.celltype.GO2(celltype = \"Mphi-M2-SPP1\",\n",
    "                     marker.df = monocyte.makers,\n",
    "                     top.num = 30)"
   ]
  },
  {
   "cell_type": "code",
   "execution_count": 86,
   "id": "c5afe4e8",
   "metadata": {},
   "outputs": [
    {
     "data": {
      "text/html": [
       "<strong>png:</strong> 2"
      ],
      "text/latex": [
       "\\textbf{png:} 2"
      ],
      "text/markdown": [
       "**png:** 2"
      ],
      "text/plain": [
       "png \n",
       "  2 "
      ]
     },
     "metadata": {},
     "output_type": "display_data"
    }
   ],
   "source": [
    "pdf(\"/mnt/data/home/lzz/project/2020-6-18-IVDD_scRNA/plots/paper_plots/new_Fig4_monocyte_mphi-M2-SPP1_GO.pdf\")\n",
    "barplot(spp1.go, showCategory = 20)\n",
    "dev.off()"
   ]
  },
  {
   "cell_type": "markdown",
   "id": "ada4a417",
   "metadata": {},
   "source": [
    "## plot M1 M2 score DotPlot"
   ]
  },
  {
   "cell_type": "code",
   "execution_count": 87,
   "id": "4bba2547",
   "metadata": {},
   "outputs": [
    {
     "data": {
      "text/html": [
       "<strong>png:</strong> 2"
      ],
      "text/latex": [
       "\\textbf{png:} 2"
      ],
      "text/markdown": [
       "**png:** 2"
      ],
      "text/plain": [
       "png \n",
       "  2 "
      ]
     },
     "metadata": {},
     "output_type": "display_data"
    }
   ],
   "source": [
    "pdf(\"~/project/2020-6-18-IVDD_scRNA/plots/paper_plots/new_Figure4_monocle_line_M1_M2_score_DotPlot.pdf\", width = 7, height = 7)\n",
    "\n",
    "DotPlot(monocyte.seu, features =  c(\"new_M11\", \"new_M21\"), cols = \"RdYlBu\") +\n",
    "  scale_x_discrete(labels = c(\"M1 score\", \"M2 score\")) +\n",
    "  labs(x=\"\", y=\"\", size=\"Proportion of gene expressed\", color=\"Scale average expression\\nof genes\") +\n",
    "  theme(panel.border = element_rect(colour = \"black\", fill=NA, size=1))\n",
    "\n",
    "dev.off()"
   ]
  },
  {
   "cell_type": "markdown",
   "id": "43a2064d",
   "metadata": {},
   "source": [
    "## plot ratio of Mphi subcelltype"
   ]
  },
  {
   "cell_type": "code",
   "execution_count": 89,
   "id": "141a102a",
   "metadata": {},
   "outputs": [],
   "source": [
    "# macro.cellCount\n",
    "mono.cell.count <- table(Idents(monocyte.seu), monocyte.seu@meta.data$orig.ident) %>% as.data.frame()\n",
    "colnames(mono.cell.count) <- c(\"celltype\", \"grade\", \"cell.num\")\n",
    "mono.cell.count <- mono.cell.count %>% group_by(grade) %>% do({\n",
    "  df <- .\n",
    "  df$ratio <- df$cell.num / sum(df$cell.num) * 100\n",
    "  df\n",
    "})\n",
    "\n",
    "\n",
    "mono.cell.ratio <- \n",
    "  mono.cell.count %>% \n",
    "    ggplot() + geom_bar(aes(x=grade, y=ratio, fill=celltype), stat = \"identity\") +\n",
    "      scale_fill_manual(values=monocyte.color) +\n",
    "      scale_y_continuous(limits = c(0,100), expand = c(0.01,0.01), \n",
    "                         breaks = seq(0,100, 25), labels = paste0(seq(0,100,25), \"%\"))+\n",
    "      theme(panel.grid.major = element_blank(),\n",
    "            panel.grid.minor = element_blank(),\n",
    "            panel.background = element_blank(),\n",
    "            axis.line = element_line(colour = \"black\"),\n",
    "            axis.text.x = element_text(size = 14),\n",
    "            axis.text.y = element_text(size = 14),\n",
    "            axis.title.y = element_text(size = 20),\n",
    "            legend.text = element_text(size = 14),\n",
    "            legend.title = element_text(size = 20),\n",
    "            legend.background = element_blank(),\n",
    "            legend.key=element_blank(),\n",
    "            panel.border = element_rect(colour = \"black\", fill=NA, size=1)) +\n",
    "      labs(x=\"\", y=\"% of all monocyte/macrophage cells\")\n"
   ]
  },
  {
   "cell_type": "code",
   "execution_count": 91,
   "id": "dab05609",
   "metadata": {},
   "outputs": [
    {
     "data": {
      "text/html": [
       "<strong>png:</strong> 2"
      ],
      "text/latex": [
       "\\textbf{png:} 2"
      ],
      "text/markdown": [
       "**png:** 2"
      ],
      "text/plain": [
       "png \n",
       "  2 "
      ]
     },
     "metadata": {},
     "output_type": "display_data"
    }
   ],
   "source": [
    "### ===================== plot monocyte celltype ratio barplots =====================\n",
    "pdf(\"~/project/2020-6-18-IVDD_scRNA/plots/paper_plots/new_Figure4_immune_monocyte_ratio_bar.pdf\")\n",
    "mono.cell.ratio\n",
    "dev.off()"
   ]
  },
  {
   "cell_type": "markdown",
   "id": "dbafc5db",
   "metadata": {},
   "source": [
    "## subset SPP1 and M1 M2"
   ]
  },
  {
   "cell_type": "code",
   "execution_count": 10,
   "id": "51edee5b",
   "metadata": {},
   "outputs": [],
   "source": [
    "spp1.seu <- subset(monocyte.seu, idents = c(\"Mphi-M1-CCL3\", \"Mphi-M2-NR4A2\", \"Mphi-M2-SPP1\"))"
   ]
  },
  {
   "cell_type": "code",
   "execution_count": 11,
   "id": "824ad97d",
   "metadata": {},
   "outputs": [
    {
     "data": {
      "text/html": [
       "<style>\n",
       ".list-inline {list-style: none; margin:0; padding: 0}\n",
       ".list-inline>li {display: inline-block}\n",
       ".list-inline>li:not(:last-child)::after {content: \"\\00b7\"; padding: 0 .5ex}\n",
       "</style>\n",
       "<ol class=list-inline><li>33538</li><li>806</li></ol>\n"
      ],
      "text/latex": [
       "\\begin{enumerate*}\n",
       "\\item 33538\n",
       "\\item 806\n",
       "\\end{enumerate*}\n"
      ],
      "text/markdown": [
       "1. 33538\n",
       "2. 806\n",
       "\n",
       "\n"
      ],
      "text/plain": [
       "[1] 33538   806"
      ]
     },
     "metadata": {},
     "output_type": "display_data"
    }
   ],
   "source": [
    "dim(spp1.seu)"
   ]
  },
  {
   "cell_type": "code",
   "execution_count": 17,
   "id": "ccedff6b",
   "metadata": {},
   "outputs": [
    {
     "name": "stderr",
     "output_type": "stream",
     "text": [
      "Warning message:\n",
      "“The following features are not present in the object: MLF1IP, not searching for symbol synonyms”\n",
      "Warning message:\n",
      "“The following features are not present in the object: FAM64A, HN1, not searching for symbol synonyms”\n",
      "Centering and scaling data matrix\n",
      "\n",
      "Warning message in RunUMAP.default(object = data.use, reduction.model = reduction.model, :\n",
      "“restarting interrupted promise evaluation”\n",
      "Warning message in RunUMAP.default(object = data.use, reduction.model = reduction.model, :\n",
      "“internal error -3 in R_decompress1”\n"
     ]
    },
    {
     "ename": "ERROR",
     "evalue": "Error in RunUMAP.default(object = data.use, reduction.model = reduction.model, : lazy-load database '/mnt/data4/disk/lzz/anaconda3/envs/R_4/lib/R/library/uwot/R/uwot.rdb' is corrupt\n",
     "output_type": "error",
     "traceback": [
      "Error in RunUMAP.default(object = data.use, reduction.model = reduction.model, : lazy-load database '/mnt/data4/disk/lzz/anaconda3/envs/R_4/lib/R/library/uwot/R/uwot.rdb' is corrupt\nTraceback:\n",
      "1. Seurat.wf(spp1.seu)",
      "2. SeuratObj %>% RunUMAP(reduction = \"pca\", dims = 1:npcs) %>% FindNeighbors(dims = 1:npcs) %>% \n .     FindClusters(resolution = resolution) %>% identity()",
      "3. identity(.)",
      "4. FindClusters(., resolution = resolution)",
      "5. FindNeighbors(., dims = 1:npcs)",
      "6. RunUMAP(., reduction = \"pca\", dims = 1:npcs)",
      "7. RunUMAP.Seurat(., reduction = \"pca\", dims = 1:npcs)",
      "8. RunUMAP(object = data.use, reduction.model = reduction.model, \n .     return.model = return.model, assay = assay, umap.method = umap.method, \n .     n.neighbors = n.neighbors, n.components = n.components, metric = metric, \n .     n.epochs = n.epochs, learning.rate = learning.rate, min.dist = min.dist, \n .     spread = spread, set.op.mix.ratio = set.op.mix.ratio, local.connectivity = local.connectivity, \n .     repulsion.strength = repulsion.strength, negative.sample.rate = negative.sample.rate, \n .     a = a, b = b, uwot.sgd = uwot.sgd, seed.use = seed.use, metric.kwds = metric.kwds, \n .     angular.rp.forest = angular.rp.forest, densmap = densmap, \n .     dens.lambda = dens.lambda, dens.frac = dens.frac, dens.var.shift = dens.var.shift, \n .     reduction.key = reduction.key, verbose = verbose)",
      "9. RunUMAP.default(object = data.use, reduction.model = reduction.model, \n .     return.model = return.model, assay = assay, umap.method = umap.method, \n .     n.neighbors = n.neighbors, n.components = n.components, metric = metric, \n .     n.epochs = n.epochs, learning.rate = learning.rate, min.dist = min.dist, \n .     spread = spread, set.op.mix.ratio = set.op.mix.ratio, local.connectivity = local.connectivity, \n .     repulsion.strength = repulsion.strength, negative.sample.rate = negative.sample.rate, \n .     a = a, b = b, uwot.sgd = uwot.sgd, seed.use = seed.use, metric.kwds = metric.kwds, \n .     angular.rp.forest = angular.rp.forest, densmap = densmap, \n .     dens.lambda = dens.lambda, dens.frac = dens.frac, dens.var.shift = dens.var.shift, \n .     reduction.key = reduction.key, verbose = verbose)"
     ]
    }
   ],
   "source": [
    "spp1.seu <- Seurat.wf(spp1.seu)\n",
    "\n",
    "spp1.seu <-\n",
    "  RunHarmony(\n",
    "    spp1.seu,\n",
    "    group.by.vars = \"sample_name\"\n",
    "  )\n",
    "\n",
    "npcs = 50\n",
    "resolution = 3\n",
    "spp1.seu <- \n",
    "  spp1.seu %>% \n",
    "    RunUMAP(reduction = \"harmony\", dims = 1:npcs) %>% \n",
    "    FindNeighbors(reduction = \"harmony\", dims = 1:npcs) %>% \n",
    "    FindClusters(resolution = resolution) %>% \n",
    "    identity()"
   ]
  },
  {
   "cell_type": "code",
   "execution_count": null,
   "id": "3d9d4a6a",
   "metadata": {},
   "outputs": [],
   "source": [
    "npcs = 50\n",
    "resolution = 3\n",
    "spp1.seu <- \n",
    "  spp1.seu %>% \n",
    "    RunUMAP(reduction = \"harmony\", dims = 1:npcs) %>% \n",
    "    FindNeighbors(reduction = \"harmony\", dims = 1:npcs) %>% \n",
    "    FindClusters(resolution = resolution) %>% \n",
    "    identity()"
   ]
  },
  {
   "cell_type": "code",
   "execution_count": 127,
   "id": "a72555bd",
   "metadata": {},
   "outputs": [
    {
     "data": {
      "text/html": [
       "<style>\n",
       ".list-inline {list-style: none; margin:0; padding: 0}\n",
       ".list-inline>li {display: inline-block}\n",
       ".list-inline>li:not(:last-child)::after {content: \"\\00b7\"; padding: 0 .5ex}\n",
       "</style>\n",
       "<ol class=list-inline><li>'Mphi-M1-CCL3'</li><li>'Mphi-M2-NR4A2'</li><li>'Mphi-M2-SPP1'</li></ol>\n"
      ],
      "text/latex": [
       "\\begin{enumerate*}\n",
       "\\item 'Mphi-M1-CCL3'\n",
       "\\item 'Mphi-M2-NR4A2'\n",
       "\\item 'Mphi-M2-SPP1'\n",
       "\\end{enumerate*}\n"
      ],
      "text/markdown": [
       "1. 'Mphi-M1-CCL3'\n",
       "2. 'Mphi-M2-NR4A2'\n",
       "3. 'Mphi-M2-SPP1'\n",
       "\n",
       "\n"
      ],
      "text/plain": [
       "[1] \"Mphi-M1-CCL3\"  \"Mphi-M2-NR4A2\" \"Mphi-M2-SPP1\" "
      ]
     },
     "metadata": {},
     "output_type": "display_data"
    }
   ],
   "source": [
    "spp1.seu$new.immune.ct2 %>% unique()"
   ]
  },
  {
   "cell_type": "code",
   "execution_count": 129,
   "id": "6492a057",
   "metadata": {},
   "outputs": [],
   "source": [
    "Idents(spp1.seu) <- spp1.seu$new.immune.ct2"
   ]
  },
  {
   "cell_type": "code",
   "execution_count": 130,
   "id": "7564cc8d",
   "metadata": {},
   "outputs": [
    {
     "data": {
      "image/png": "[encoded data removed]",
      "text/plain": [
       "plot without title"
      ]
     },
     "metadata": {
      "image/png": {
       "height": 600,
       "width": 840
      }
     },
     "output_type": "display_data"
    }
   ],
   "source": [
    "DimPlot(spp1.seu, label = T)"
   ]
  },
  {
   "cell_type": "code",
   "execution_count": null,
   "id": "7a7a1fb0",
   "metadata": {},
   "outputs": [],
   "source": []
  },
  {
   "cell_type": "code",
   "execution_count": null,
   "id": "712b29f8",
   "metadata": {},
   "outputs": [],
   "source": []
  },
  {
   "cell_type": "code",
   "execution_count": 103,
   "id": "96178d43",
   "metadata": {},
   "outputs": [],
   "source": [
    "saveRDS(spp1.seu, \"/mnt/data/home/lzz/project/2020-6-18-IVDD_scRNA/results/combin_results/new_results/immune/new_noC03_SPP1_monocytes_SeuratObj.Rds\")"
   ]
  },
  {
   "cell_type": "markdown",
   "id": "91420a78",
   "metadata": {},
   "source": [
    "## monocle 2"
   ]
  },
  {
   "cell_type": "code",
   "execution_count": 115,
   "id": "4d58adec",
   "metadata": {
    "code_folding": [
     0
    ]
   },
   "outputs": [],
   "source": [
    "newimport <- function(otherCDS, import_all = FALSE) {\n",
    "  if(class(otherCDS)[1] == 'Seurat') {\n",
    "    requireNamespace(\"Seurat\")\n",
    "    data <- otherCDS@assays$RNA@counts\n",
    "\n",
    "    if(class(data) == \"data.frame\") {\n",
    "      data <- as(as.matrix(data), \"sparseMatrix\")\n",
    "    }\n",
    "\n",
    "    pd <- tryCatch( {\n",
    "      pd <- new(\"AnnotatedDataFrame\", data = otherCDS@meta.data)\n",
    "      pd\n",
    "    },\n",
    "    #warning = function(w) { },\n",
    "    error = function(e) {\n",
    "      pData <- data.frame(cell_id = colnames(data), row.names = colnames(data))\n",
    "      pd <- new(\"AnnotatedDataFrame\", data = pData)\n",
    "\n",
    "      message(\"This Seurat object doesn't provide any meta data\");\n",
    "      pd\n",
    "    })\n",
    "\n",
    "    # remove filtered cells from Seurat\n",
    "    if(length(setdiff(colnames(data), rownames(pd))) > 0) {\n",
    "      data <- data[, rownames(pd)]\n",
    "    }\n",
    "\n",
    "    fData <- data.frame(gene_short_name = row.names(data), row.names = row.names(data))\n",
    "    fd <- new(\"AnnotatedDataFrame\", data = fData)\n",
    "    lowerDetectionLimit <- 0\n",
    "\n",
    "    if(all(data == floor(data))) {\n",
    "      expressionFamily <- negbinomial.size()\n",
    "    } else if(any(data < 0)){\n",
    "      expressionFamily <- uninormal()\n",
    "    } else {\n",
    "      expressionFamily <- tobit()\n",
    "    }\n",
    "\n",
    "    valid_data <- data[, row.names(pd)]\n",
    "\n",
    "    monocle_cds <- newCellDataSet(data,\n",
    "                                  phenoData = pd,\n",
    "                                  featureData = fd,\n",
    "                                  lowerDetectionLimit=lowerDetectionLimit,\n",
    "                                  expressionFamily=expressionFamily)\n",
    "\n",
    "    if(import_all) {\n",
    "      if(\"Monocle\" %in% names(otherCDS@misc)) {\n",
    "        otherCDS@misc$Monocle@auxClusteringData$seurat <- NULL\n",
    "        otherCDS@misc$Monocle@auxClusteringData$scran <- NULL\n",
    "\n",
    "        monocle_cds <- otherCDS@misc$Monocle\n",
    "        mist_list <- otherCDS\n",
    "\n",
    "      } else {\n",
    "        # mist_list <- list(ident = ident)\n",
    "        mist_list <- otherCDS\n",
    "      }\n",
    "    } else {\n",
    "      mist_list <- list()\n",
    "    }\n",
    "\n",
    "    if(1==1) {\n",
    "      var.genes <- setOrderingFilter(monocle_cds, otherCDS@assays$RNA@var.features)\n",
    "\n",
    "    }\n",
    "    monocle_cds@auxClusteringData$seurat <- mist_list\n",
    "\n",
    "  } else if (class(otherCDS)[1] == 'SCESet') {\n",
    "    requireNamespace(\"scater\")\n",
    "\n",
    "    message('Converting the exprs data in log scale back to original scale ...')\n",
    "    data <- 2^otherCDS@assayData$exprs - otherCDS@logExprsOffset\n",
    "\n",
    "    fd <- otherCDS@featureData\n",
    "    pd <- otherCDS@phenoData\n",
    "    experimentData = otherCDS@experimentData\n",
    "    if(\"is.expr\" %in% slotNames(otherCDS))\n",
    "      lowerDetectionLimit <- otherCDS@is.expr\n",
    "    else\n",
    "      lowerDetectionLimit <- 1\n",
    "\n",
    "    if(all(data == floor(data))) {\n",
    "      expressionFamily <- negbinomial.size()\n",
    "    } else if(any(data < 0)){\n",
    "      expressionFamily <- uninormal()\n",
    "    } else {\n",
    "      expressionFamily <- tobit()\n",
    "    }\n",
    "\n",
    "    if(import_all) {\n",
    "      # mist_list <- list(iotherCDS@sc3,\n",
    "      #                   otherCDS@reducedDimension)\n",
    "      mist_list <- otherCDS\n",
    "\n",
    "    } else {\n",
    "      mist_list <- list()\n",
    "    }\n",
    "\n",
    "    monocle_cds <- newCellDataSet(data,\n",
    "                                  phenoData = pd,\n",
    "                                  featureData = fd,\n",
    "                                  lowerDetectionLimit=lowerDetectionLimit,\n",
    "                                  expressionFamily=expressionFamily)\n",
    "    # monocle_cds@auxClusteringData$sc3 <- otherCDS@sc3\n",
    "    # monocle_cds@auxOrderingData$scran <- mist_list\n",
    "\n",
    "    monocle_cds@auxOrderingData$scran <- mist_list\n",
    "\n",
    "  } else {\n",
    "    stop('the object type you want to export to is not supported yet')\n",
    "  }\n",
    "\n",
    "  return(monocle_cds)\n",
    "}"
   ]
  },
  {
   "cell_type": "code",
   "execution_count": 117,
   "id": "364a4630",
   "metadata": {},
   "outputs": [
    {
     "name": "stderr",
     "output_type": "stream",
     "text": [
      "Removing 329 outliers\n",
      "\n"
     ]
    }
   ],
   "source": [
    "cds <- newimport(spp1.seu)\n",
    "cds <- estimateSizeFactors(cds)\n",
    "cds <- estimateDispersions(cds)\n",
    "cds <- detectGenes(cds, min_expr = 0.1)\n",
    "expressed_genes <- row.names(subset(fData(cds),\n",
    "    num_cells_expressed >= 10))\n",
    "pData(cds)$CellType <- pData(cds)$new.immune.ct2\n",
    "ori.diff_test_res <- differentialGeneTest(cds[expressed_genes,],\n",
    "              fullModelFormulaStr = \"~new.immune.ct2\")\n",
    "ordering_genes <- row.names(subset(ori.diff_test_res, qval < 0.01))\n",
    "cds <- setOrderingFilter(cds, ordering_genes)"
   ]
  },
  {
   "cell_type": "code",
   "execution_count": 118,
   "id": "3cf2f8c2",
   "metadata": {},
   "outputs": [],
   "source": [
    "cds <- reduceDimension(cds, max_components = 2,\n",
    "                       method = 'DDRTree')"
   ]
  },
  {
   "cell_type": "code",
   "execution_count": 119,
   "id": "f7147000",
   "metadata": {
    "collapsed": true
   },
   "outputs": [
    {
     "name": "stderr",
     "output_type": "stream",
     "text": [
      "Warning message in if (class(projection) != \"matrix\") projection <- as.matrix(projection):\n",
      "“the condition has length > 1 and only the first element will be used”\n",
      "Warning message in if (class(projection) != \"matrix\") projection <- as.matrix(projection):\n",
      "“the condition has length > 1 and only the first element will be used”\n",
      "Warning message in if (class(projection) != \"matrix\") projection <- as.matrix(projection):\n",
      "“the condition has length > 1 and only the first element will be used”\n",
      "Warning message in if (class(projection) != \"matrix\") projection <- as.matrix(projection):\n",
      "“the condition has length > 1 and only the first element will be used”\n",
      "Warning message in if (class(projection) != \"matrix\") projection <- as.matrix(projection):\n",
      "“the condition has length > 1 and only the first element will be used”\n",
      "Warning message in if (class(projection) != \"matrix\") projection <- as.matrix(projection):\n",
      "“the condition has length > 1 and only the first element will be used”\n",
      "Warning message in if (class(projection) != \"matrix\") projection <- as.matrix(projection):\n",
      "“the condition has length > 1 and only the first element will be used”\n",
      "Warning message in if (class(projection) != \"matrix\") projection <- as.matrix(projection):\n",
      "“the condition has length > 1 and only the first element will be used”\n",
      "Warning message in if (class(projection) != \"matrix\") projection <- as.matrix(projection):\n",
      "“the condition has length > 1 and only the first element will be used”\n",
      "Warning message in if (class(projection) != \"matrix\") projection <- as.matrix(projection):\n",
      "“the condition has length > 1 and only the first element will be used”\n",
      "Warning message in if (class(projection) != \"matrix\") projection <- as.matrix(projection):\n",
      "“the condition has length > 1 and only the first element will be used”\n",
      "Warning message in if (class(projection) != \"matrix\") projection <- as.matrix(projection):\n",
      "“the condition has length > 1 and only the first element will be used”\n",
      "Warning message in if (class(projection) != \"matrix\") projection <- as.matrix(projection):\n",
      "“the condition has length > 1 and only the first element will be used”\n",
      "Warning message in if (class(projection) != \"matrix\") projection <- as.matrix(projection):\n",
      "“the condition has length > 1 and only the first element will be used”\n",
      "Warning message in if (class(projection) != \"matrix\") projection <- as.matrix(projection):\n",
      "“the condition has length > 1 and only the first element will be used”\n",
      "Warning message in if (class(projection) != \"matrix\") projection <- as.matrix(projection):\n",
      "“the condition has length > 1 and only the first element will be used”\n",
      "Warning message in if (class(projection) != \"matrix\") projection <- as.matrix(projection):\n",
      "“the condition has length > 1 and only the first element will be used”\n",
      "Warning message in if (class(projection) != \"matrix\") projection <- as.matrix(projection):\n",
      "“the condition has length > 1 and only the first element will be used”\n",
      "Warning message in if (class(projection) != \"matrix\") projection <- as.matrix(projection):\n",
      "“the condition has length > 1 and only the first element will be used”\n",
      "Warning message in if (class(projection) != \"matrix\") projection <- as.matrix(projection):\n",
      "“the condition has length > 1 and only the first element will be used”\n",
      "Warning message in if (class(projection) != \"matrix\") projection <- as.matrix(projection):\n",
      "“the condition has length > 1 and only the first element will be used”\n",
      "Warning message in if (class(projection) != \"matrix\") projection <- as.matrix(projection):\n",
      "“the condition has length > 1 and only the first element will be used”\n",
      "Warning message in if (class(projection) != \"matrix\") projection <- as.matrix(projection):\n",
      "“the condition has length > 1 and only the first element will be used”\n",
      "Warning message in if (class(projection) != \"matrix\") projection <- as.matrix(projection):\n",
      "“the condition has length > 1 and only the first element will be used”\n",
      "Warning message in if (class(projection) != \"matrix\") projection <- as.matrix(projection):\n",
      "“the condition has length > 1 and only the first element will be used”\n",
      "Warning message in if (class(projection) != \"matrix\") projection <- as.matrix(projection):\n",
      "“the condition has length > 1 and only the first element will be used”\n",
      "Warning message in if (class(projection) != \"matrix\") projection <- as.matrix(projection):\n",
      "“the condition has length > 1 and only the first element will be used”\n",
      "Warning message in if (class(projection) != \"matrix\") projection <- as.matrix(projection):\n",
      "“the condition has length > 1 and only the first element will be used”\n",
      "Warning message in if (class(projection) != \"matrix\") projection <- as.matrix(projection):\n",
      "“the condition has length > 1 and only the first element will be used”\n",
      "Warning message in if (class(projection) != \"matrix\") projection <- as.matrix(projection):\n",
      "“the condition has length > 1 and only the first element will be used”\n",
      "Warning message in if (class(projection) != \"matrix\") projection <- as.matrix(projection):\n",
      "“the condition has length > 1 and only the first element will be used”\n",
      "Warning message in if (class(projection) != \"matrix\") projection <- as.matrix(projection):\n",
      "“the condition has length > 1 and only the first element will be used”\n",
      "Warning message in if (class(projection) != \"matrix\") projection <- as.matrix(projection):\n",
      "“the condition has length > 1 and only the first element will be used”\n",
      "Warning message in if (class(projection) != \"matrix\") projection <- as.matrix(projection):\n",
      "“the condition has length > 1 and only the first element will be used”\n",
      "Warning message in if (class(projection) != \"matrix\") projection <- as.matrix(projection):\n",
      "“the condition has length > 1 and only the first element will be used”\n",
      "Warning message in if (class(projection) != \"matrix\") projection <- as.matrix(projection):\n",
      "“the condition has length > 1 and only the first element will be used”\n",
      "Warning message in if (class(projection) != \"matrix\") projection <- as.matrix(projection):\n",
      "“the condition has length > 1 and only the first element will be used”\n",
      "Warning message in if (class(projection) != \"matrix\") projection <- as.matrix(projection):\n",
      "“the condition has length > 1 and only the first element will be used”\n",
      "Warning message in if (class(projection) != \"matrix\") projection <- as.matrix(projection):\n",
      "“the condition has length > 1 and only the first element will be used”\n",
      "Warning message in if (class(projection) != \"matrix\") projection <- as.matrix(projection):\n",
      "“the condition has length > 1 and only the first element will be used”\n",
      "Warning message in if (class(projection) != \"matrix\") projection <- as.matrix(projection):\n",
      "“the condition has length > 1 and only the first element will be used”\n",
      "Warning message in if (class(projection) != \"matrix\") projection <- as.matrix(projection):\n",
      "“the condition has length > 1 and only the first element will be used”\n",
      "Warning message in if (class(projection) != \"matrix\") projection <- as.matrix(projection):\n",
      "“the condition has length > 1 and only the first element will be used”\n",
      "Warning message in if (class(projection) != \"matrix\") projection <- as.matrix(projection):\n",
      "“the condition has length > 1 and only the first element will be used”\n",
      "Warning message in if (class(projection) != \"matrix\") projection <- as.matrix(projection):\n",
      "“the condition has length > 1 and only the first element will be used”\n",
      "Warning message in if (class(projection) != \"matrix\") projection <- as.matrix(projection):\n",
      "“the condition has length > 1 and only the first element will be used”\n",
      "Warning message in if (class(projection) != \"matrix\") projection <- as.matrix(projection):\n",
      "“the condition has length > 1 and only the first element will be used”\n",
      "Warning message in if (class(projection) != \"matrix\") projection <- as.matrix(projection):\n",
      "“the condition has length > 1 and only the first element will be used”\n",
      "Warning message in if (class(projection) != \"matrix\") projection <- as.matrix(projection):\n",
      "“the condition has length > 1 and only the first element will be used”\n",
      "Warning message in if (class(projection) != \"matrix\") projection <- as.matrix(projection):\n",
      "“the condition has length > 1 and only the first element will be used”\n",
      "Warning message in if (class(projection) != \"matrix\") projection <- as.matrix(projection):\n",
      "“the condition has length > 1 and only the first element will be used”\n"
     ]
    },
    {
     "name": "stderr",
     "output_type": "stream",
     "text": [
      "Warning message in if (class(projection) != \"matrix\") projection <- as.matrix(projection):\n",
      "“the condition has length > 1 and only the first element will be used”\n",
      "Warning message in if (class(projection) != \"matrix\") projection <- as.matrix(projection):\n",
      "“the condition has length > 1 and only the first element will be used”\n",
      "Warning message in if (class(projection) != \"matrix\") projection <- as.matrix(projection):\n",
      "“the condition has length > 1 and only the first element will be used”\n",
      "Warning message in if (class(projection) != \"matrix\") projection <- as.matrix(projection):\n",
      "“the condition has length > 1 and only the first element will be used”\n",
      "Warning message in if (class(projection) != \"matrix\") projection <- as.matrix(projection):\n",
      "“the condition has length > 1 and only the first element will be used”\n",
      "Warning message in if (class(projection) != \"matrix\") projection <- as.matrix(projection):\n",
      "“the condition has length > 1 and only the first element will be used”\n",
      "Warning message in if (class(projection) != \"matrix\") projection <- as.matrix(projection):\n",
      "“the condition has length > 1 and only the first element will be used”\n",
      "Warning message in if (class(projection) != \"matrix\") projection <- as.matrix(projection):\n",
      "“the condition has length > 1 and only the first element will be used”\n",
      "Warning message in if (class(projection) != \"matrix\") projection <- as.matrix(projection):\n",
      "“the condition has length > 1 and only the first element will be used”\n",
      "Warning message in if (class(projection) != \"matrix\") projection <- as.matrix(projection):\n",
      "“the condition has length > 1 and only the first element will be used”\n",
      "Warning message in if (class(projection) != \"matrix\") projection <- as.matrix(projection):\n",
      "“the condition has length > 1 and only the first element will be used”\n",
      "Warning message in if (class(projection) != \"matrix\") projection <- as.matrix(projection):\n",
      "“the condition has length > 1 and only the first element will be used”\n",
      "Warning message in if (class(projection) != \"matrix\") projection <- as.matrix(projection):\n",
      "“the condition has length > 1 and only the first element will be used”\n",
      "Warning message in if (class(projection) != \"matrix\") projection <- as.matrix(projection):\n",
      "“the condition has length > 1 and only the first element will be used”\n",
      "Warning message in if (class(projection) != \"matrix\") projection <- as.matrix(projection):\n",
      "“the condition has length > 1 and only the first element will be used”\n",
      "Warning message in if (class(projection) != \"matrix\") projection <- as.matrix(projection):\n",
      "“the condition has length > 1 and only the first element will be used”\n",
      "Warning message in if (class(projection) != \"matrix\") projection <- as.matrix(projection):\n",
      "“the condition has length > 1 and only the first element will be used”\n",
      "Warning message in if (class(projection) != \"matrix\") projection <- as.matrix(projection):\n",
      "“the condition has length > 1 and only the first element will be used”\n",
      "Warning message in if (class(projection) != \"matrix\") projection <- as.matrix(projection):\n",
      "“the condition has length > 1 and only the first element will be used”\n",
      "Warning message in if (class(projection) != \"matrix\") projection <- as.matrix(projection):\n",
      "“the condition has length > 1 and only the first element will be used”\n",
      "Warning message in if (class(projection) != \"matrix\") projection <- as.matrix(projection):\n",
      "“the condition has length > 1 and only the first element will be used”\n",
      "Warning message in if (class(projection) != \"matrix\") projection <- as.matrix(projection):\n",
      "“the condition has length > 1 and only the first element will be used”\n",
      "Warning message in if (class(projection) != \"matrix\") projection <- as.matrix(projection):\n",
      "“the condition has length > 1 and only the first element will be used”\n",
      "Warning message in if (class(projection) != \"matrix\") projection <- as.matrix(projection):\n",
      "“the condition has length > 1 and only the first element will be used”\n",
      "Warning message in if (class(projection) != \"matrix\") projection <- as.matrix(projection):\n",
      "“the condition has length > 1 and only the first element will be used”\n",
      "Warning message in if (class(projection) != \"matrix\") projection <- as.matrix(projection):\n",
      "“the condition has length > 1 and only the first element will be used”\n",
      "Warning message in if (class(projection) != \"matrix\") projection <- as.matrix(projection):\n",
      "“the condition has length > 1 and only the first element will be used”\n",
      "Warning message in if (class(projection) != \"matrix\") projection <- as.matrix(projection):\n",
      "“the condition has length > 1 and only the first element will be used”\n",
      "Warning message in if (class(projection) != \"matrix\") projection <- as.matrix(projection):\n",
      "“the condition has length > 1 and only the first element will be used”\n",
      "Warning message in if (class(projection) != \"matrix\") projection <- as.matrix(projection):\n",
      "“the condition has length > 1 and only the first element will be used”\n",
      "Warning message in if (class(projection) != \"matrix\") projection <- as.matrix(projection):\n",
      "“the condition has length > 1 and only the first element will be used”\n",
      "Warning message in if (class(projection) != \"matrix\") projection <- as.matrix(projection):\n",
      "“the condition has length > 1 and only the first element will be used”\n",
      "Warning message in if (class(projection) != \"matrix\") projection <- as.matrix(projection):\n",
      "“the condition has length > 1 and only the first element will be used”\n",
      "Warning message in if (class(projection) != \"matrix\") projection <- as.matrix(projection):\n",
      "“the condition has length > 1 and only the first element will be used”\n",
      "Warning message in if (class(projection) != \"matrix\") projection <- as.matrix(projection):\n",
      "“the condition has length > 1 and only the first element will be used”\n",
      "Warning message in if (class(projection) != \"matrix\") projection <- as.matrix(projection):\n",
      "“the condition has length > 1 and only the first element will be used”\n",
      "Warning message in if (class(projection) != \"matrix\") projection <- as.matrix(projection):\n",
      "“the condition has length > 1 and only the first element will be used”\n",
      "Warning message in if (class(projection) != \"matrix\") projection <- as.matrix(projection):\n",
      "“the condition has length > 1 and only the first element will be used”\n",
      "Warning message in if (class(projection) != \"matrix\") projection <- as.matrix(projection):\n",
      "“the condition has length > 1 and only the first element will be used”\n",
      "Warning message in if (class(projection) != \"matrix\") projection <- as.matrix(projection):\n",
      "“the condition has length > 1 and only the first element will be used”\n",
      "Warning message in if (class(projection) != \"matrix\") projection <- as.matrix(projection):\n",
      "“the condition has length > 1 and only the first element will be used”\n",
      "Warning message in if (class(projection) != \"matrix\") projection <- as.matrix(projection):\n",
      "“the condition has length > 1 and only the first element will be used”\n",
      "Warning message in if (class(projection) != \"matrix\") projection <- as.matrix(projection):\n",
      "“the condition has length > 1 and only the first element will be used”\n",
      "Warning message in if (class(projection) != \"matrix\") projection <- as.matrix(projection):\n",
      "“the condition has length > 1 and only the first element will be used”\n",
      "Warning message in if (class(projection) != \"matrix\") projection <- as.matrix(projection):\n",
      "“the condition has length > 1 and only the first element will be used”\n",
      "Warning message in if (class(projection) != \"matrix\") projection <- as.matrix(projection):\n",
      "“the condition has length > 1 and only the first element will be used”\n",
      "Warning message in if (class(projection) != \"matrix\") projection <- as.matrix(projection):\n",
      "“the condition has length > 1 and only the first element will be used”\n",
      "Warning message in if (class(projection) != \"matrix\") projection <- as.matrix(projection):\n",
      "“the condition has length > 1 and only the first element will be used”\n",
      "Warning message in if (class(projection) != \"matrix\") projection <- as.matrix(projection):\n",
      "“the condition has length > 1 and only the first element will be used”\n",
      "Warning message in if (class(projection) != \"matrix\") projection <- as.matrix(projection):\n",
      "“the condition has length > 1 and only the first element will be used”\n",
      "Warning message in if (class(projection) != \"matrix\") projection <- as.matrix(projection):\n",
      "“the condition has length > 1 and only the first element will be used”\n"
     ]
    },
    {
     "name": "stderr",
     "output_type": "stream",
     "text": [
      "Warning message in if (class(projection) != \"matrix\") projection <- as.matrix(projection):\n",
      "“the condition has length > 1 and only the first element will be used”\n",
      "Warning message in if (class(projection) != \"matrix\") projection <- as.matrix(projection):\n",
      "“the condition has length > 1 and only the first element will be used”\n",
      "Warning message in if (class(projection) != \"matrix\") projection <- as.matrix(projection):\n",
      "“the condition has length > 1 and only the first element will be used”\n",
      "Warning message in if (class(projection) != \"matrix\") projection <- as.matrix(projection):\n",
      "“the condition has length > 1 and only the first element will be used”\n",
      "Warning message in if (class(projection) != \"matrix\") projection <- as.matrix(projection):\n",
      "“the condition has length > 1 and only the first element will be used”\n",
      "Warning message in if (class(projection) != \"matrix\") projection <- as.matrix(projection):\n",
      "“the condition has length > 1 and only the first element will be used”\n",
      "Warning message in if (class(projection) != \"matrix\") projection <- as.matrix(projection):\n",
      "“the condition has length > 1 and only the first element will be used”\n",
      "Warning message in if (class(projection) != \"matrix\") projection <- as.matrix(projection):\n",
      "“the condition has length > 1 and only the first element will be used”\n",
      "Warning message in if (class(projection) != \"matrix\") projection <- as.matrix(projection):\n",
      "“the condition has length > 1 and only the first element will be used”\n",
      "Warning message in if (class(projection) != \"matrix\") projection <- as.matrix(projection):\n",
      "“the condition has length > 1 and only the first element will be used”\n",
      "Warning message in if (class(projection) != \"matrix\") projection <- as.matrix(projection):\n",
      "“the condition has length > 1 and only the first element will be used”\n",
      "Warning message in if (class(projection) != \"matrix\") projection <- as.matrix(projection):\n",
      "“the condition has length > 1 and only the first element will be used”\n",
      "Warning message in if (class(projection) != \"matrix\") projection <- as.matrix(projection):\n",
      "“the condition has length > 1 and only the first element will be used”\n",
      "Warning message in if (class(projection) != \"matrix\") projection <- as.matrix(projection):\n",
      "“the condition has length > 1 and only the first element will be used”\n",
      "Warning message in if (class(projection) != \"matrix\") projection <- as.matrix(projection):\n",
      "“the condition has length > 1 and only the first element will be used”\n",
      "Warning message in if (class(projection) != \"matrix\") projection <- as.matrix(projection):\n",
      "“the condition has length > 1 and only the first element will be used”\n",
      "Warning message in if (class(projection) != \"matrix\") projection <- as.matrix(projection):\n",
      "“the condition has length > 1 and only the first element will be used”\n",
      "Warning message in if (class(projection) != \"matrix\") projection <- as.matrix(projection):\n",
      "“the condition has length > 1 and only the first element will be used”\n",
      "Warning message in if (class(projection) != \"matrix\") projection <- as.matrix(projection):\n",
      "“the condition has length > 1 and only the first element will be used”\n",
      "Warning message in if (class(projection) != \"matrix\") projection <- as.matrix(projection):\n",
      "“the condition has length > 1 and only the first element will be used”\n",
      "Warning message in if (class(projection) != \"matrix\") projection <- as.matrix(projection):\n",
      "“the condition has length > 1 and only the first element will be used”\n",
      "Warning message in if (class(projection) != \"matrix\") projection <- as.matrix(projection):\n",
      "“the condition has length > 1 and only the first element will be used”\n",
      "Warning message in if (class(projection) != \"matrix\") projection <- as.matrix(projection):\n",
      "“the condition has length > 1 and only the first element will be used”\n",
      "Warning message in if (class(projection) != \"matrix\") projection <- as.matrix(projection):\n",
      "“the condition has length > 1 and only the first element will be used”\n",
      "Warning message in if (class(projection) != \"matrix\") projection <- as.matrix(projection):\n",
      "“the condition has length > 1 and only the first element will be used”\n",
      "Warning message in if (class(projection) != \"matrix\") projection <- as.matrix(projection):\n",
      "“the condition has length > 1 and only the first element will be used”\n",
      "Warning message in if (class(projection) != \"matrix\") projection <- as.matrix(projection):\n",
      "“the condition has length > 1 and only the first element will be used”\n",
      "Warning message in if (class(projection) != \"matrix\") projection <- as.matrix(projection):\n",
      "“the condition has length > 1 and only the first element will be used”\n",
      "Warning message in if (class(projection) != \"matrix\") projection <- as.matrix(projection):\n",
      "“the condition has length > 1 and only the first element will be used”\n",
      "Warning message in if (class(projection) != \"matrix\") projection <- as.matrix(projection):\n",
      "“the condition has length > 1 and only the first element will be used”\n",
      "Warning message in if (class(projection) != \"matrix\") projection <- as.matrix(projection):\n",
      "“the condition has length > 1 and only the first element will be used”\n",
      "Warning message in if (class(projection) != \"matrix\") projection <- as.matrix(projection):\n",
      "“the condition has length > 1 and only the first element will be used”\n",
      "Warning message in if (class(projection) != \"matrix\") projection <- as.matrix(projection):\n",
      "“the condition has length > 1 and only the first element will be used”\n",
      "Warning message in if (class(projection) != \"matrix\") projection <- as.matrix(projection):\n",
      "“the condition has length > 1 and only the first element will be used”\n",
      "Warning message in if (class(projection) != \"matrix\") projection <- as.matrix(projection):\n",
      "“the condition has length > 1 and only the first element will be used”\n",
      "Warning message in if (class(projection) != \"matrix\") projection <- as.matrix(projection):\n",
      "“the condition has length > 1 and only the first element will be used”\n",
      "Warning message in if (class(projection) != \"matrix\") projection <- as.matrix(projection):\n",
      "“the condition has length > 1 and only the first element will be used”\n",
      "Warning message in if (class(projection) != \"matrix\") projection <- as.matrix(projection):\n",
      "“the condition has length > 1 and only the first element will be used”\n",
      "Warning message in if (class(projection) != \"matrix\") projection <- as.matrix(projection):\n",
      "“the condition has length > 1 and only the first element will be used”\n",
      "Warning message in if (class(projection) != \"matrix\") projection <- as.matrix(projection):\n",
      "“the condition has length > 1 and only the first element will be used”\n",
      "Warning message in if (class(projection) != \"matrix\") projection <- as.matrix(projection):\n",
      "“the condition has length > 1 and only the first element will be used”\n",
      "Warning message in if (class(projection) != \"matrix\") projection <- as.matrix(projection):\n",
      "“the condition has length > 1 and only the first element will be used”\n",
      "Warning message in if (class(projection) != \"matrix\") projection <- as.matrix(projection):\n",
      "“the condition has length > 1 and only the first element will be used”\n",
      "Warning message in if (class(projection) != \"matrix\") projection <- as.matrix(projection):\n",
      "“the condition has length > 1 and only the first element will be used”\n",
      "Warning message in if (class(projection) != \"matrix\") projection <- as.matrix(projection):\n",
      "“the condition has length > 1 and only the first element will be used”\n",
      "Warning message in if (class(projection) != \"matrix\") projection <- as.matrix(projection):\n",
      "“the condition has length > 1 and only the first element will be used”\n",
      "Warning message in if (class(projection) != \"matrix\") projection <- as.matrix(projection):\n",
      "“the condition has length > 1 and only the first element will be used”\n",
      "Warning message in if (class(projection) != \"matrix\") projection <- as.matrix(projection):\n",
      "“the condition has length > 1 and only the first element will be used”\n",
      "Warning message in if (class(projection) != \"matrix\") projection <- as.matrix(projection):\n",
      "“the condition has length > 1 and only the first element will be used”\n",
      "Warning message in if (class(projection) != \"matrix\") projection <- as.matrix(projection):\n",
      "“the condition has length > 1 and only the first element will be used”\n",
      "Warning message in if (class(projection) != \"matrix\") projection <- as.matrix(projection):\n",
      "“the condition has length > 1 and only the first element will be used”\n"
     ]
    },
    {
     "name": "stderr",
     "output_type": "stream",
     "text": [
      "Warning message in if (class(projection) != \"matrix\") projection <- as.matrix(projection):\n",
      "“the condition has length > 1 and only the first element will be used”\n",
      "Warning message in if (class(projection) != \"matrix\") projection <- as.matrix(projection):\n",
      "“the condition has length > 1 and only the first element will be used”\n",
      "Warning message in if (class(projection) != \"matrix\") projection <- as.matrix(projection):\n",
      "“the condition has length > 1 and only the first element will be used”\n",
      "Warning message in if (class(projection) != \"matrix\") projection <- as.matrix(projection):\n",
      "“the condition has length > 1 and only the first element will be used”\n",
      "Warning message in if (class(projection) != \"matrix\") projection <- as.matrix(projection):\n",
      "“the condition has length > 1 and only the first element will be used”\n",
      "Warning message in if (class(projection) != \"matrix\") projection <- as.matrix(projection):\n",
      "“the condition has length > 1 and only the first element will be used”\n",
      "Warning message in if (class(projection) != \"matrix\") projection <- as.matrix(projection):\n",
      "“the condition has length > 1 and only the first element will be used”\n",
      "Warning message in if (class(projection) != \"matrix\") projection <- as.matrix(projection):\n",
      "“the condition has length > 1 and only the first element will be used”\n",
      "Warning message in if (class(projection) != \"matrix\") projection <- as.matrix(projection):\n",
      "“the condition has length > 1 and only the first element will be used”\n",
      "Warning message in if (class(projection) != \"matrix\") projection <- as.matrix(projection):\n",
      "“the condition has length > 1 and only the first element will be used”\n",
      "Warning message in if (class(projection) != \"matrix\") projection <- as.matrix(projection):\n",
      "“the condition has length > 1 and only the first element will be used”\n",
      "Warning message in if (class(projection) != \"matrix\") projection <- as.matrix(projection):\n",
      "“the condition has length > 1 and only the first element will be used”\n",
      "Warning message in if (class(projection) != \"matrix\") projection <- as.matrix(projection):\n",
      "“the condition has length > 1 and only the first element will be used”\n",
      "Warning message in if (class(projection) != \"matrix\") projection <- as.matrix(projection):\n",
      "“the condition has length > 1 and only the first element will be used”\n",
      "Warning message in if (class(projection) != \"matrix\") projection <- as.matrix(projection):\n",
      "“the condition has length > 1 and only the first element will be used”\n",
      "Warning message in if (class(projection) != \"matrix\") projection <- as.matrix(projection):\n",
      "“the condition has length > 1 and only the first element will be used”\n",
      "Warning message in if (class(projection) != \"matrix\") projection <- as.matrix(projection):\n",
      "“the condition has length > 1 and only the first element will be used”\n",
      "Warning message in if (class(projection) != \"matrix\") projection <- as.matrix(projection):\n",
      "“the condition has length > 1 and only the first element will be used”\n",
      "Warning message in if (class(projection) != \"matrix\") projection <- as.matrix(projection):\n",
      "“the condition has length > 1 and only the first element will be used”\n",
      "Warning message in if (class(projection) != \"matrix\") projection <- as.matrix(projection):\n",
      "“the condition has length > 1 and only the first element will be used”\n",
      "Warning message in if (class(projection) != \"matrix\") projection <- as.matrix(projection):\n",
      "“the condition has length > 1 and only the first element will be used”\n",
      "Warning message in if (class(projection) != \"matrix\") projection <- as.matrix(projection):\n",
      "“the condition has length > 1 and only the first element will be used”\n",
      "Warning message in if (class(projection) != \"matrix\") projection <- as.matrix(projection):\n",
      "“the condition has length > 1 and only the first element will be used”\n",
      "Warning message in if (class(projection) != \"matrix\") projection <- as.matrix(projection):\n",
      "“the condition has length > 1 and only the first element will be used”\n",
      "Warning message in if (class(projection) != \"matrix\") projection <- as.matrix(projection):\n",
      "“the condition has length > 1 and only the first element will be used”\n",
      "Warning message in if (class(projection) != \"matrix\") projection <- as.matrix(projection):\n",
      "“the condition has length > 1 and only the first element will be used”\n",
      "Warning message in if (class(projection) != \"matrix\") projection <- as.matrix(projection):\n",
      "“the condition has length > 1 and only the first element will be used”\n",
      "Warning message in if (class(projection) != \"matrix\") projection <- as.matrix(projection):\n",
      "“the condition has length > 1 and only the first element will be used”\n",
      "Warning message in if (class(projection) != \"matrix\") projection <- as.matrix(projection):\n",
      "“the condition has length > 1 and only the first element will be used”\n",
      "Warning message in if (class(projection) != \"matrix\") projection <- as.matrix(projection):\n",
      "“the condition has length > 1 and only the first element will be used”\n",
      "Warning message in if (class(projection) != \"matrix\") projection <- as.matrix(projection):\n",
      "“the condition has length > 1 and only the first element will be used”\n",
      "Warning message in if (class(projection) != \"matrix\") projection <- as.matrix(projection):\n",
      "“the condition has length > 1 and only the first element will be used”\n",
      "Warning message in if (class(projection) != \"matrix\") projection <- as.matrix(projection):\n",
      "“the condition has length > 1 and only the first element will be used”\n",
      "Warning message in if (class(projection) != \"matrix\") projection <- as.matrix(projection):\n",
      "“the condition has length > 1 and only the first element will be used”\n",
      "Warning message in if (class(projection) != \"matrix\") projection <- as.matrix(projection):\n",
      "“the condition has length > 1 and only the first element will be used”\n",
      "Warning message in if (class(projection) != \"matrix\") projection <- as.matrix(projection):\n",
      "“the condition has length > 1 and only the first element will be used”\n",
      "Warning message in if (class(projection) != \"matrix\") projection <- as.matrix(projection):\n",
      "“the condition has length > 1 and only the first element will be used”\n",
      "Warning message in if (class(projection) != \"matrix\") projection <- as.matrix(projection):\n",
      "“the condition has length > 1 and only the first element will be used”\n",
      "Warning message in if (class(projection) != \"matrix\") projection <- as.matrix(projection):\n",
      "“the condition has length > 1 and only the first element will be used”\n",
      "Warning message in if (class(projection) != \"matrix\") projection <- as.matrix(projection):\n",
      "“the condition has length > 1 and only the first element will be used”\n",
      "Warning message in if (class(projection) != \"matrix\") projection <- as.matrix(projection):\n",
      "“the condition has length > 1 and only the first element will be used”\n",
      "Warning message in if (class(projection) != \"matrix\") projection <- as.matrix(projection):\n",
      "“the condition has length > 1 and only the first element will be used”\n",
      "Warning message in if (class(projection) != \"matrix\") projection <- as.matrix(projection):\n",
      "“the condition has length > 1 and only the first element will be used”\n",
      "Warning message in if (class(projection) != \"matrix\") projection <- as.matrix(projection):\n",
      "“the condition has length > 1 and only the first element will be used”\n",
      "Warning message in if (class(projection) != \"matrix\") projection <- as.matrix(projection):\n",
      "“the condition has length > 1 and only the first element will be used”\n",
      "Warning message in if (class(projection) != \"matrix\") projection <- as.matrix(projection):\n",
      "“the condition has length > 1 and only the first element will be used”\n",
      "Warning message in if (class(projection) != \"matrix\") projection <- as.matrix(projection):\n",
      "“the condition has length > 1 and only the first element will be used”\n",
      "Warning message in if (class(projection) != \"matrix\") projection <- as.matrix(projection):\n",
      "“the condition has length > 1 and only the first element will be used”\n",
      "Warning message in if (class(projection) != \"matrix\") projection <- as.matrix(projection):\n",
      "“the condition has length > 1 and only the first element will be used”\n",
      "Warning message in if (class(projection) != \"matrix\") projection <- as.matrix(projection):\n",
      "“the condition has length > 1 and only the first element will be used”\n",
      "Warning message in if (class(projection) != \"matrix\") projection <- as.matrix(projection):\n",
      "“the condition has length > 1 and only the first element will be used”\n"
     ]
    },
    {
     "name": "stderr",
     "output_type": "stream",
     "text": [
      "Warning message in if (class(projection) != \"matrix\") projection <- as.matrix(projection):\n",
      "“the condition has length > 1 and only the first element will be used”\n",
      "Warning message in if (class(projection) != \"matrix\") projection <- as.matrix(projection):\n",
      "“the condition has length > 1 and only the first element will be used”\n",
      "Warning message in if (class(projection) != \"matrix\") projection <- as.matrix(projection):\n",
      "“the condition has length > 1 and only the first element will be used”\n",
      "Warning message in if (class(projection) != \"matrix\") projection <- as.matrix(projection):\n",
      "“the condition has length > 1 and only the first element will be used”\n",
      "Warning message in if (class(projection) != \"matrix\") projection <- as.matrix(projection):\n",
      "“the condition has length > 1 and only the first element will be used”\n",
      "Warning message in if (class(projection) != \"matrix\") projection <- as.matrix(projection):\n",
      "“the condition has length > 1 and only the first element will be used”\n",
      "Warning message in if (class(projection) != \"matrix\") projection <- as.matrix(projection):\n",
      "“the condition has length > 1 and only the first element will be used”\n",
      "Warning message in if (class(projection) != \"matrix\") projection <- as.matrix(projection):\n",
      "“the condition has length > 1 and only the first element will be used”\n",
      "Warning message in if (class(projection) != \"matrix\") projection <- as.matrix(projection):\n",
      "“the condition has length > 1 and only the first element will be used”\n",
      "Warning message in if (class(projection) != \"matrix\") projection <- as.matrix(projection):\n",
      "“the condition has length > 1 and only the first element will be used”\n",
      "Warning message in if (class(projection) != \"matrix\") projection <- as.matrix(projection):\n",
      "“the condition has length > 1 and only the first element will be used”\n",
      "Warning message in if (class(projection) != \"matrix\") projection <- as.matrix(projection):\n",
      "“the condition has length > 1 and only the first element will be used”\n",
      "Warning message in if (class(projection) != \"matrix\") projection <- as.matrix(projection):\n",
      "“the condition has length > 1 and only the first element will be used”\n",
      "Warning message in if (class(projection) != \"matrix\") projection <- as.matrix(projection):\n",
      "“the condition has length > 1 and only the first element will be used”\n",
      "Warning message in if (class(projection) != \"matrix\") projection <- as.matrix(projection):\n",
      "“the condition has length > 1 and only the first element will be used”\n",
      "Warning message in if (class(projection) != \"matrix\") projection <- as.matrix(projection):\n",
      "“the condition has length > 1 and only the first element will be used”\n",
      "Warning message in if (class(projection) != \"matrix\") projection <- as.matrix(projection):\n",
      "“the condition has length > 1 and only the first element will be used”\n",
      "Warning message in if (class(projection) != \"matrix\") projection <- as.matrix(projection):\n",
      "“the condition has length > 1 and only the first element will be used”\n",
      "Warning message in if (class(projection) != \"matrix\") projection <- as.matrix(projection):\n",
      "“the condition has length > 1 and only the first element will be used”\n",
      "Warning message in if (class(projection) != \"matrix\") projection <- as.matrix(projection):\n",
      "“the condition has length > 1 and only the first element will be used”\n",
      "Warning message in if (class(projection) != \"matrix\") projection <- as.matrix(projection):\n",
      "“the condition has length > 1 and only the first element will be used”\n",
      "Warning message in if (class(projection) != \"matrix\") projection <- as.matrix(projection):\n",
      "“the condition has length > 1 and only the first element will be used”\n",
      "Warning message in if (class(projection) != \"matrix\") projection <- as.matrix(projection):\n",
      "“the condition has length > 1 and only the first element will be used”\n",
      "Warning message in if (class(projection) != \"matrix\") projection <- as.matrix(projection):\n",
      "“the condition has length > 1 and only the first element will be used”\n",
      "Warning message in if (class(projection) != \"matrix\") projection <- as.matrix(projection):\n",
      "“the condition has length > 1 and only the first element will be used”\n",
      "Warning message in if (class(projection) != \"matrix\") projection <- as.matrix(projection):\n",
      "“the condition has length > 1 and only the first element will be used”\n",
      "Warning message in if (class(projection) != \"matrix\") projection <- as.matrix(projection):\n",
      "“the condition has length > 1 and only the first element will be used”\n",
      "Warning message in if (class(projection) != \"matrix\") projection <- as.matrix(projection):\n",
      "“the condition has length > 1 and only the first element will be used”\n",
      "Warning message in if (class(projection) != \"matrix\") projection <- as.matrix(projection):\n",
      "“the condition has length > 1 and only the first element will be used”\n",
      "Warning message in if (class(projection) != \"matrix\") projection <- as.matrix(projection):\n",
      "“the condition has length > 1 and only the first element will be used”\n",
      "Warning message in if (class(projection) != \"matrix\") projection <- as.matrix(projection):\n",
      "“the condition has length > 1 and only the first element will be used”\n",
      "Warning message in if (class(projection) != \"matrix\") projection <- as.matrix(projection):\n",
      "“the condition has length > 1 and only the first element will be used”\n",
      "Warning message in if (class(projection) != \"matrix\") projection <- as.matrix(projection):\n",
      "“the condition has length > 1 and only the first element will be used”\n",
      "Warning message in if (class(projection) != \"matrix\") projection <- as.matrix(projection):\n",
      "“the condition has length > 1 and only the first element will be used”\n",
      "Warning message in if (class(projection) != \"matrix\") projection <- as.matrix(projection):\n",
      "“the condition has length > 1 and only the first element will be used”\n",
      "Warning message in if (class(projection) != \"matrix\") projection <- as.matrix(projection):\n",
      "“the condition has length > 1 and only the first element will be used”\n",
      "Warning message in if (class(projection) != \"matrix\") projection <- as.matrix(projection):\n",
      "“the condition has length > 1 and only the first element will be used”\n",
      "Warning message in if (class(projection) != \"matrix\") projection <- as.matrix(projection):\n",
      "“the condition has length > 1 and only the first element will be used”\n",
      "Warning message in if (class(projection) != \"matrix\") projection <- as.matrix(projection):\n",
      "“the condition has length > 1 and only the first element will be used”\n",
      "Warning message in if (class(projection) != \"matrix\") projection <- as.matrix(projection):\n",
      "“the condition has length > 1 and only the first element will be used”\n",
      "Warning message in if (class(projection) != \"matrix\") projection <- as.matrix(projection):\n",
      "“the condition has length > 1 and only the first element will be used”\n",
      "Warning message in if (class(projection) != \"matrix\") projection <- as.matrix(projection):\n",
      "“the condition has length > 1 and only the first element will be used”\n",
      "Warning message in if (class(projection) != \"matrix\") projection <- as.matrix(projection):\n",
      "“the condition has length > 1 and only the first element will be used”\n",
      "Warning message in if (class(projection) != \"matrix\") projection <- as.matrix(projection):\n",
      "“the condition has length > 1 and only the first element will be used”\n",
      "Warning message in if (class(projection) != \"matrix\") projection <- as.matrix(projection):\n",
      "“the condition has length > 1 and only the first element will be used”\n",
      "Warning message in if (class(projection) != \"matrix\") projection <- as.matrix(projection):\n",
      "“the condition has length > 1 and only the first element will be used”\n",
      "Warning message in if (class(projection) != \"matrix\") projection <- as.matrix(projection):\n",
      "“the condition has length > 1 and only the first element will be used”\n",
      "Warning message in if (class(projection) != \"matrix\") projection <- as.matrix(projection):\n",
      "“the condition has length > 1 and only the first element will be used”\n",
      "Warning message in if (class(projection) != \"matrix\") projection <- as.matrix(projection):\n",
      "“the condition has length > 1 and only the first element will be used”\n",
      "Warning message in if (class(projection) != \"matrix\") projection <- as.matrix(projection):\n",
      "“the condition has length > 1 and only the first element will be used”\n",
      "Warning message in if (class(projection) != \"matrix\") projection <- as.matrix(projection):\n",
      "“the condition has length > 1 and only the first element will be used”\n"
     ]
    },
    {
     "name": "stderr",
     "output_type": "stream",
     "text": [
      "Warning message in if (class(projection) != \"matrix\") projection <- as.matrix(projection):\n",
      "“the condition has length > 1 and only the first element will be used”\n",
      "Warning message in if (class(projection) != \"matrix\") projection <- as.matrix(projection):\n",
      "“the condition has length > 1 and only the first element will be used”\n",
      "Warning message in if (class(projection) != \"matrix\") projection <- as.matrix(projection):\n",
      "“the condition has length > 1 and only the first element will be used”\n",
      "Warning message in if (class(projection) != \"matrix\") projection <- as.matrix(projection):\n",
      "“the condition has length > 1 and only the first element will be used”\n",
      "Warning message in if (class(projection) != \"matrix\") projection <- as.matrix(projection):\n",
      "“the condition has length > 1 and only the first element will be used”\n",
      "Warning message in if (class(projection) != \"matrix\") projection <- as.matrix(projection):\n",
      "“the condition has length > 1 and only the first element will be used”\n",
      "Warning message in if (class(projection) != \"matrix\") projection <- as.matrix(projection):\n",
      "“the condition has length > 1 and only the first element will be used”\n",
      "Warning message in if (class(projection) != \"matrix\") projection <- as.matrix(projection):\n",
      "“the condition has length > 1 and only the first element will be used”\n",
      "Warning message in if (class(projection) != \"matrix\") projection <- as.matrix(projection):\n",
      "“the condition has length > 1 and only the first element will be used”\n",
      "Warning message in if (class(projection) != \"matrix\") projection <- as.matrix(projection):\n",
      "“the condition has length > 1 and only the first element will be used”\n",
      "Warning message in if (class(projection) != \"matrix\") projection <- as.matrix(projection):\n",
      "“the condition has length > 1 and only the first element will be used”\n",
      "Warning message in if (class(projection) != \"matrix\") projection <- as.matrix(projection):\n",
      "“the condition has length > 1 and only the first element will be used”\n",
      "Warning message in if (class(projection) != \"matrix\") projection <- as.matrix(projection):\n",
      "“the condition has length > 1 and only the first element will be used”\n",
      "Warning message in if (class(projection) != \"matrix\") projection <- as.matrix(projection):\n",
      "“the condition has length > 1 and only the first element will be used”\n",
      "Warning message in if (class(projection) != \"matrix\") projection <- as.matrix(projection):\n",
      "“the condition has length > 1 and only the first element will be used”\n",
      "Warning message in if (class(projection) != \"matrix\") projection <- as.matrix(projection):\n",
      "“the condition has length > 1 and only the first element will be used”\n",
      "Warning message in if (class(projection) != \"matrix\") projection <- as.matrix(projection):\n",
      "“the condition has length > 1 and only the first element will be used”\n",
      "Warning message in if (class(projection) != \"matrix\") projection <- as.matrix(projection):\n",
      "“the condition has length > 1 and only the first element will be used”\n",
      "Warning message in if (class(projection) != \"matrix\") projection <- as.matrix(projection):\n",
      "“the condition has length > 1 and only the first element will be used”\n",
      "Warning message in if (class(projection) != \"matrix\") projection <- as.matrix(projection):\n",
      "“the condition has length > 1 and only the first element will be used”\n",
      "Warning message in if (class(projection) != \"matrix\") projection <- as.matrix(projection):\n",
      "“the condition has length > 1 and only the first element will be used”\n",
      "Warning message in if (class(projection) != \"matrix\") projection <- as.matrix(projection):\n",
      "“the condition has length > 1 and only the first element will be used”\n",
      "Warning message in if (class(projection) != \"matrix\") projection <- as.matrix(projection):\n",
      "“the condition has length > 1 and only the first element will be used”\n",
      "Warning message in if (class(projection) != \"matrix\") projection <- as.matrix(projection):\n",
      "“the condition has length > 1 and only the first element will be used”\n",
      "Warning message in if (class(projection) != \"matrix\") projection <- as.matrix(projection):\n",
      "“the condition has length > 1 and only the first element will be used”\n",
      "Warning message in if (class(projection) != \"matrix\") projection <- as.matrix(projection):\n",
      "“the condition has length > 1 and only the first element will be used”\n",
      "Warning message in if (class(projection) != \"matrix\") projection <- as.matrix(projection):\n",
      "“the condition has length > 1 and only the first element will be used”\n",
      "Warning message in if (class(projection) != \"matrix\") projection <- as.matrix(projection):\n",
      "“the condition has length > 1 and only the first element will be used”\n",
      "Warning message in if (class(projection) != \"matrix\") projection <- as.matrix(projection):\n",
      "“the condition has length > 1 and only the first element will be used”\n",
      "Warning message in if (class(projection) != \"matrix\") projection <- as.matrix(projection):\n",
      "“the condition has length > 1 and only the first element will be used”\n",
      "Warning message in if (class(projection) != \"matrix\") projection <- as.matrix(projection):\n",
      "“the condition has length > 1 and only the first element will be used”\n",
      "Warning message in if (class(projection) != \"matrix\") projection <- as.matrix(projection):\n",
      "“the condition has length > 1 and only the first element will be used”\n",
      "Warning message in if (class(projection) != \"matrix\") projection <- as.matrix(projection):\n",
      "“the condition has length > 1 and only the first element will be used”\n",
      "Warning message in if (class(projection) != \"matrix\") projection <- as.matrix(projection):\n",
      "“the condition has length > 1 and only the first element will be used”\n",
      "Warning message in if (class(projection) != \"matrix\") projection <- as.matrix(projection):\n",
      "“the condition has length > 1 and only the first element will be used”\n",
      "Warning message in if (class(projection) != \"matrix\") projection <- as.matrix(projection):\n",
      "“the condition has length > 1 and only the first element will be used”\n",
      "Warning message in if (class(projection) != \"matrix\") projection <- as.matrix(projection):\n",
      "“the condition has length > 1 and only the first element will be used”\n",
      "Warning message in if (class(projection) != \"matrix\") projection <- as.matrix(projection):\n",
      "“the condition has length > 1 and only the first element will be used”\n",
      "Warning message in if (class(projection) != \"matrix\") projection <- as.matrix(projection):\n",
      "“the condition has length > 1 and only the first element will be used”\n",
      "Warning message in if (class(projection) != \"matrix\") projection <- as.matrix(projection):\n",
      "“the condition has length > 1 and only the first element will be used”\n",
      "Warning message in if (class(projection) != \"matrix\") projection <- as.matrix(projection):\n",
      "“the condition has length > 1 and only the first element will be used”\n",
      "Warning message in if (class(projection) != \"matrix\") projection <- as.matrix(projection):\n",
      "“the condition has length > 1 and only the first element will be used”\n",
      "Warning message in if (class(projection) != \"matrix\") projection <- as.matrix(projection):\n",
      "“the condition has length > 1 and only the first element will be used”\n",
      "Warning message in if (class(projection) != \"matrix\") projection <- as.matrix(projection):\n",
      "“the condition has length > 1 and only the first element will be used”\n",
      "Warning message in if (class(projection) != \"matrix\") projection <- as.matrix(projection):\n",
      "“the condition has length > 1 and only the first element will be used”\n",
      "Warning message in if (class(projection) != \"matrix\") projection <- as.matrix(projection):\n",
      "“the condition has length > 1 and only the first element will be used”\n",
      "Warning message in if (class(projection) != \"matrix\") projection <- as.matrix(projection):\n",
      "“the condition has length > 1 and only the first element will be used”\n",
      "Warning message in if (class(projection) != \"matrix\") projection <- as.matrix(projection):\n",
      "“the condition has length > 1 and only the first element will be used”\n",
      "Warning message in if (class(projection) != \"matrix\") projection <- as.matrix(projection):\n",
      "“the condition has length > 1 and only the first element will be used”\n",
      "Warning message in if (class(projection) != \"matrix\") projection <- as.matrix(projection):\n",
      "“the condition has length > 1 and only the first element will be used”\n",
      "Warning message in if (class(projection) != \"matrix\") projection <- as.matrix(projection):\n",
      "“the condition has length > 1 and only the first element will be used”\n"
     ]
    },
    {
     "name": "stderr",
     "output_type": "stream",
     "text": [
      "Warning message in if (class(projection) != \"matrix\") projection <- as.matrix(projection):\n",
      "“the condition has length > 1 and only the first element will be used”\n",
      "Warning message in if (class(projection) != \"matrix\") projection <- as.matrix(projection):\n",
      "“the condition has length > 1 and only the first element will be used”\n",
      "Warning message in if (class(projection) != \"matrix\") projection <- as.matrix(projection):\n",
      "“the condition has length > 1 and only the first element will be used”\n",
      "Warning message in if (class(projection) != \"matrix\") projection <- as.matrix(projection):\n",
      "“the condition has length > 1 and only the first element will be used”\n",
      "Warning message in if (class(projection) != \"matrix\") projection <- as.matrix(projection):\n",
      "“the condition has length > 1 and only the first element will be used”\n",
      "Warning message in if (class(projection) != \"matrix\") projection <- as.matrix(projection):\n",
      "“the condition has length > 1 and only the first element will be used”\n",
      "Warning message in if (class(projection) != \"matrix\") projection <- as.matrix(projection):\n",
      "“the condition has length > 1 and only the first element will be used”\n",
      "Warning message in if (class(projection) != \"matrix\") projection <- as.matrix(projection):\n",
      "“the condition has length > 1 and only the first element will be used”\n",
      "Warning message in if (class(projection) != \"matrix\") projection <- as.matrix(projection):\n",
      "“the condition has length > 1 and only the first element will be used”\n",
      "Warning message in if (class(projection) != \"matrix\") projection <- as.matrix(projection):\n",
      "“the condition has length > 1 and only the first element will be used”\n",
      "Warning message in if (class(projection) != \"matrix\") projection <- as.matrix(projection):\n",
      "“the condition has length > 1 and only the first element will be used”\n",
      "Warning message in if (class(projection) != \"matrix\") projection <- as.matrix(projection):\n",
      "“the condition has length > 1 and only the first element will be used”\n",
      "Warning message in if (class(projection) != \"matrix\") projection <- as.matrix(projection):\n",
      "“the condition has length > 1 and only the first element will be used”\n",
      "Warning message in if (class(projection) != \"matrix\") projection <- as.matrix(projection):\n",
      "“the condition has length > 1 and only the first element will be used”\n",
      "Warning message in if (class(projection) != \"matrix\") projection <- as.matrix(projection):\n",
      "“the condition has length > 1 and only the first element will be used”\n",
      "Warning message in if (class(projection) != \"matrix\") projection <- as.matrix(projection):\n",
      "“the condition has length > 1 and only the first element will be used”\n",
      "Warning message in if (class(projection) != \"matrix\") projection <- as.matrix(projection):\n",
      "“the condition has length > 1 and only the first element will be used”\n",
      "Warning message in if (class(projection) != \"matrix\") projection <- as.matrix(projection):\n",
      "“the condition has length > 1 and only the first element will be used”\n",
      "Warning message in if (class(projection) != \"matrix\") projection <- as.matrix(projection):\n",
      "“the condition has length > 1 and only the first element will be used”\n",
      "Warning message in if (class(projection) != \"matrix\") projection <- as.matrix(projection):\n",
      "“the condition has length > 1 and only the first element will be used”\n",
      "Warning message in if (class(projection) != \"matrix\") projection <- as.matrix(projection):\n",
      "“the condition has length > 1 and only the first element will be used”\n",
      "Warning message in if (class(projection) != \"matrix\") projection <- as.matrix(projection):\n",
      "“the condition has length > 1 and only the first element will be used”\n",
      "Warning message in if (class(projection) != \"matrix\") projection <- as.matrix(projection):\n",
      "“the condition has length > 1 and only the first element will be used”\n",
      "Warning message in if (class(projection) != \"matrix\") projection <- as.matrix(projection):\n",
      "“the condition has length > 1 and only the first element will be used”\n",
      "Warning message in if (class(projection) != \"matrix\") projection <- as.matrix(projection):\n",
      "“the condition has length > 1 and only the first element will be used”\n",
      "Warning message in if (class(projection) != \"matrix\") projection <- as.matrix(projection):\n",
      "“the condition has length > 1 and only the first element will be used”\n",
      "Warning message in if (class(projection) != \"matrix\") projection <- as.matrix(projection):\n",
      "“the condition has length > 1 and only the first element will be used”\n",
      "Warning message in if (class(projection) != \"matrix\") projection <- as.matrix(projection):\n",
      "“the condition has length > 1 and only the first element will be used”\n",
      "Warning message in if (class(projection) != \"matrix\") projection <- as.matrix(projection):\n",
      "“the condition has length > 1 and only the first element will be used”\n",
      "Warning message in if (class(projection) != \"matrix\") projection <- as.matrix(projection):\n",
      "“the condition has length > 1 and only the first element will be used”\n",
      "Warning message in if (class(projection) != \"matrix\") projection <- as.matrix(projection):\n",
      "“the condition has length > 1 and only the first element will be used”\n",
      "Warning message in if (class(projection) != \"matrix\") projection <- as.matrix(projection):\n",
      "“the condition has length > 1 and only the first element will be used”\n",
      "Warning message in if (class(projection) != \"matrix\") projection <- as.matrix(projection):\n",
      "“the condition has length > 1 and only the first element will be used”\n",
      "Warning message in if (class(projection) != \"matrix\") projection <- as.matrix(projection):\n",
      "“the condition has length > 1 and only the first element will be used”\n",
      "Warning message in if (class(projection) != \"matrix\") projection <- as.matrix(projection):\n",
      "“the condition has length > 1 and only the first element will be used”\n",
      "Warning message in if (class(projection) != \"matrix\") projection <- as.matrix(projection):\n",
      "“the condition has length > 1 and only the first element will be used”\n",
      "Warning message in if (class(projection) != \"matrix\") projection <- as.matrix(projection):\n",
      "“the condition has length > 1 and only the first element will be used”\n",
      "Warning message in if (class(projection) != \"matrix\") projection <- as.matrix(projection):\n",
      "“the condition has length > 1 and only the first element will be used”\n",
      "Warning message in if (class(projection) != \"matrix\") projection <- as.matrix(projection):\n",
      "“the condition has length > 1 and only the first element will be used”\n",
      "Warning message in if (class(projection) != \"matrix\") projection <- as.matrix(projection):\n",
      "“the condition has length > 1 and only the first element will be used”\n",
      "Warning message in if (class(projection) != \"matrix\") projection <- as.matrix(projection):\n",
      "“the condition has length > 1 and only the first element will be used”\n",
      "Warning message in if (class(projection) != \"matrix\") projection <- as.matrix(projection):\n",
      "“the condition has length > 1 and only the first element will be used”\n",
      "Warning message in if (class(projection) != \"matrix\") projection <- as.matrix(projection):\n",
      "“the condition has length > 1 and only the first element will be used”\n",
      "Warning message in if (class(projection) != \"matrix\") projection <- as.matrix(projection):\n",
      "“the condition has length > 1 and only the first element will be used”\n",
      "Warning message in if (class(projection) != \"matrix\") projection <- as.matrix(projection):\n",
      "“the condition has length > 1 and only the first element will be used”\n",
      "Warning message in if (class(projection) != \"matrix\") projection <- as.matrix(projection):\n",
      "“the condition has length > 1 and only the first element will be used”\n",
      "Warning message in if (class(projection) != \"matrix\") projection <- as.matrix(projection):\n",
      "“the condition has length > 1 and only the first element will be used”\n",
      "Warning message in if (class(projection) != \"matrix\") projection <- as.matrix(projection):\n",
      "“the condition has length > 1 and only the first element will be used”\n",
      "Warning message in if (class(projection) != \"matrix\") projection <- as.matrix(projection):\n",
      "“the condition has length > 1 and only the first element will be used”\n",
      "Warning message in if (class(projection) != \"matrix\") projection <- as.matrix(projection):\n",
      "“the condition has length > 1 and only the first element will be used”\n",
      "Warning message in if (class(projection) != \"matrix\") projection <- as.matrix(projection):\n",
      "“the condition has length > 1 and only the first element will be used”\n"
     ]
    },
    {
     "name": "stderr",
     "output_type": "stream",
     "text": [
      "Warning message in if (class(projection) != \"matrix\") projection <- as.matrix(projection):\n",
      "“the condition has length > 1 and only the first element will be used”\n",
      "Warning message in if (class(projection) != \"matrix\") projection <- as.matrix(projection):\n",
      "“the condition has length > 1 and only the first element will be used”\n",
      "Warning message in if (class(projection) != \"matrix\") projection <- as.matrix(projection):\n",
      "“the condition has length > 1 and only the first element will be used”\n",
      "Warning message in if (class(projection) != \"matrix\") projection <- as.matrix(projection):\n",
      "“the condition has length > 1 and only the first element will be used”\n",
      "Warning message in if (class(projection) != \"matrix\") projection <- as.matrix(projection):\n",
      "“the condition has length > 1 and only the first element will be used”\n",
      "Warning message in if (class(projection) != \"matrix\") projection <- as.matrix(projection):\n",
      "“the condition has length > 1 and only the first element will be used”\n",
      "Warning message in if (class(projection) != \"matrix\") projection <- as.matrix(projection):\n",
      "“the condition has length > 1 and only the first element will be used”\n",
      "Warning message in if (class(projection) != \"matrix\") projection <- as.matrix(projection):\n",
      "“the condition has length > 1 and only the first element will be used”\n",
      "Warning message in if (class(projection) != \"matrix\") projection <- as.matrix(projection):\n",
      "“the condition has length > 1 and only the first element will be used”\n",
      "Warning message in if (class(projection) != \"matrix\") projection <- as.matrix(projection):\n",
      "“the condition has length > 1 and only the first element will be used”\n",
      "Warning message in if (class(projection) != \"matrix\") projection <- as.matrix(projection):\n",
      "“the condition has length > 1 and only the first element will be used”\n",
      "Warning message in if (class(projection) != \"matrix\") projection <- as.matrix(projection):\n",
      "“the condition has length > 1 and only the first element will be used”\n",
      "Warning message in if (class(projection) != \"matrix\") projection <- as.matrix(projection):\n",
      "“the condition has length > 1 and only the first element will be used”\n",
      "Warning message in if (class(projection) != \"matrix\") projection <- as.matrix(projection):\n",
      "“the condition has length > 1 and only the first element will be used”\n",
      "Warning message in if (class(projection) != \"matrix\") projection <- as.matrix(projection):\n",
      "“the condition has length > 1 and only the first element will be used”\n",
      "Warning message in if (class(projection) != \"matrix\") projection <- as.matrix(projection):\n",
      "“the condition has length > 1 and only the first element will be used”\n",
      "Warning message in if (class(projection) != \"matrix\") projection <- as.matrix(projection):\n",
      "“the condition has length > 1 and only the first element will be used”\n",
      "Warning message in if (class(projection) != \"matrix\") projection <- as.matrix(projection):\n",
      "“the condition has length > 1 and only the first element will be used”\n",
      "Warning message in if (class(projection) != \"matrix\") projection <- as.matrix(projection):\n",
      "“the condition has length > 1 and only the first element will be used”\n",
      "Warning message in if (class(projection) != \"matrix\") projection <- as.matrix(projection):\n",
      "“the condition has length > 1 and only the first element will be used”\n",
      "Warning message in if (class(projection) != \"matrix\") projection <- as.matrix(projection):\n",
      "“the condition has length > 1 and only the first element will be used”\n",
      "Warning message in if (class(projection) != \"matrix\") projection <- as.matrix(projection):\n",
      "“the condition has length > 1 and only the first element will be used”\n",
      "Warning message in if (class(projection) != \"matrix\") projection <- as.matrix(projection):\n",
      "“the condition has length > 1 and only the first element will be used”\n",
      "Warning message in if (class(projection) != \"matrix\") projection <- as.matrix(projection):\n",
      "“the condition has length > 1 and only the first element will be used”\n",
      "Warning message in if (class(projection) != \"matrix\") projection <- as.matrix(projection):\n",
      "“the condition has length > 1 and only the first element will be used”\n",
      "Warning message in if (class(projection) != \"matrix\") projection <- as.matrix(projection):\n",
      "“the condition has length > 1 and only the first element will be used”\n",
      "Warning message in if (class(projection) != \"matrix\") projection <- as.matrix(projection):\n",
      "“the condition has length > 1 and only the first element will be used”\n",
      "Warning message in if (class(projection) != \"matrix\") projection <- as.matrix(projection):\n",
      "“the condition has length > 1 and only the first element will be used”\n",
      "Warning message in if (class(projection) != \"matrix\") projection <- as.matrix(projection):\n",
      "“the condition has length > 1 and only the first element will be used”\n",
      "Warning message in if (class(projection) != \"matrix\") projection <- as.matrix(projection):\n",
      "“the condition has length > 1 and only the first element will be used”\n",
      "Warning message in if (class(projection) != \"matrix\") projection <- as.matrix(projection):\n",
      "“the condition has length > 1 and only the first element will be used”\n",
      "Warning message in if (class(projection) != \"matrix\") projection <- as.matrix(projection):\n",
      "“the condition has length > 1 and only the first element will be used”\n",
      "Warning message in if (class(projection) != \"matrix\") projection <- as.matrix(projection):\n",
      "“the condition has length > 1 and only the first element will be used”\n",
      "Warning message in if (class(projection) != \"matrix\") projection <- as.matrix(projection):\n",
      "“the condition has length > 1 and only the first element will be used”\n",
      "Warning message in if (class(projection) != \"matrix\") projection <- as.matrix(projection):\n",
      "“the condition has length > 1 and only the first element will be used”\n",
      "Warning message in if (class(projection) != \"matrix\") projection <- as.matrix(projection):\n",
      "“the condition has length > 1 and only the first element will be used”\n",
      "Warning message in if (class(projection) != \"matrix\") projection <- as.matrix(projection):\n",
      "“the condition has length > 1 and only the first element will be used”\n",
      "Warning message in if (class(projection) != \"matrix\") projection <- as.matrix(projection):\n",
      "“the condition has length > 1 and only the first element will be used”\n",
      "Warning message in if (class(projection) != \"matrix\") projection <- as.matrix(projection):\n",
      "“the condition has length > 1 and only the first element will be used”\n",
      "Warning message in if (class(projection) != \"matrix\") projection <- as.matrix(projection):\n",
      "“the condition has length > 1 and only the first element will be used”\n",
      "Warning message in if (class(projection) != \"matrix\") projection <- as.matrix(projection):\n",
      "“the condition has length > 1 and only the first element will be used”\n",
      "Warning message in if (class(projection) != \"matrix\") projection <- as.matrix(projection):\n",
      "“the condition has length > 1 and only the first element will be used”\n",
      "Warning message in if (class(projection) != \"matrix\") projection <- as.matrix(projection):\n",
      "“the condition has length > 1 and only the first element will be used”\n",
      "Warning message in if (class(projection) != \"matrix\") projection <- as.matrix(projection):\n",
      "“the condition has length > 1 and only the first element will be used”\n",
      "Warning message in if (class(projection) != \"matrix\") projection <- as.matrix(projection):\n",
      "“the condition has length > 1 and only the first element will be used”\n",
      "Warning message in if (class(projection) != \"matrix\") projection <- as.matrix(projection):\n",
      "“the condition has length > 1 and only the first element will be used”\n",
      "Warning message in if (class(projection) != \"matrix\") projection <- as.matrix(projection):\n",
      "“the condition has length > 1 and only the first element will be used”\n",
      "Warning message in if (class(projection) != \"matrix\") projection <- as.matrix(projection):\n",
      "“the condition has length > 1 and only the first element will be used”\n",
      "Warning message in if (class(projection) != \"matrix\") projection <- as.matrix(projection):\n",
      "“the condition has length > 1 and only the first element will be used”\n",
      "Warning message in if (class(projection) != \"matrix\") projection <- as.matrix(projection):\n",
      "“the condition has length > 1 and only the first element will be used”\n",
      "Warning message in if (class(projection) != \"matrix\") projection <- as.matrix(projection):\n",
      "“the condition has length > 1 and only the first element will be used”\n"
     ]
    },
    {
     "name": "stderr",
     "output_type": "stream",
     "text": [
      "Warning message in if (class(projection) != \"matrix\") projection <- as.matrix(projection):\n",
      "“the condition has length > 1 and only the first element will be used”\n",
      "Warning message in if (class(projection) != \"matrix\") projection <- as.matrix(projection):\n",
      "“the condition has length > 1 and only the first element will be used”\n",
      "Warning message in if (class(projection) != \"matrix\") projection <- as.matrix(projection):\n",
      "“the condition has length > 1 and only the first element will be used”\n",
      "Warning message in if (class(projection) != \"matrix\") projection <- as.matrix(projection):\n",
      "“the condition has length > 1 and only the first element will be used”\n",
      "Warning message in if (class(projection) != \"matrix\") projection <- as.matrix(projection):\n",
      "“the condition has length > 1 and only the first element will be used”\n",
      "Warning message in if (class(projection) != \"matrix\") projection <- as.matrix(projection):\n",
      "“the condition has length > 1 and only the first element will be used”\n",
      "Warning message in if (class(projection) != \"matrix\") projection <- as.matrix(projection):\n",
      "“the condition has length > 1 and only the first element will be used”\n",
      "Warning message in if (class(projection) != \"matrix\") projection <- as.matrix(projection):\n",
      "“the condition has length > 1 and only the first element will be used”\n",
      "Warning message in if (class(projection) != \"matrix\") projection <- as.matrix(projection):\n",
      "“the condition has length > 1 and only the first element will be used”\n",
      "Warning message in if (class(projection) != \"matrix\") projection <- as.matrix(projection):\n",
      "“the condition has length > 1 and only the first element will be used”\n",
      "Warning message in if (class(projection) != \"matrix\") projection <- as.matrix(projection):\n",
      "“the condition has length > 1 and only the first element will be used”\n",
      "Warning message in if (class(projection) != \"matrix\") projection <- as.matrix(projection):\n",
      "“the condition has length > 1 and only the first element will be used”\n",
      "Warning message in if (class(projection) != \"matrix\") projection <- as.matrix(projection):\n",
      "“the condition has length > 1 and only the first element will be used”\n",
      "Warning message in if (class(projection) != \"matrix\") projection <- as.matrix(projection):\n",
      "“the condition has length > 1 and only the first element will be used”\n",
      "Warning message in if (class(projection) != \"matrix\") projection <- as.matrix(projection):\n",
      "“the condition has length > 1 and only the first element will be used”\n",
      "Warning message in if (class(projection) != \"matrix\") projection <- as.matrix(projection):\n",
      "“the condition has length > 1 and only the first element will be used”\n",
      "Warning message in if (class(projection) != \"matrix\") projection <- as.matrix(projection):\n",
      "“the condition has length > 1 and only the first element will be used”\n",
      "Warning message in if (class(projection) != \"matrix\") projection <- as.matrix(projection):\n",
      "“the condition has length > 1 and only the first element will be used”\n",
      "Warning message in if (class(projection) != \"matrix\") projection <- as.matrix(projection):\n",
      "“the condition has length > 1 and only the first element will be used”\n",
      "Warning message in if (class(projection) != \"matrix\") projection <- as.matrix(projection):\n",
      "“the condition has length > 1 and only the first element will be used”\n",
      "Warning message in if (class(projection) != \"matrix\") projection <- as.matrix(projection):\n",
      "“the condition has length > 1 and only the first element will be used”\n",
      "Warning message in if (class(projection) != \"matrix\") projection <- as.matrix(projection):\n",
      "“the condition has length > 1 and only the first element will be used”\n",
      "Warning message in if (class(projection) != \"matrix\") projection <- as.matrix(projection):\n",
      "“the condition has length > 1 and only the first element will be used”\n",
      "Warning message in if (class(projection) != \"matrix\") projection <- as.matrix(projection):\n",
      "“the condition has length > 1 and only the first element will be used”\n",
      "Warning message in if (class(projection) != \"matrix\") projection <- as.matrix(projection):\n",
      "“the condition has length > 1 and only the first element will be used”\n",
      "Warning message in if (class(projection) != \"matrix\") projection <- as.matrix(projection):\n",
      "“the condition has length > 1 and only the first element will be used”\n",
      "Warning message in if (class(projection) != \"matrix\") projection <- as.matrix(projection):\n",
      "“the condition has length > 1 and only the first element will be used”\n",
      "Warning message in if (class(projection) != \"matrix\") projection <- as.matrix(projection):\n",
      "“the condition has length > 1 and only the first element will be used”\n",
      "Warning message in if (class(projection) != \"matrix\") projection <- as.matrix(projection):\n",
      "“the condition has length > 1 and only the first element will be used”\n",
      "Warning message in if (class(projection) != \"matrix\") projection <- as.matrix(projection):\n",
      "“the condition has length > 1 and only the first element will be used”\n",
      "Warning message in if (class(projection) != \"matrix\") projection <- as.matrix(projection):\n",
      "“the condition has length > 1 and only the first element will be used”\n",
      "Warning message in if (class(projection) != \"matrix\") projection <- as.matrix(projection):\n",
      "“the condition has length > 1 and only the first element will be used”\n",
      "Warning message in if (class(projection) != \"matrix\") projection <- as.matrix(projection):\n",
      "“the condition has length > 1 and only the first element will be used”\n",
      "Warning message in if (class(projection) != \"matrix\") projection <- as.matrix(projection):\n",
      "“the condition has length > 1 and only the first element will be used”\n",
      "Warning message in if (class(projection) != \"matrix\") projection <- as.matrix(projection):\n",
      "“the condition has length > 1 and only the first element will be used”\n",
      "Warning message in if (class(projection) != \"matrix\") projection <- as.matrix(projection):\n",
      "“the condition has length > 1 and only the first element will be used”\n",
      "Warning message in if (class(projection) != \"matrix\") projection <- as.matrix(projection):\n",
      "“the condition has length > 1 and only the first element will be used”\n",
      "Warning message in if (class(projection) != \"matrix\") projection <- as.matrix(projection):\n",
      "“the condition has length > 1 and only the first element will be used”\n",
      "Warning message in if (class(projection) != \"matrix\") projection <- as.matrix(projection):\n",
      "“the condition has length > 1 and only the first element will be used”\n",
      "Warning message in if (class(projection) != \"matrix\") projection <- as.matrix(projection):\n",
      "“the condition has length > 1 and only the first element will be used”\n",
      "Warning message in if (class(projection) != \"matrix\") projection <- as.matrix(projection):\n",
      "“the condition has length > 1 and only the first element will be used”\n",
      "Warning message in if (class(projection) != \"matrix\") projection <- as.matrix(projection):\n",
      "“the condition has length > 1 and only the first element will be used”\n",
      "Warning message in if (class(projection) != \"matrix\") projection <- as.matrix(projection):\n",
      "“the condition has length > 1 and only the first element will be used”\n",
      "Warning message in if (class(projection) != \"matrix\") projection <- as.matrix(projection):\n",
      "“the condition has length > 1 and only the first element will be used”\n",
      "Warning message in if (class(projection) != \"matrix\") projection <- as.matrix(projection):\n",
      "“the condition has length > 1 and only the first element will be used”\n",
      "Warning message in if (class(projection) != \"matrix\") projection <- as.matrix(projection):\n",
      "“the condition has length > 1 and only the first element will be used”\n",
      "Warning message in if (class(projection) != \"matrix\") projection <- as.matrix(projection):\n",
      "“the condition has length > 1 and only the first element will be used”\n",
      "Warning message in if (class(projection) != \"matrix\") projection <- as.matrix(projection):\n",
      "“the condition has length > 1 and only the first element will be used”\n",
      "Warning message in if (class(projection) != \"matrix\") projection <- as.matrix(projection):\n",
      "“the condition has length > 1 and only the first element will be used”\n",
      "Warning message in if (class(projection) != \"matrix\") projection <- as.matrix(projection):\n",
      "“the condition has length > 1 and only the first element will be used”\n",
      "Warning message in if (class(projection) != \"matrix\") projection <- as.matrix(projection):\n",
      "“the condition has length > 1 and only the first element will be used”\n"
     ]
    },
    {
     "name": "stderr",
     "output_type": "stream",
     "text": [
      "Warning message in if (class(projection) != \"matrix\") projection <- as.matrix(projection):\n",
      "“the condition has length > 1 and only the first element will be used”\n",
      "Warning message in if (class(projection) != \"matrix\") projection <- as.matrix(projection):\n",
      "“the condition has length > 1 and only the first element will be used”\n",
      "Warning message in if (class(projection) != \"matrix\") projection <- as.matrix(projection):\n",
      "“the condition has length > 1 and only the first element will be used”\n",
      "Warning message in if (class(projection) != \"matrix\") projection <- as.matrix(projection):\n",
      "“the condition has length > 1 and only the first element will be used”\n",
      "Warning message in if (class(projection) != \"matrix\") projection <- as.matrix(projection):\n",
      "“the condition has length > 1 and only the first element will be used”\n",
      "Warning message in if (class(projection) != \"matrix\") projection <- as.matrix(projection):\n",
      "“the condition has length > 1 and only the first element will be used”\n",
      "Warning message in if (class(projection) != \"matrix\") projection <- as.matrix(projection):\n",
      "“the condition has length > 1 and only the first element will be used”\n",
      "Warning message in if (class(projection) != \"matrix\") projection <- as.matrix(projection):\n",
      "“the condition has length > 1 and only the first element will be used”\n",
      "Warning message in if (class(projection) != \"matrix\") projection <- as.matrix(projection):\n",
      "“the condition has length > 1 and only the first element will be used”\n",
      "Warning message in if (class(projection) != \"matrix\") projection <- as.matrix(projection):\n",
      "“the condition has length > 1 and only the first element will be used”\n",
      "Warning message in if (class(projection) != \"matrix\") projection <- as.matrix(projection):\n",
      "“the condition has length > 1 and only the first element will be used”\n",
      "Warning message in if (class(projection) != \"matrix\") projection <- as.matrix(projection):\n",
      "“the condition has length > 1 and only the first element will be used”\n",
      "Warning message in if (class(projection) != \"matrix\") projection <- as.matrix(projection):\n",
      "“the condition has length > 1 and only the first element will be used”\n",
      "Warning message in if (class(projection) != \"matrix\") projection <- as.matrix(projection):\n",
      "“the condition has length > 1 and only the first element will be used”\n",
      "Warning message in if (class(projection) != \"matrix\") projection <- as.matrix(projection):\n",
      "“the condition has length > 1 and only the first element will be used”\n",
      "Warning message in if (class(projection) != \"matrix\") projection <- as.matrix(projection):\n",
      "“the condition has length > 1 and only the first element will be used”\n",
      "Warning message in if (class(projection) != \"matrix\") projection <- as.matrix(projection):\n",
      "“the condition has length > 1 and only the first element will be used”\n",
      "Warning message in if (class(projection) != \"matrix\") projection <- as.matrix(projection):\n",
      "“the condition has length > 1 and only the first element will be used”\n",
      "Warning message in if (class(projection) != \"matrix\") projection <- as.matrix(projection):\n",
      "“the condition has length > 1 and only the first element will be used”\n",
      "Warning message in if (class(projection) != \"matrix\") projection <- as.matrix(projection):\n",
      "“the condition has length > 1 and only the first element will be used”\n",
      "Warning message in if (class(projection) != \"matrix\") projection <- as.matrix(projection):\n",
      "“the condition has length > 1 and only the first element will be used”\n",
      "Warning message in if (class(projection) != \"matrix\") projection <- as.matrix(projection):\n",
      "“the condition has length > 1 and only the first element will be used”\n",
      "Warning message in if (class(projection) != \"matrix\") projection <- as.matrix(projection):\n",
      "“the condition has length > 1 and only the first element will be used”\n",
      "Warning message in if (class(projection) != \"matrix\") projection <- as.matrix(projection):\n",
      "“the condition has length > 1 and only the first element will be used”\n",
      "Warning message in if (class(projection) != \"matrix\") projection <- as.matrix(projection):\n",
      "“the condition has length > 1 and only the first element will be used”\n",
      "Warning message in if (class(projection) != \"matrix\") projection <- as.matrix(projection):\n",
      "“the condition has length > 1 and only the first element will be used”\n",
      "Warning message in if (class(projection) != \"matrix\") projection <- as.matrix(projection):\n",
      "“the condition has length > 1 and only the first element will be used”\n",
      "Warning message in if (class(projection) != \"matrix\") projection <- as.matrix(projection):\n",
      "“the condition has length > 1 and only the first element will be used”\n",
      "Warning message in if (class(projection) != \"matrix\") projection <- as.matrix(projection):\n",
      "“the condition has length > 1 and only the first element will be used”\n",
      "Warning message in if (class(projection) != \"matrix\") projection <- as.matrix(projection):\n",
      "“the condition has length > 1 and only the first element will be used”\n",
      "Warning message in if (class(projection) != \"matrix\") projection <- as.matrix(projection):\n",
      "“the condition has length > 1 and only the first element will be used”\n",
      "Warning message in if (class(projection) != \"matrix\") projection <- as.matrix(projection):\n",
      "“the condition has length > 1 and only the first element will be used”\n",
      "Warning message in if (class(projection) != \"matrix\") projection <- as.matrix(projection):\n",
      "“the condition has length > 1 and only the first element will be used”\n",
      "Warning message in if (class(projection) != \"matrix\") projection <- as.matrix(projection):\n",
      "“the condition has length > 1 and only the first element will be used”\n",
      "Warning message in if (class(projection) != \"matrix\") projection <- as.matrix(projection):\n",
      "“the condition has length > 1 and only the first element will be used”\n",
      "Warning message in if (class(projection) != \"matrix\") projection <- as.matrix(projection):\n",
      "“the condition has length > 1 and only the first element will be used”\n",
      "Warning message in if (class(projection) != \"matrix\") projection <- as.matrix(projection):\n",
      "“the condition has length > 1 and only the first element will be used”\n",
      "Warning message in if (class(projection) != \"matrix\") projection <- as.matrix(projection):\n",
      "“the condition has length > 1 and only the first element will be used”\n",
      "Warning message in if (class(projection) != \"matrix\") projection <- as.matrix(projection):\n",
      "“the condition has length > 1 and only the first element will be used”\n",
      "Warning message in if (class(projection) != \"matrix\") projection <- as.matrix(projection):\n",
      "“the condition has length > 1 and only the first element will be used”\n",
      "Warning message in if (class(projection) != \"matrix\") projection <- as.matrix(projection):\n",
      "“the condition has length > 1 and only the first element will be used”\n",
      "Warning message in if (class(projection) != \"matrix\") projection <- as.matrix(projection):\n",
      "“the condition has length > 1 and only the first element will be used”\n",
      "Warning message in if (class(projection) != \"matrix\") projection <- as.matrix(projection):\n",
      "“the condition has length > 1 and only the first element will be used”\n",
      "Warning message in if (class(projection) != \"matrix\") projection <- as.matrix(projection):\n",
      "“the condition has length > 1 and only the first element will be used”\n",
      "Warning message in if (class(projection) != \"matrix\") projection <- as.matrix(projection):\n",
      "“the condition has length > 1 and only the first element will be used”\n",
      "Warning message in if (class(projection) != \"matrix\") projection <- as.matrix(projection):\n",
      "“the condition has length > 1 and only the first element will be used”\n",
      "Warning message in if (class(projection) != \"matrix\") projection <- as.matrix(projection):\n",
      "“the condition has length > 1 and only the first element will be used”\n",
      "Warning message in if (class(projection) != \"matrix\") projection <- as.matrix(projection):\n",
      "“the condition has length > 1 and only the first element will be used”\n",
      "Warning message in if (class(projection) != \"matrix\") projection <- as.matrix(projection):\n",
      "“the condition has length > 1 and only the first element will be used”\n",
      "Warning message in if (class(projection) != \"matrix\") projection <- as.matrix(projection):\n",
      "“the condition has length > 1 and only the first element will be used”\n",
      "Warning message in if (class(projection) != \"matrix\") projection <- as.matrix(projection):\n",
      "“the condition has length > 1 and only the first element will be used”\n"
     ]
    },
    {
     "name": "stderr",
     "output_type": "stream",
     "text": [
      "Warning message in if (class(projection) != \"matrix\") projection <- as.matrix(projection):\n",
      "“the condition has length > 1 and only the first element will be used”\n",
      "Warning message in if (class(projection) != \"matrix\") projection <- as.matrix(projection):\n",
      "“the condition has length > 1 and only the first element will be used”\n",
      "Warning message in if (class(projection) != \"matrix\") projection <- as.matrix(projection):\n",
      "“the condition has length > 1 and only the first element will be used”\n",
      "Warning message in if (class(projection) != \"matrix\") projection <- as.matrix(projection):\n",
      "“the condition has length > 1 and only the first element will be used”\n",
      "Warning message in if (class(projection) != \"matrix\") projection <- as.matrix(projection):\n",
      "“the condition has length > 1 and only the first element will be used”\n",
      "Warning message in if (class(projection) != \"matrix\") projection <- as.matrix(projection):\n",
      "“the condition has length > 1 and only the first element will be used”\n",
      "Warning message in if (class(projection) != \"matrix\") projection <- as.matrix(projection):\n",
      "“the condition has length > 1 and only the first element will be used”\n",
      "Warning message in if (class(projection) != \"matrix\") projection <- as.matrix(projection):\n",
      "“the condition has length > 1 and only the first element will be used”\n",
      "Warning message in if (class(projection) != \"matrix\") projection <- as.matrix(projection):\n",
      "“the condition has length > 1 and only the first element will be used”\n",
      "Warning message in if (class(projection) != \"matrix\") projection <- as.matrix(projection):\n",
      "“the condition has length > 1 and only the first element will be used”\n",
      "Warning message in if (class(projection) != \"matrix\") projection <- as.matrix(projection):\n",
      "“the condition has length > 1 and only the first element will be used”\n",
      "Warning message in if (class(projection) != \"matrix\") projection <- as.matrix(projection):\n",
      "“the condition has length > 1 and only the first element will be used”\n",
      "Warning message in if (class(projection) != \"matrix\") projection <- as.matrix(projection):\n",
      "“the condition has length > 1 and only the first element will be used”\n",
      "Warning message in if (class(projection) != \"matrix\") projection <- as.matrix(projection):\n",
      "“the condition has length > 1 and only the first element will be used”\n",
      "Warning message in if (class(projection) != \"matrix\") projection <- as.matrix(projection):\n",
      "“the condition has length > 1 and only the first element will be used”\n",
      "Warning message in if (class(projection) != \"matrix\") projection <- as.matrix(projection):\n",
      "“the condition has length > 1 and only the first element will be used”\n",
      "Warning message in if (class(projection) != \"matrix\") projection <- as.matrix(projection):\n",
      "“the condition has length > 1 and only the first element will be used”\n",
      "Warning message in if (class(projection) != \"matrix\") projection <- as.matrix(projection):\n",
      "“the condition has length > 1 and only the first element will be used”\n",
      "Warning message in if (class(projection) != \"matrix\") projection <- as.matrix(projection):\n",
      "“the condition has length > 1 and only the first element will be used”\n",
      "Warning message in if (class(projection) != \"matrix\") projection <- as.matrix(projection):\n",
      "“the condition has length > 1 and only the first element will be used”\n",
      "Warning message in if (class(projection) != \"matrix\") projection <- as.matrix(projection):\n",
      "“the condition has length > 1 and only the first element will be used”\n",
      "Warning message in if (class(projection) != \"matrix\") projection <- as.matrix(projection):\n",
      "“the condition has length > 1 and only the first element will be used”\n",
      "Warning message in if (class(projection) != \"matrix\") projection <- as.matrix(projection):\n",
      "“the condition has length > 1 and only the first element will be used”\n",
      "Warning message in if (class(projection) != \"matrix\") projection <- as.matrix(projection):\n",
      "“the condition has length > 1 and only the first element will be used”\n",
      "Warning message in if (class(projection) != \"matrix\") projection <- as.matrix(projection):\n",
      "“the condition has length > 1 and only the first element will be used”\n",
      "Warning message in if (class(projection) != \"matrix\") projection <- as.matrix(projection):\n",
      "“the condition has length > 1 and only the first element will be used”\n",
      "Warning message in if (class(projection) != \"matrix\") projection <- as.matrix(projection):\n",
      "“the condition has length > 1 and only the first element will be used”\n",
      "Warning message in if (class(projection) != \"matrix\") projection <- as.matrix(projection):\n",
      "“the condition has length > 1 and only the first element will be used”\n",
      "Warning message in if (class(projection) != \"matrix\") projection <- as.matrix(projection):\n",
      "“the condition has length > 1 and only the first element will be used”\n",
      "Warning message in if (class(projection) != \"matrix\") projection <- as.matrix(projection):\n",
      "“the condition has length > 1 and only the first element will be used”\n",
      "Warning message in if (class(projection) != \"matrix\") projection <- as.matrix(projection):\n",
      "“the condition has length > 1 and only the first element will be used”\n",
      "Warning message in if (class(projection) != \"matrix\") projection <- as.matrix(projection):\n",
      "“the condition has length > 1 and only the first element will be used”\n",
      "Warning message in if (class(projection) != \"matrix\") projection <- as.matrix(projection):\n",
      "“the condition has length > 1 and only the first element will be used”\n",
      "Warning message in if (class(projection) != \"matrix\") projection <- as.matrix(projection):\n",
      "“the condition has length > 1 and only the first element will be used”\n",
      "Warning message in if (class(projection) != \"matrix\") projection <- as.matrix(projection):\n",
      "“the condition has length > 1 and only the first element will be used”\n",
      "Warning message in if (class(projection) != \"matrix\") projection <- as.matrix(projection):\n",
      "“the condition has length > 1 and only the first element will be used”\n",
      "Warning message in if (class(projection) != \"matrix\") projection <- as.matrix(projection):\n",
      "“the condition has length > 1 and only the first element will be used”\n",
      "Warning message in if (class(projection) != \"matrix\") projection <- as.matrix(projection):\n",
      "“the condition has length > 1 and only the first element will be used”\n",
      "Warning message in if (class(projection) != \"matrix\") projection <- as.matrix(projection):\n",
      "“the condition has length > 1 and only the first element will be used”\n",
      "Warning message in if (class(projection) != \"matrix\") projection <- as.matrix(projection):\n",
      "“the condition has length > 1 and only the first element will be used”\n",
      "Warning message in if (class(projection) != \"matrix\") projection <- as.matrix(projection):\n",
      "“the condition has length > 1 and only the first element will be used”\n",
      "Warning message in if (class(projection) != \"matrix\") projection <- as.matrix(projection):\n",
      "“the condition has length > 1 and only the first element will be used”\n",
      "Warning message in if (class(projection) != \"matrix\") projection <- as.matrix(projection):\n",
      "“the condition has length > 1 and only the first element will be used”\n",
      "Warning message in if (class(projection) != \"matrix\") projection <- as.matrix(projection):\n",
      "“the condition has length > 1 and only the first element will be used”\n",
      "Warning message in if (class(projection) != \"matrix\") projection <- as.matrix(projection):\n",
      "“the condition has length > 1 and only the first element will be used”\n",
      "Warning message in if (class(projection) != \"matrix\") projection <- as.matrix(projection):\n",
      "“the condition has length > 1 and only the first element will be used”\n",
      "Warning message in if (class(projection) != \"matrix\") projection <- as.matrix(projection):\n",
      "“the condition has length > 1 and only the first element will be used”\n",
      "Warning message in if (class(projection) != \"matrix\") projection <- as.matrix(projection):\n",
      "“the condition has length > 1 and only the first element will be used”\n",
      "Warning message in if (class(projection) != \"matrix\") projection <- as.matrix(projection):\n",
      "“the condition has length > 1 and only the first element will be used”\n",
      "Warning message in if (class(projection) != \"matrix\") projection <- as.matrix(projection):\n",
      "“the condition has length > 1 and only the first element will be used”\n",
      "Warning message in if (class(projection) != \"matrix\") projection <- as.matrix(projection):\n",
      "“the condition has length > 1 and only the first element will be used”\n"
     ]
    },
    {
     "name": "stderr",
     "output_type": "stream",
     "text": [
      "Warning message in if (class(projection) != \"matrix\") projection <- as.matrix(projection):\n",
      "“the condition has length > 1 and only the first element will be used”\n",
      "Warning message in if (class(projection) != \"matrix\") projection <- as.matrix(projection):\n",
      "“the condition has length > 1 and only the first element will be used”\n",
      "Warning message in if (class(projection) != \"matrix\") projection <- as.matrix(projection):\n",
      "“the condition has length > 1 and only the first element will be used”\n",
      "Warning message in if (class(projection) != \"matrix\") projection <- as.matrix(projection):\n",
      "“the condition has length > 1 and only the first element will be used”\n",
      "Warning message in if (class(projection) != \"matrix\") projection <- as.matrix(projection):\n",
      "“the condition has length > 1 and only the first element will be used”\n",
      "Warning message in if (class(projection) != \"matrix\") projection <- as.matrix(projection):\n",
      "“the condition has length > 1 and only the first element will be used”\n",
      "Warning message in if (class(projection) != \"matrix\") projection <- as.matrix(projection):\n",
      "“the condition has length > 1 and only the first element will be used”\n",
      "Warning message in if (class(projection) != \"matrix\") projection <- as.matrix(projection):\n",
      "“the condition has length > 1 and only the first element will be used”\n",
      "Warning message in if (class(projection) != \"matrix\") projection <- as.matrix(projection):\n",
      "“the condition has length > 1 and only the first element will be used”\n",
      "Warning message in if (class(projection) != \"matrix\") projection <- as.matrix(projection):\n",
      "“the condition has length > 1 and only the first element will be used”\n",
      "Warning message in if (class(projection) != \"matrix\") projection <- as.matrix(projection):\n",
      "“the condition has length > 1 and only the first element will be used”\n",
      "Warning message in if (class(projection) != \"matrix\") projection <- as.matrix(projection):\n",
      "“the condition has length > 1 and only the first element will be used”\n",
      "Warning message in if (class(projection) != \"matrix\") projection <- as.matrix(projection):\n",
      "“the condition has length > 1 and only the first element will be used”\n",
      "Warning message in if (class(projection) != \"matrix\") projection <- as.matrix(projection):\n",
      "“the condition has length > 1 and only the first element will be used”\n",
      "Warning message in if (class(projection) != \"matrix\") projection <- as.matrix(projection):\n",
      "“the condition has length > 1 and only the first element will be used”\n",
      "Warning message in if (class(projection) != \"matrix\") projection <- as.matrix(projection):\n",
      "“the condition has length > 1 and only the first element will be used”\n",
      "Warning message in if (class(projection) != \"matrix\") projection <- as.matrix(projection):\n",
      "“the condition has length > 1 and only the first element will be used”\n",
      "Warning message in if (class(projection) != \"matrix\") projection <- as.matrix(projection):\n",
      "“the condition has length > 1 and only the first element will be used”\n",
      "Warning message in if (class(projection) != \"matrix\") projection <- as.matrix(projection):\n",
      "“the condition has length > 1 and only the first element will be used”\n",
      "Warning message in if (class(projection) != \"matrix\") projection <- as.matrix(projection):\n",
      "“the condition has length > 1 and only the first element will be used”\n",
      "Warning message in if (class(projection) != \"matrix\") projection <- as.matrix(projection):\n",
      "“the condition has length > 1 and only the first element will be used”\n",
      "Warning message in if (class(projection) != \"matrix\") projection <- as.matrix(projection):\n",
      "“the condition has length > 1 and only the first element will be used”\n",
      "Warning message in if (class(projection) != \"matrix\") projection <- as.matrix(projection):\n",
      "“the condition has length > 1 and only the first element will be used”\n",
      "Warning message in if (class(projection) != \"matrix\") projection <- as.matrix(projection):\n",
      "“the condition has length > 1 and only the first element will be used”\n",
      "Warning message in if (class(projection) != \"matrix\") projection <- as.matrix(projection):\n",
      "“the condition has length > 1 and only the first element will be used”\n",
      "Warning message in if (class(projection) != \"matrix\") projection <- as.matrix(projection):\n",
      "“the condition has length > 1 and only the first element will be used”\n",
      "Warning message in if (class(projection) != \"matrix\") projection <- as.matrix(projection):\n",
      "“the condition has length > 1 and only the first element will be used”\n",
      "Warning message in if (class(projection) != \"matrix\") projection <- as.matrix(projection):\n",
      "“the condition has length > 1 and only the first element will be used”\n",
      "Warning message in if (class(projection) != \"matrix\") projection <- as.matrix(projection):\n",
      "“the condition has length > 1 and only the first element will be used”\n",
      "Warning message in if (class(projection) != \"matrix\") projection <- as.matrix(projection):\n",
      "“the condition has length > 1 and only the first element will be used”\n",
      "Warning message in if (class(projection) != \"matrix\") projection <- as.matrix(projection):\n",
      "“the condition has length > 1 and only the first element will be used”\n",
      "Warning message in if (class(projection) != \"matrix\") projection <- as.matrix(projection):\n",
      "“the condition has length > 1 and only the first element will be used”\n",
      "Warning message in if (class(projection) != \"matrix\") projection <- as.matrix(projection):\n",
      "“the condition has length > 1 and only the first element will be used”\n",
      "Warning message in if (class(projection) != \"matrix\") projection <- as.matrix(projection):\n",
      "“the condition has length > 1 and only the first element will be used”\n",
      "Warning message in if (class(projection) != \"matrix\") projection <- as.matrix(projection):\n",
      "“the condition has length > 1 and only the first element will be used”\n",
      "Warning message in if (class(projection) != \"matrix\") projection <- as.matrix(projection):\n",
      "“the condition has length > 1 and only the first element will be used”\n",
      "Warning message in if (class(projection) != \"matrix\") projection <- as.matrix(projection):\n",
      "“the condition has length > 1 and only the first element will be used”\n",
      "Warning message in if (class(projection) != \"matrix\") projection <- as.matrix(projection):\n",
      "“the condition has length > 1 and only the first element will be used”\n",
      "Warning message in if (class(projection) != \"matrix\") projection <- as.matrix(projection):\n",
      "“the condition has length > 1 and only the first element will be used”\n",
      "Warning message in if (class(projection) != \"matrix\") projection <- as.matrix(projection):\n",
      "“the condition has length > 1 and only the first element will be used”\n",
      "Warning message in if (class(projection) != \"matrix\") projection <- as.matrix(projection):\n",
      "“the condition has length > 1 and only the first element will be used”\n",
      "Warning message in if (class(projection) != \"matrix\") projection <- as.matrix(projection):\n",
      "“the condition has length > 1 and only the first element will be used”\n",
      "Warning message in if (class(projection) != \"matrix\") projection <- as.matrix(projection):\n",
      "“the condition has length > 1 and only the first element will be used”\n",
      "Warning message in if (class(projection) != \"matrix\") projection <- as.matrix(projection):\n",
      "“the condition has length > 1 and only the first element will be used”\n",
      "Warning message in if (class(projection) != \"matrix\") projection <- as.matrix(projection):\n",
      "“the condition has length > 1 and only the first element will be used”\n",
      "Warning message in if (class(projection) != \"matrix\") projection <- as.matrix(projection):\n",
      "“the condition has length > 1 and only the first element will be used”\n",
      "Warning message in if (class(projection) != \"matrix\") projection <- as.matrix(projection):\n",
      "“the condition has length > 1 and only the first element will be used”\n",
      "Warning message in if (class(projection) != \"matrix\") projection <- as.matrix(projection):\n",
      "“the condition has length > 1 and only the first element will be used”\n",
      "Warning message in if (class(projection) != \"matrix\") projection <- as.matrix(projection):\n",
      "“the condition has length > 1 and only the first element will be used”\n",
      "Warning message in if (class(projection) != \"matrix\") projection <- as.matrix(projection):\n",
      "“the condition has length > 1 and only the first element will be used”\n",
      "Warning message in if (class(projection) != \"matrix\") projection <- as.matrix(projection):\n",
      "“the condition has length > 1 and only the first element will be used”\n"
     ]
    },
    {
     "name": "stderr",
     "output_type": "stream",
     "text": [
      "Warning message in if (class(projection) != \"matrix\") projection <- as.matrix(projection):\n",
      "“the condition has length > 1 and only the first element will be used”\n",
      "Warning message in if (class(projection) != \"matrix\") projection <- as.matrix(projection):\n",
      "“the condition has length > 1 and only the first element will be used”\n",
      "Warning message in if (class(projection) != \"matrix\") projection <- as.matrix(projection):\n",
      "“the condition has length > 1 and only the first element will be used”\n",
      "Warning message in if (class(projection) != \"matrix\") projection <- as.matrix(projection):\n",
      "“the condition has length > 1 and only the first element will be used”\n",
      "Warning message in if (class(projection) != \"matrix\") projection <- as.matrix(projection):\n",
      "“the condition has length > 1 and only the first element will be used”\n",
      "Warning message in if (class(projection) != \"matrix\") projection <- as.matrix(projection):\n",
      "“the condition has length > 1 and only the first element will be used”\n",
      "Warning message in if (class(projection) != \"matrix\") projection <- as.matrix(projection):\n",
      "“the condition has length > 1 and only the first element will be used”\n",
      "Warning message in if (class(projection) != \"matrix\") projection <- as.matrix(projection):\n",
      "“the condition has length > 1 and only the first element will be used”\n",
      "Warning message in if (class(projection) != \"matrix\") projection <- as.matrix(projection):\n",
      "“the condition has length > 1 and only the first element will be used”\n",
      "Warning message in if (class(projection) != \"matrix\") projection <- as.matrix(projection):\n",
      "“the condition has length > 1 and only the first element will be used”\n",
      "Warning message in if (class(projection) != \"matrix\") projection <- as.matrix(projection):\n",
      "“the condition has length > 1 and only the first element will be used”\n",
      "Warning message in if (class(projection) != \"matrix\") projection <- as.matrix(projection):\n",
      "“the condition has length > 1 and only the first element will be used”\n",
      "Warning message in if (class(projection) != \"matrix\") projection <- as.matrix(projection):\n",
      "“the condition has length > 1 and only the first element will be used”\n",
      "Warning message in if (class(projection) != \"matrix\") projection <- as.matrix(projection):\n",
      "“the condition has length > 1 and only the first element will be used”\n",
      "Warning message in if (class(projection) != \"matrix\") projection <- as.matrix(projection):\n",
      "“the condition has length > 1 and only the first element will be used”\n",
      "Warning message in if (class(projection) != \"matrix\") projection <- as.matrix(projection):\n",
      "“the condition has length > 1 and only the first element will be used”\n",
      "Warning message in if (class(projection) != \"matrix\") projection <- as.matrix(projection):\n",
      "“the condition has length > 1 and only the first element will be used”\n",
      "Warning message in if (class(projection) != \"matrix\") projection <- as.matrix(projection):\n",
      "“the condition has length > 1 and only the first element will be used”\n",
      "Warning message in if (class(projection) != \"matrix\") projection <- as.matrix(projection):\n",
      "“the condition has length > 1 and only the first element will be used”\n",
      "Warning message in if (class(projection) != \"matrix\") projection <- as.matrix(projection):\n",
      "“the condition has length > 1 and only the first element will be used”\n",
      "Warning message in if (class(projection) != \"matrix\") projection <- as.matrix(projection):\n",
      "“the condition has length > 1 and only the first element will be used”\n",
      "Warning message in if (class(projection) != \"matrix\") projection <- as.matrix(projection):\n",
      "“the condition has length > 1 and only the first element will be used”\n",
      "Warning message in if (class(projection) != \"matrix\") projection <- as.matrix(projection):\n",
      "“the condition has length > 1 and only the first element will be used”\n",
      "Warning message in if (class(projection) != \"matrix\") projection <- as.matrix(projection):\n",
      "“the condition has length > 1 and only the first element will be used”\n",
      "Warning message in if (class(projection) != \"matrix\") projection <- as.matrix(projection):\n",
      "“the condition has length > 1 and only the first element will be used”\n",
      "Warning message in if (class(projection) != \"matrix\") projection <- as.matrix(projection):\n",
      "“the condition has length > 1 and only the first element will be used”\n",
      "Warning message in if (class(projection) != \"matrix\") projection <- as.matrix(projection):\n",
      "“the condition has length > 1 and only the first element will be used”\n",
      "Warning message in if (class(projection) != \"matrix\") projection <- as.matrix(projection):\n",
      "“the condition has length > 1 and only the first element will be used”\n",
      "Warning message in if (class(projection) != \"matrix\") projection <- as.matrix(projection):\n",
      "“the condition has length > 1 and only the first element will be used”\n",
      "Warning message in if (class(projection) != \"matrix\") projection <- as.matrix(projection):\n",
      "“the condition has length > 1 and only the first element will be used”\n",
      "Warning message in if (class(projection) != \"matrix\") projection <- as.matrix(projection):\n",
      "“the condition has length > 1 and only the first element will be used”\n",
      "Warning message in if (class(projection) != \"matrix\") projection <- as.matrix(projection):\n",
      "“the condition has length > 1 and only the first element will be used”\n",
      "Warning message in if (class(projection) != \"matrix\") projection <- as.matrix(projection):\n",
      "“the condition has length > 1 and only the first element will be used”\n",
      "Warning message in if (class(projection) != \"matrix\") projection <- as.matrix(projection):\n",
      "“the condition has length > 1 and only the first element will be used”\n",
      "Warning message in if (class(projection) != \"matrix\") projection <- as.matrix(projection):\n",
      "“the condition has length > 1 and only the first element will be used”\n",
      "Warning message in if (class(projection) != \"matrix\") projection <- as.matrix(projection):\n",
      "“the condition has length > 1 and only the first element will be used”\n",
      "Warning message in if (class(projection) != \"matrix\") projection <- as.matrix(projection):\n",
      "“the condition has length > 1 and only the first element will be used”\n",
      "Warning message in if (class(projection) != \"matrix\") projection <- as.matrix(projection):\n",
      "“the condition has length > 1 and only the first element will be used”\n",
      "Warning message in if (class(projection) != \"matrix\") projection <- as.matrix(projection):\n",
      "“the condition has length > 1 and only the first element will be used”\n",
      "Warning message in if (class(projection) != \"matrix\") projection <- as.matrix(projection):\n",
      "“the condition has length > 1 and only the first element will be used”\n",
      "Warning message in if (class(projection) != \"matrix\") projection <- as.matrix(projection):\n",
      "“the condition has length > 1 and only the first element will be used”\n",
      "Warning message in if (class(projection) != \"matrix\") projection <- as.matrix(projection):\n",
      "“the condition has length > 1 and only the first element will be used”\n",
      "Warning message in if (class(projection) != \"matrix\") projection <- as.matrix(projection):\n",
      "“the condition has length > 1 and only the first element will be used”\n",
      "Warning message in if (class(projection) != \"matrix\") projection <- as.matrix(projection):\n",
      "“the condition has length > 1 and only the first element will be used”\n",
      "Warning message in if (class(projection) != \"matrix\") projection <- as.matrix(projection):\n",
      "“the condition has length > 1 and only the first element will be used”\n",
      "Warning message in if (class(projection) != \"matrix\") projection <- as.matrix(projection):\n",
      "“the condition has length > 1 and only the first element will be used”\n",
      "Warning message in if (class(projection) != \"matrix\") projection <- as.matrix(projection):\n",
      "“the condition has length > 1 and only the first element will be used”\n",
      "Warning message in if (class(projection) != \"matrix\") projection <- as.matrix(projection):\n",
      "“the condition has length > 1 and only the first element will be used”\n",
      "Warning message in if (class(projection) != \"matrix\") projection <- as.matrix(projection):\n",
      "“the condition has length > 1 and only the first element will be used”\n",
      "Warning message in if (class(projection) != \"matrix\") projection <- as.matrix(projection):\n",
      "“the condition has length > 1 and only the first element will be used”\n",
      "Warning message in if (class(projection) != \"matrix\") projection <- as.matrix(projection):\n",
      "“the condition has length > 1 and only the first element will be used”\n"
     ]
    },
    {
     "name": "stderr",
     "output_type": "stream",
     "text": [
      "Warning message in if (class(projection) != \"matrix\") projection <- as.matrix(projection):\n",
      "“the condition has length > 1 and only the first element will be used”\n",
      "Warning message in if (class(projection) != \"matrix\") projection <- as.matrix(projection):\n",
      "“the condition has length > 1 and only the first element will be used”\n",
      "Warning message in if (class(projection) != \"matrix\") projection <- as.matrix(projection):\n",
      "“the condition has length > 1 and only the first element will be used”\n",
      "Warning message in if (class(projection) != \"matrix\") projection <- as.matrix(projection):\n",
      "“the condition has length > 1 and only the first element will be used”\n",
      "Warning message in if (class(projection) != \"matrix\") projection <- as.matrix(projection):\n",
      "“the condition has length > 1 and only the first element will be used”\n",
      "Warning message in if (class(projection) != \"matrix\") projection <- as.matrix(projection):\n",
      "“the condition has length > 1 and only the first element will be used”\n",
      "Warning message in if (class(projection) != \"matrix\") projection <- as.matrix(projection):\n",
      "“the condition has length > 1 and only the first element will be used”\n",
      "Warning message in if (class(projection) != \"matrix\") projection <- as.matrix(projection):\n",
      "“the condition has length > 1 and only the first element will be used”\n",
      "Warning message in if (class(projection) != \"matrix\") projection <- as.matrix(projection):\n",
      "“the condition has length > 1 and only the first element will be used”\n",
      "Warning message in if (class(projection) != \"matrix\") projection <- as.matrix(projection):\n",
      "“the condition has length > 1 and only the first element will be used”\n",
      "Warning message in if (class(projection) != \"matrix\") projection <- as.matrix(projection):\n",
      "“the condition has length > 1 and only the first element will be used”\n",
      "Warning message in if (class(projection) != \"matrix\") projection <- as.matrix(projection):\n",
      "“the condition has length > 1 and only the first element will be used”\n",
      "Warning message in if (class(projection) != \"matrix\") projection <- as.matrix(projection):\n",
      "“the condition has length > 1 and only the first element will be used”\n",
      "Warning message in if (class(projection) != \"matrix\") projection <- as.matrix(projection):\n",
      "“the condition has length > 1 and only the first element will be used”\n",
      "Warning message in if (class(projection) != \"matrix\") projection <- as.matrix(projection):\n",
      "“the condition has length > 1 and only the first element will be used”\n",
      "Warning message in if (class(projection) != \"matrix\") projection <- as.matrix(projection):\n",
      "“the condition has length > 1 and only the first element will be used”\n",
      "Warning message in if (class(projection) != \"matrix\") projection <- as.matrix(projection):\n",
      "“the condition has length > 1 and only the first element will be used”\n",
      "Warning message in if (class(projection) != \"matrix\") projection <- as.matrix(projection):\n",
      "“the condition has length > 1 and only the first element will be used”\n",
      "Warning message in if (class(projection) != \"matrix\") projection <- as.matrix(projection):\n",
      "“the condition has length > 1 and only the first element will be used”\n",
      "Warning message in if (class(projection) != \"matrix\") projection <- as.matrix(projection):\n",
      "“the condition has length > 1 and only the first element will be used”\n",
      "Warning message in if (class(projection) != \"matrix\") projection <- as.matrix(projection):\n",
      "“the condition has length > 1 and only the first element will be used”\n",
      "Warning message in if (class(projection) != \"matrix\") projection <- as.matrix(projection):\n",
      "“the condition has length > 1 and only the first element will be used”\n",
      "Warning message in if (class(projection) != \"matrix\") projection <- as.matrix(projection):\n",
      "“the condition has length > 1 and only the first element will be used”\n",
      "Warning message in if (class(projection) != \"matrix\") projection <- as.matrix(projection):\n",
      "“the condition has length > 1 and only the first element will be used”\n",
      "Warning message in if (class(projection) != \"matrix\") projection <- as.matrix(projection):\n",
      "“the condition has length > 1 and only the first element will be used”\n",
      "Warning message in if (class(projection) != \"matrix\") projection <- as.matrix(projection):\n",
      "“the condition has length > 1 and only the first element will be used”\n",
      "Warning message in if (class(projection) != \"matrix\") projection <- as.matrix(projection):\n",
      "“the condition has length > 1 and only the first element will be used”\n",
      "Warning message in if (class(projection) != \"matrix\") projection <- as.matrix(projection):\n",
      "“the condition has length > 1 and only the first element will be used”\n",
      "Warning message in if (class(projection) != \"matrix\") projection <- as.matrix(projection):\n",
      "“the condition has length > 1 and only the first element will be used”\n",
      "Warning message in if (class(projection) != \"matrix\") projection <- as.matrix(projection):\n",
      "“the condition has length > 1 and only the first element will be used”\n",
      "Warning message in if (class(projection) != \"matrix\") projection <- as.matrix(projection):\n",
      "“the condition has length > 1 and only the first element will be used”\n",
      "Warning message in if (class(projection) != \"matrix\") projection <- as.matrix(projection):\n",
      "“the condition has length > 1 and only the first element will be used”\n",
      "Warning message in if (class(projection) != \"matrix\") projection <- as.matrix(projection):\n",
      "“the condition has length > 1 and only the first element will be used”\n",
      "Warning message in if (class(projection) != \"matrix\") projection <- as.matrix(projection):\n",
      "“the condition has length > 1 and only the first element will be used”\n",
      "Warning message in if (class(projection) != \"matrix\") projection <- as.matrix(projection):\n",
      "“the condition has length > 1 and only the first element will be used”\n",
      "Warning message in if (class(projection) != \"matrix\") projection <- as.matrix(projection):\n",
      "“the condition has length > 1 and only the first element will be used”\n",
      "Warning message in if (class(projection) != \"matrix\") projection <- as.matrix(projection):\n",
      "“the condition has length > 1 and only the first element will be used”\n",
      "Warning message in if (class(projection) != \"matrix\") projection <- as.matrix(projection):\n",
      "“the condition has length > 1 and only the first element will be used”\n",
      "Warning message in if (class(projection) != \"matrix\") projection <- as.matrix(projection):\n",
      "“the condition has length > 1 and only the first element will be used”\n",
      "Warning message in if (class(projection) != \"matrix\") projection <- as.matrix(projection):\n",
      "“the condition has length > 1 and only the first element will be used”\n",
      "Warning message in if (class(projection) != \"matrix\") projection <- as.matrix(projection):\n",
      "“the condition has length > 1 and only the first element will be used”\n",
      "Warning message in if (class(projection) != \"matrix\") projection <- as.matrix(projection):\n",
      "“the condition has length > 1 and only the first element will be used”\n",
      "Warning message in if (class(projection) != \"matrix\") projection <- as.matrix(projection):\n",
      "“the condition has length > 1 and only the first element will be used”\n",
      "Warning message in if (class(projection) != \"matrix\") projection <- as.matrix(projection):\n",
      "“the condition has length > 1 and only the first element will be used”\n",
      "Warning message in if (class(projection) != \"matrix\") projection <- as.matrix(projection):\n",
      "“the condition has length > 1 and only the first element will be used”\n",
      "Warning message in if (class(projection) != \"matrix\") projection <- as.matrix(projection):\n",
      "“the condition has length > 1 and only the first element will be used”\n",
      "Warning message in if (class(projection) != \"matrix\") projection <- as.matrix(projection):\n",
      "“the condition has length > 1 and only the first element will be used”\n",
      "Warning message in if (class(projection) != \"matrix\") projection <- as.matrix(projection):\n",
      "“the condition has length > 1 and only the first element will be used”\n",
      "Warning message in if (class(projection) != \"matrix\") projection <- as.matrix(projection):\n",
      "“the condition has length > 1 and only the first element will be used”\n",
      "Warning message in if (class(projection) != \"matrix\") projection <- as.matrix(projection):\n",
      "“the condition has length > 1 and only the first element will be used”\n",
      "Warning message in if (class(projection) != \"matrix\") projection <- as.matrix(projection):\n",
      "“the condition has length > 1 and only the first element will be used”\n"
     ]
    },
    {
     "name": "stderr",
     "output_type": "stream",
     "text": [
      "Warning message in if (class(projection) != \"matrix\") projection <- as.matrix(projection):\n",
      "“the condition has length > 1 and only the first element will be used”\n",
      "Warning message in if (class(projection) != \"matrix\") projection <- as.matrix(projection):\n",
      "“the condition has length > 1 and only the first element will be used”\n",
      "Warning message in if (class(projection) != \"matrix\") projection <- as.matrix(projection):\n",
      "“the condition has length > 1 and only the first element will be used”\n",
      "Warning message in if (class(projection) != \"matrix\") projection <- as.matrix(projection):\n",
      "“the condition has length > 1 and only the first element will be used”\n",
      "Warning message in if (class(projection) != \"matrix\") projection <- as.matrix(projection):\n",
      "“the condition has length > 1 and only the first element will be used”\n",
      "Warning message in if (class(projection) != \"matrix\") projection <- as.matrix(projection):\n",
      "“the condition has length > 1 and only the first element will be used”\n",
      "Warning message in if (class(projection) != \"matrix\") projection <- as.matrix(projection):\n",
      "“the condition has length > 1 and only the first element will be used”\n",
      "Warning message in if (class(projection) != \"matrix\") projection <- as.matrix(projection):\n",
      "“the condition has length > 1 and only the first element will be used”\n",
      "Warning message in if (class(projection) != \"matrix\") projection <- as.matrix(projection):\n",
      "“the condition has length > 1 and only the first element will be used”\n",
      "Warning message in if (class(projection) != \"matrix\") projection <- as.matrix(projection):\n",
      "“the condition has length > 1 and only the first element will be used”\n",
      "Warning message in if (class(projection) != \"matrix\") projection <- as.matrix(projection):\n",
      "“the condition has length > 1 and only the first element will be used”\n",
      "Warning message in if (class(projection) != \"matrix\") projection <- as.matrix(projection):\n",
      "“the condition has length > 1 and only the first element will be used”\n",
      "Warning message in if (class(projection) != \"matrix\") projection <- as.matrix(projection):\n",
      "“the condition has length > 1 and only the first element will be used”\n",
      "Warning message in if (class(projection) != \"matrix\") projection <- as.matrix(projection):\n",
      "“the condition has length > 1 and only the first element will be used”\n",
      "Warning message in if (class(projection) != \"matrix\") projection <- as.matrix(projection):\n",
      "“the condition has length > 1 and only the first element will be used”\n",
      "Warning message in if (class(projection) != \"matrix\") projection <- as.matrix(projection):\n",
      "“the condition has length > 1 and only the first element will be used”\n",
      "Warning message in if (class(projection) != \"matrix\") projection <- as.matrix(projection):\n",
      "“the condition has length > 1 and only the first element will be used”\n",
      "Warning message in if (class(projection) != \"matrix\") projection <- as.matrix(projection):\n",
      "“the condition has length > 1 and only the first element will be used”\n",
      "Warning message in if (class(projection) != \"matrix\") projection <- as.matrix(projection):\n",
      "“the condition has length > 1 and only the first element will be used”\n",
      "Warning message in if (class(projection) != \"matrix\") projection <- as.matrix(projection):\n",
      "“the condition has length > 1 and only the first element will be used”\n",
      "Warning message in if (class(projection) != \"matrix\") projection <- as.matrix(projection):\n",
      "“the condition has length > 1 and only the first element will be used”\n",
      "Warning message in if (class(projection) != \"matrix\") projection <- as.matrix(projection):\n",
      "“the condition has length > 1 and only the first element will be used”\n",
      "Warning message in if (class(projection) != \"matrix\") projection <- as.matrix(projection):\n",
      "“the condition has length > 1 and only the first element will be used”\n",
      "Warning message in if (class(projection) != \"matrix\") projection <- as.matrix(projection):\n",
      "“the condition has length > 1 and only the first element will be used”\n",
      "Warning message in if (class(projection) != \"matrix\") projection <- as.matrix(projection):\n",
      "“the condition has length > 1 and only the first element will be used”\n",
      "Warning message in if (class(projection) != \"matrix\") projection <- as.matrix(projection):\n",
      "“the condition has length > 1 and only the first element will be used”\n",
      "Warning message in if (class(projection) != \"matrix\") projection <- as.matrix(projection):\n",
      "“the condition has length > 1 and only the first element will be used”\n",
      "Warning message in if (class(projection) != \"matrix\") projection <- as.matrix(projection):\n",
      "“the condition has length > 1 and only the first element will be used”\n",
      "Warning message in if (class(projection) != \"matrix\") projection <- as.matrix(projection):\n",
      "“the condition has length > 1 and only the first element will be used”\n",
      "Warning message in if (class(projection) != \"matrix\") projection <- as.matrix(projection):\n",
      "“the condition has length > 1 and only the first element will be used”\n",
      "Warning message in if (class(projection) != \"matrix\") projection <- as.matrix(projection):\n",
      "“the condition has length > 1 and only the first element will be used”\n",
      "Warning message in if (class(projection) != \"matrix\") projection <- as.matrix(projection):\n",
      "“the condition has length > 1 and only the first element will be used”\n",
      "Warning message in if (class(projection) != \"matrix\") projection <- as.matrix(projection):\n",
      "“the condition has length > 1 and only the first element will be used”\n",
      "Warning message in if (class(projection) != \"matrix\") projection <- as.matrix(projection):\n",
      "“the condition has length > 1 and only the first element will be used”\n",
      "Warning message in if (class(projection) != \"matrix\") projection <- as.matrix(projection):\n",
      "“the condition has length > 1 and only the first element will be used”\n",
      "Warning message in if (class(projection) != \"matrix\") projection <- as.matrix(projection):\n",
      "“the condition has length > 1 and only the first element will be used”\n",
      "Warning message in if (class(projection) != \"matrix\") projection <- as.matrix(projection):\n",
      "“the condition has length > 1 and only the first element will be used”\n",
      "Warning message in if (class(projection) != \"matrix\") projection <- as.matrix(projection):\n",
      "“the condition has length > 1 and only the first element will be used”\n",
      "Warning message in if (class(projection) != \"matrix\") projection <- as.matrix(projection):\n",
      "“the condition has length > 1 and only the first element will be used”\n",
      "Warning message in if (class(projection) != \"matrix\") projection <- as.matrix(projection):\n",
      "“the condition has length > 1 and only the first element will be used”\n",
      "Warning message in if (class(projection) != \"matrix\") projection <- as.matrix(projection):\n",
      "“the condition has length > 1 and only the first element will be used”\n",
      "Warning message in if (class(projection) != \"matrix\") projection <- as.matrix(projection):\n",
      "“the condition has length > 1 and only the first element will be used”\n",
      "Warning message in if (class(projection) != \"matrix\") projection <- as.matrix(projection):\n",
      "“the condition has length > 1 and only the first element will be used”\n",
      "Warning message in if (class(projection) != \"matrix\") projection <- as.matrix(projection):\n",
      "“the condition has length > 1 and only the first element will be used”\n",
      "Warning message in if (class(projection) != \"matrix\") projection <- as.matrix(projection):\n",
      "“the condition has length > 1 and only the first element will be used”\n",
      "Warning message in if (class(projection) != \"matrix\") projection <- as.matrix(projection):\n",
      "“the condition has length > 1 and only the first element will be used”\n",
      "Warning message in if (class(projection) != \"matrix\") projection <- as.matrix(projection):\n",
      "“the condition has length > 1 and only the first element will be used”\n",
      "Warning message in if (class(projection) != \"matrix\") projection <- as.matrix(projection):\n",
      "“the condition has length > 1 and only the first element will be used”\n",
      "Warning message in if (class(projection) != \"matrix\") projection <- as.matrix(projection):\n",
      "“the condition has length > 1 and only the first element will be used”\n",
      "Warning message in if (class(projection) != \"matrix\") projection <- as.matrix(projection):\n",
      "“the condition has length > 1 and only the first element will be used”\n",
      "Warning message in if (class(projection) != \"matrix\") projection <- as.matrix(projection):\n",
      "“the condition has length > 1 and only the first element will be used”\n"
     ]
    },
    {
     "name": "stderr",
     "output_type": "stream",
     "text": [
      "Warning message in if (class(projection) != \"matrix\") projection <- as.matrix(projection):\n",
      "“the condition has length > 1 and only the first element will be used”\n",
      "Warning message in if (class(projection) != \"matrix\") projection <- as.matrix(projection):\n",
      "“the condition has length > 1 and only the first element will be used”\n",
      "Warning message in if (class(projection) != \"matrix\") projection <- as.matrix(projection):\n",
      "“the condition has length > 1 and only the first element will be used”\n",
      "Warning message in if (class(projection) != \"matrix\") projection <- as.matrix(projection):\n",
      "“the condition has length > 1 and only the first element will be used”\n",
      "Warning message in if (class(projection) != \"matrix\") projection <- as.matrix(projection):\n",
      "“the condition has length > 1 and only the first element will be used”\n",
      "Warning message in if (class(projection) != \"matrix\") projection <- as.matrix(projection):\n",
      "“the condition has length > 1 and only the first element will be used”\n",
      "Warning message in if (class(projection) != \"matrix\") projection <- as.matrix(projection):\n",
      "“the condition has length > 1 and only the first element will be used”\n",
      "Warning message in if (class(projection) != \"matrix\") projection <- as.matrix(projection):\n",
      "“the condition has length > 1 and only the first element will be used”\n",
      "Warning message in if (class(projection) != \"matrix\") projection <- as.matrix(projection):\n",
      "“the condition has length > 1 and only the first element will be used”\n",
      "Warning message in if (class(projection) != \"matrix\") projection <- as.matrix(projection):\n",
      "“the condition has length > 1 and only the first element will be used”\n",
      "Warning message in if (class(projection) != \"matrix\") projection <- as.matrix(projection):\n",
      "“the condition has length > 1 and only the first element will be used”\n",
      "Warning message in if (class(projection) != \"matrix\") projection <- as.matrix(projection):\n",
      "“the condition has length > 1 and only the first element will be used”\n",
      "Warning message in if (class(projection) != \"matrix\") projection <- as.matrix(projection):\n",
      "“the condition has length > 1 and only the first element will be used”\n",
      "Warning message in if (class(projection) != \"matrix\") projection <- as.matrix(projection):\n",
      "“the condition has length > 1 and only the first element will be used”\n",
      "Warning message in if (class(projection) != \"matrix\") projection <- as.matrix(projection):\n",
      "“the condition has length > 1 and only the first element will be used”\n",
      "Warning message in if (class(projection) != \"matrix\") projection <- as.matrix(projection):\n",
      "“the condition has length > 1 and only the first element will be used”\n",
      "Warning message in if (class(projection) != \"matrix\") projection <- as.matrix(projection):\n",
      "“the condition has length > 1 and only the first element will be used”\n",
      "Warning message in if (class(projection) != \"matrix\") projection <- as.matrix(projection):\n",
      "“the condition has length > 1 and only the first element will be used”\n",
      "Warning message in if (class(projection) != \"matrix\") projection <- as.matrix(projection):\n",
      "“the condition has length > 1 and only the first element will be used”\n",
      "Warning message in if (class(projection) != \"matrix\") projection <- as.matrix(projection):\n",
      "“the condition has length > 1 and only the first element will be used”\n",
      "Warning message in if (class(projection) != \"matrix\") projection <- as.matrix(projection):\n",
      "“the condition has length > 1 and only the first element will be used”\n",
      "Warning message in if (class(projection) != \"matrix\") projection <- as.matrix(projection):\n",
      "“the condition has length > 1 and only the first element will be used”\n",
      "Warning message in if (class(projection) != \"matrix\") projection <- as.matrix(projection):\n",
      "“the condition has length > 1 and only the first element will be used”\n",
      "Warning message in if (class(projection) != \"matrix\") projection <- as.matrix(projection):\n",
      "“the condition has length > 1 and only the first element will be used”\n",
      "Warning message in if (class(projection) != \"matrix\") projection <- as.matrix(projection):\n",
      "“the condition has length > 1 and only the first element will be used”\n",
      "Warning message in if (class(projection) != \"matrix\") projection <- as.matrix(projection):\n",
      "“the condition has length > 1 and only the first element will be used”\n",
      "Warning message in if (class(projection) != \"matrix\") projection <- as.matrix(projection):\n",
      "“the condition has length > 1 and only the first element will be used”\n",
      "Warning message in if (class(projection) != \"matrix\") projection <- as.matrix(projection):\n",
      "“the condition has length > 1 and only the first element will be used”\n",
      "Warning message in if (class(projection) != \"matrix\") projection <- as.matrix(projection):\n",
      "“the condition has length > 1 and only the first element will be used”\n",
      "Warning message in if (class(projection) != \"matrix\") projection <- as.matrix(projection):\n",
      "“the condition has length > 1 and only the first element will be used”\n",
      "Warning message in if (class(projection) != \"matrix\") projection <- as.matrix(projection):\n",
      "“the condition has length > 1 and only the first element will be used”\n",
      "Warning message in if (class(projection) != \"matrix\") projection <- as.matrix(projection):\n",
      "“the condition has length > 1 and only the first element will be used”\n",
      "Warning message in if (class(projection) != \"matrix\") projection <- as.matrix(projection):\n",
      "“the condition has length > 1 and only the first element will be used”\n",
      "Warning message in if (class(projection) != \"matrix\") projection <- as.matrix(projection):\n",
      "“the condition has length > 1 and only the first element will be used”\n",
      "Warning message in if (class(projection) != \"matrix\") projection <- as.matrix(projection):\n",
      "“the condition has length > 1 and only the first element will be used”\n",
      "Warning message in if (class(projection) != \"matrix\") projection <- as.matrix(projection):\n",
      "“the condition has length > 1 and only the first element will be used”\n",
      "Warning message in if (class(projection) != \"matrix\") projection <- as.matrix(projection):\n",
      "“the condition has length > 1 and only the first element will be used”\n",
      "Warning message in if (class(projection) != \"matrix\") projection <- as.matrix(projection):\n",
      "“the condition has length > 1 and only the first element will be used”\n",
      "Warning message in if (class(projection) != \"matrix\") projection <- as.matrix(projection):\n",
      "“the condition has length > 1 and only the first element will be used”\n",
      "Warning message in if (class(projection) != \"matrix\") projection <- as.matrix(projection):\n",
      "“the condition has length > 1 and only the first element will be used”\n",
      "Warning message in if (class(projection) != \"matrix\") projection <- as.matrix(projection):\n",
      "“the condition has length > 1 and only the first element will be used”\n"
     ]
    }
   ],
   "source": [
    "cds <- orderCells(cds)"
   ]
  },
  {
   "cell_type": "code",
   "execution_count": 121,
   "id": "637b076f",
   "metadata": {},
   "outputs": [],
   "source": [
    "pData(cds) <- pData(cds) %>% dplyr::select(-sample_name)"
   ]
  },
  {
   "cell_type": "code",
   "execution_count": 125,
   "id": "c1a1757d",
   "metadata": {},
   "outputs": [],
   "source": [
    "saveRDS(spp1.seu@meta.data, file = \"/mnt/data/home/lzz/project/2020-6-18-IVDD_scRNA/results/combin_results/new_results/immune/SPP1_monocytes_meta.Rds\")"
   ]
  },
  {
   "cell_type": "code",
   "execution_count": null,
   "id": "190a27e7",
   "metadata": {},
   "outputs": [],
   "source": []
  },
  {
   "cell_type": "code",
   "execution_count": null,
   "id": "13244f91",
   "metadata": {},
   "outputs": [],
   "source": []
  },
  {
   "cell_type": "code",
   "execution_count": null,
   "id": "66e49fe3",
   "metadata": {},
   "outputs": [],
   "source": [
    "DC12.df <- dif[,c(\"DC1\", \"DC2\")]\n",
    "DC12.df$celltype <- cluster.labels.df$celltype[match(rownames(DC12.df), cluster.labels.df$cellname)]\n",
    "\n",
    "ggplot(DC12.df, aes(x=DC1, y=DC2, color=celltype))+geom_point()\n",
    "\n",
    "DeSmooth <- predictSmooth(sce, gene = DeGenes, nPoints = 100, tidy = FALSE)"
   ]
  },
  {
   "cell_type": "code",
   "execution_count": 108,
   "id": "f788f0f8",
   "metadata": {},
   "outputs": [
    {
     "name": "stderr",
     "output_type": "stream",
     "text": [
      "Loading required package: destiny\n",
      "\n",
      "\n",
      "Attaching package: ‘destiny’\n",
      "\n",
      "\n",
      "The following object is masked from ‘package:IRanges’:\n",
      "\n",
      "    distance\n",
      "\n",
      "\n"
     ]
    },
    {
     "ename": "ERROR",
     "evalue": "Error: `data` must be a data frame, or other object coercible by `fortify()`, not an S4 object with class DiffusionMap.\n",
     "output_type": "error",
     "traceback": [
      "Error: `data` must be a data frame, or other object coercible by `fortify()`, not an S4 object with class DiffusionMap.\nTraceback:\n",
      "1. fortify(dm)",
      "2. fortify.default(dm)",
      "3. abort(msg)",
      "4. signal_abort(cnd)"
     ]
    }
   ],
   "source": [
    "dm <- readRDS(\"/mnt/data/home/lzz/project/2020-6-18-IVDD_scRNA/results/combin_results/new_results/immune/SPP1_monocytes_destiny_DM.Rds\")\n",
    "dif <- fortify(dm)#转化为data.frame"
   ]
  },
  {
   "cell_type": "code",
   "execution_count": 111,
   "id": "601db03e",
   "metadata": {},
   "outputs": [],
   "source": [
    "?fortify"
   ]
  },
  {
   "cell_type": "code",
   "execution_count": 1,
   "id": "8987c154",
   "metadata": {},
   "outputs": [
    {
     "ename": "ERROR",
     "evalue": "Error in c(\"ADOR3\", \"TGFBR2\", \"F13A1\", \"STAB1\", \"CD163\", \"MARCO\", \"IL17RB\", : could not find function \"%>%\"\n",
     "output_type": "error",
     "traceback": [
      "Error in c(\"ADOR3\", \"TGFBR2\", \"F13A1\", \"STAB1\", \"CD163\", \"MARCO\", \"IL17RB\", : could not find function \"%>%\"\nTraceback:\n"
     ]
    }
   ],
   "source": [
    "new_M2 <- c(\"ADOR3\", \"TGFBR2\", \"F13A1\", \"STAB1\", \"CD163\", \"MARCO\", \"IL17RB\", \"ALOX5AP\", \"ALOX5AP\",\n",
    "            \"IL4R\", \"IL10\", \"CD200R1\", \"ALOX15\", \"TGM2\", \"MRC1\", \"CCL17\", \"CCL13\", \"CCL4\", \"TG\",\n",
    "            \"MMP12\", \"MMP1\", \"TGFB1\", \"FN1\", \"F13A1\", \"CCL18\") %>% unique()"
   ]
  },
  {
   "cell_type": "markdown",
   "id": "6a2aa28f",
   "metadata": {},
   "source": [
    "# plot some gene expression"
   ]
  },
  {
   "cell_type": "code",
   "execution_count": null,
   "id": "25d0124e",
   "metadata": {},
   "outputs": [],
   "source": []
  },
  {
   "cell_type": "code",
   "execution_count": null,
   "id": "8502a26a",
   "metadata": {},
   "outputs": [],
   "source": []
  },
  {
   "cell_type": "code",
   "execution_count": null,
   "id": "89f07474",
   "metadata": {},
   "outputs": [],
   "source": []
  }
 ],
 "metadata": {
  "kernelspec": {
   "display_name": "R4.2",
   "language": "R",
   "name": "ir4.2"
  },
  "language_info": {
   "codemirror_mode": "r",
   "file_extension": ".r",
   "mimetype": "text/x-r-source",
   "name": "R",
   "pygments_lexer": "r",
   "version": "4.2.0"
  },
  "toc": {
   "base_numbering": 1,
   "nav_menu": {},
   "number_sections": true,
   "sideBar": true,
   "skip_h1_title": false,
   "title_cell": "Table of Contents",
   "title_sidebar": "Contents",
   "toc_cell": false,
   "toc_position": {
    "height": "calc(100% - 180px)",
    "left": "10px",
    "top": "150px",
    "width": "384px"
   },
   "toc_section_display": true,
   "toc_window_display": true
  }
 },
 "nbformat": 4,
 "nbformat_minor": 5
}
